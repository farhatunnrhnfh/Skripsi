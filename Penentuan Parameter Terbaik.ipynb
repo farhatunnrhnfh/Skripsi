{
  "nbformat": 4,
  "nbformat_minor": 0,
  "metadata": {
    "accelerator": "GPU",
    "colab": {
      "name": "Skripsi - Penentuan Parameter Terbaik.ipynb",
      "provenance": [],
      "collapsed_sections": []
    },
    "kernelspec": {
      "display_name": "Python 3",
      "language": "python",
      "name": "python3"
    },
    "language_info": {
      "codemirror_mode": {
        "name": "ipython",
        "version": 3
      },
      "file_extension": ".py",
      "mimetype": "text/x-python",
      "name": "python",
      "nbconvert_exporter": "python",
      "pygments_lexer": "ipython3",
      "version": "3.6.5"
    }
  },
  "cells": [
    {
      "cell_type": "code",
      "metadata": {
        "colab": {
          "base_uri": "https://localhost:8080/"
        },
        "id": "3-NcXKGt-npW",
        "outputId": "93666e0e-2541-4be3-a9b5-6383649177e9"
      },
      "source": [
        "pip install talos"
      ],
      "execution_count": null,
      "outputs": [
        {
          "output_type": "stream",
          "text": [
            "Requirement already satisfied: talos in /usr/local/lib/python3.6/dist-packages (1.0)\n",
            "Requirement already satisfied: kerasplotlib in /usr/local/lib/python3.6/dist-packages (from talos) (0.1.6)\n",
            "Requirement already satisfied: astetik in /usr/local/lib/python3.6/dist-packages (from talos) (1.11.1)\n",
            "Requirement already satisfied: wrangle in /usr/local/lib/python3.6/dist-packages (from talos) (0.6.7)\n",
            "Requirement already satisfied: chances in /usr/local/lib/python3.6/dist-packages (from talos) (0.1.9)\n",
            "Requirement already satisfied: pandas in /usr/local/lib/python3.6/dist-packages (from talos) (1.1.4)\n",
            "Requirement already satisfied: statsmodels>=0.11.0 in /usr/local/lib/python3.6/dist-packages (from talos) (0.12.1)\n",
            "Requirement already satisfied: requests in /usr/local/lib/python3.6/dist-packages (from talos) (2.23.0)\n",
            "Requirement already satisfied: numpy in /usr/local/lib/python3.6/dist-packages (from talos) (1.18.5)\n",
            "Requirement already satisfied: sklearn in /usr/local/lib/python3.6/dist-packages (from talos) (0.0)\n",
            "Requirement already satisfied: tensorflow>=2.0.0 in /usr/local/lib/python3.6/dist-packages (from talos) (2.3.0)\n",
            "Requirement already satisfied: tqdm in /usr/local/lib/python3.6/dist-packages (from talos) (4.41.1)\n",
            "Requirement already satisfied: ipython in /usr/local/lib/python3.6/dist-packages (from kerasplotlib->talos) (5.5.0)\n",
            "Requirement already satisfied: seaborn in /usr/local/lib/python3.6/dist-packages (from astetik->talos) (0.11.0)\n",
            "Requirement already satisfied: patsy in /usr/local/lib/python3.6/dist-packages (from astetik->talos) (0.5.1)\n",
            "Requirement already satisfied: geonamescache in /usr/local/lib/python3.6/dist-packages (from astetik->talos) (1.2.0)\n",
            "Collecting scipy==1.2\n",
            "\u001b[?25l  Downloading https://files.pythonhosted.org/packages/67/e6/6d4edaceee6a110ecf6f318482f5229792f143e468b34a631f5a0899f56d/scipy-1.2.0-cp36-cp36m-manylinux1_x86_64.whl (26.6MB)\n",
            "\u001b[K     |████████████████████████████████| 26.6MB 119kB/s \n",
            "\u001b[?25hRequirement already satisfied: keras in /usr/local/lib/python3.6/dist-packages (from wrangle->talos) (2.4.3)\n",
            "Requirement already satisfied: pytz>=2017.2 in /usr/local/lib/python3.6/dist-packages (from pandas->talos) (2018.9)\n",
            "Requirement already satisfied: python-dateutil>=2.7.3 in /usr/local/lib/python3.6/dist-packages (from pandas->talos) (2.8.1)\n",
            "Requirement already satisfied: idna<3,>=2.5 in /usr/local/lib/python3.6/dist-packages (from requests->talos) (2.10)\n",
            "Requirement already satisfied: urllib3!=1.25.0,!=1.25.1,<1.26,>=1.21.1 in /usr/local/lib/python3.6/dist-packages (from requests->talos) (1.24.3)\n",
            "Requirement already satisfied: certifi>=2017.4.17 in /usr/local/lib/python3.6/dist-packages (from requests->talos) (2020.11.8)\n",
            "Requirement already satisfied: chardet<4,>=3.0.2 in /usr/local/lib/python3.6/dist-packages (from requests->talos) (3.0.4)\n",
            "Requirement already satisfied: scikit-learn in /usr/local/lib/python3.6/dist-packages (from sklearn->talos) (0.22.2.post1)\n",
            "Requirement already satisfied: keras-preprocessing<1.2,>=1.1.1 in /usr/local/lib/python3.6/dist-packages (from tensorflow>=2.0.0->talos) (1.1.2)\n",
            "Requirement already satisfied: absl-py>=0.7.0 in /usr/local/lib/python3.6/dist-packages (from tensorflow>=2.0.0->talos) (0.10.0)\n",
            "Requirement already satisfied: astunparse==1.6.3 in /usr/local/lib/python3.6/dist-packages (from tensorflow>=2.0.0->talos) (1.6.3)\n",
            "Requirement already satisfied: termcolor>=1.1.0 in /usr/local/lib/python3.6/dist-packages (from tensorflow>=2.0.0->talos) (1.1.0)\n",
            "Requirement already satisfied: wheel>=0.26 in /usr/local/lib/python3.6/dist-packages (from tensorflow>=2.0.0->talos) (0.35.1)\n",
            "Requirement already satisfied: six>=1.12.0 in /usr/local/lib/python3.6/dist-packages (from tensorflow>=2.0.0->talos) (1.15.0)\n",
            "Requirement already satisfied: tensorboard<3,>=2.3.0 in /usr/local/lib/python3.6/dist-packages (from tensorflow>=2.0.0->talos) (2.3.0)\n",
            "Requirement already satisfied: tensorflow-estimator<2.4.0,>=2.3.0 in /usr/local/lib/python3.6/dist-packages (from tensorflow>=2.0.0->talos) (2.3.0)\n",
            "Requirement already satisfied: protobuf>=3.9.2 in /usr/local/lib/python3.6/dist-packages (from tensorflow>=2.0.0->talos) (3.12.4)\n",
            "Requirement already satisfied: wrapt>=1.11.1 in /usr/local/lib/python3.6/dist-packages (from tensorflow>=2.0.0->talos) (1.12.1)\n",
            "Requirement already satisfied: google-pasta>=0.1.8 in /usr/local/lib/python3.6/dist-packages (from tensorflow>=2.0.0->talos) (0.2.0)\n",
            "Requirement already satisfied: opt-einsum>=2.3.2 in /usr/local/lib/python3.6/dist-packages (from tensorflow>=2.0.0->talos) (3.3.0)\n",
            "Requirement already satisfied: h5py<2.11.0,>=2.10.0 in /usr/local/lib/python3.6/dist-packages (from tensorflow>=2.0.0->talos) (2.10.0)\n",
            "Requirement already satisfied: grpcio>=1.8.6 in /usr/local/lib/python3.6/dist-packages (from tensorflow>=2.0.0->talos) (1.33.2)\n",
            "Requirement already satisfied: gast==0.3.3 in /usr/local/lib/python3.6/dist-packages (from tensorflow>=2.0.0->talos) (0.3.3)\n",
            "Requirement already satisfied: pygments in /usr/local/lib/python3.6/dist-packages (from ipython->kerasplotlib->talos) (2.6.1)\n",
            "Requirement already satisfied: pickleshare in /usr/local/lib/python3.6/dist-packages (from ipython->kerasplotlib->talos) (0.7.5)\n",
            "Requirement already satisfied: simplegeneric>0.8 in /usr/local/lib/python3.6/dist-packages (from ipython->kerasplotlib->talos) (0.8.1)\n",
            "Requirement already satisfied: pexpect; sys_platform != \"win32\" in /usr/local/lib/python3.6/dist-packages (from ipython->kerasplotlib->talos) (4.8.0)\n",
            "Requirement already satisfied: setuptools>=18.5 in /usr/local/lib/python3.6/dist-packages (from ipython->kerasplotlib->talos) (50.3.2)\n",
            "Requirement already satisfied: traitlets>=4.2 in /usr/local/lib/python3.6/dist-packages (from ipython->kerasplotlib->talos) (4.3.3)\n",
            "Requirement already satisfied: decorator in /usr/local/lib/python3.6/dist-packages (from ipython->kerasplotlib->talos) (4.4.2)\n",
            "Requirement already satisfied: prompt-toolkit<2.0.0,>=1.0.4 in /usr/local/lib/python3.6/dist-packages (from ipython->kerasplotlib->talos) (1.0.18)\n",
            "Requirement already satisfied: matplotlib>=2.2 in /usr/local/lib/python3.6/dist-packages (from seaborn->astetik->talos) (3.2.2)\n",
            "Requirement already satisfied: pyyaml in /usr/local/lib/python3.6/dist-packages (from keras->wrangle->talos) (3.13)\n",
            "Requirement already satisfied: joblib>=0.11 in /usr/local/lib/python3.6/dist-packages (from scikit-learn->sklearn->talos) (0.17.0)\n",
            "Requirement already satisfied: google-auth-oauthlib<0.5,>=0.4.1 in /usr/local/lib/python3.6/dist-packages (from tensorboard<3,>=2.3.0->tensorflow>=2.0.0->talos) (0.4.2)\n",
            "Requirement already satisfied: werkzeug>=0.11.15 in /usr/local/lib/python3.6/dist-packages (from tensorboard<3,>=2.3.0->tensorflow>=2.0.0->talos) (1.0.1)\n",
            "Requirement already satisfied: google-auth<2,>=1.6.3 in /usr/local/lib/python3.6/dist-packages (from tensorboard<3,>=2.3.0->tensorflow>=2.0.0->talos) (1.17.2)\n",
            "Requirement already satisfied: markdown>=2.6.8 in /usr/local/lib/python3.6/dist-packages (from tensorboard<3,>=2.3.0->tensorflow>=2.0.0->talos) (3.3.3)\n",
            "Requirement already satisfied: tensorboard-plugin-wit>=1.6.0 in /usr/local/lib/python3.6/dist-packages (from tensorboard<3,>=2.3.0->tensorflow>=2.0.0->talos) (1.7.0)\n",
            "Requirement already satisfied: ptyprocess>=0.5 in /usr/local/lib/python3.6/dist-packages (from pexpect; sys_platform != \"win32\"->ipython->kerasplotlib->talos) (0.6.0)\n",
            "Requirement already satisfied: ipython-genutils in /usr/local/lib/python3.6/dist-packages (from traitlets>=4.2->ipython->kerasplotlib->talos) (0.2.0)\n",
            "Requirement already satisfied: wcwidth in /usr/local/lib/python3.6/dist-packages (from prompt-toolkit<2.0.0,>=1.0.4->ipython->kerasplotlib->talos) (0.2.5)\n",
            "Requirement already satisfied: pyparsing!=2.0.4,!=2.1.2,!=2.1.6,>=2.0.1 in /usr/local/lib/python3.6/dist-packages (from matplotlib>=2.2->seaborn->astetik->talos) (2.4.7)\n",
            "Requirement already satisfied: cycler>=0.10 in /usr/local/lib/python3.6/dist-packages (from matplotlib>=2.2->seaborn->astetik->talos) (0.10.0)\n",
            "Requirement already satisfied: kiwisolver>=1.0.1 in /usr/local/lib/python3.6/dist-packages (from matplotlib>=2.2->seaborn->astetik->talos) (1.3.1)\n",
            "Requirement already satisfied: requests-oauthlib>=0.7.0 in /usr/local/lib/python3.6/dist-packages (from google-auth-oauthlib<0.5,>=0.4.1->tensorboard<3,>=2.3.0->tensorflow>=2.0.0->talos) (1.3.0)\n",
            "Requirement already satisfied: rsa<5,>=3.1.4; python_version >= \"3\" in /usr/local/lib/python3.6/dist-packages (from google-auth<2,>=1.6.3->tensorboard<3,>=2.3.0->tensorflow>=2.0.0->talos) (4.6)\n",
            "Requirement already satisfied: cachetools<5.0,>=2.0.0 in /usr/local/lib/python3.6/dist-packages (from google-auth<2,>=1.6.3->tensorboard<3,>=2.3.0->tensorflow>=2.0.0->talos) (4.1.1)\n",
            "Requirement already satisfied: pyasn1-modules>=0.2.1 in /usr/local/lib/python3.6/dist-packages (from google-auth<2,>=1.6.3->tensorboard<3,>=2.3.0->tensorflow>=2.0.0->talos) (0.2.8)\n",
            "Requirement already satisfied: importlib-metadata; python_version < \"3.8\" in /usr/local/lib/python3.6/dist-packages (from markdown>=2.6.8->tensorboard<3,>=2.3.0->tensorflow>=2.0.0->talos) (2.0.0)\n",
            "Requirement already satisfied: oauthlib>=3.0.0 in /usr/local/lib/python3.6/dist-packages (from requests-oauthlib>=0.7.0->google-auth-oauthlib<0.5,>=0.4.1->tensorboard<3,>=2.3.0->tensorflow>=2.0.0->talos) (3.1.0)\n",
            "Requirement already satisfied: pyasn1>=0.1.3 in /usr/local/lib/python3.6/dist-packages (from rsa<5,>=3.1.4; python_version >= \"3\"->google-auth<2,>=1.6.3->tensorboard<3,>=2.3.0->tensorflow>=2.0.0->talos) (0.4.8)\n",
            "Requirement already satisfied: zipp>=0.5 in /usr/local/lib/python3.6/dist-packages (from importlib-metadata; python_version < \"3.8\"->markdown>=2.6.8->tensorboard<3,>=2.3.0->tensorflow>=2.0.0->talos) (3.4.0)\n",
            "\u001b[31mERROR: umap-learn 0.4.6 has requirement scipy>=1.3.1, but you'll have scipy 1.2.0 which is incompatible.\u001b[0m\n",
            "\u001b[31mERROR: tensorflow 2.3.0 has requirement scipy==1.4.1, but you'll have scipy 1.2.0 which is incompatible.\u001b[0m\n",
            "\u001b[31mERROR: albumentations 0.1.12 has requirement imgaug<0.2.7,>=0.2.5, but you'll have imgaug 0.2.9 which is incompatible.\u001b[0m\n",
            "Installing collected packages: scipy\n",
            "  Found existing installation: scipy 1.4.1\n",
            "    Uninstalling scipy-1.4.1:\n",
            "      Successfully uninstalled scipy-1.4.1\n",
            "Successfully installed scipy-1.2.0\n"
          ],
          "name": "stdout"
        }
      ]
    },
    {
      "cell_type": "code",
      "metadata": {
        "id": "ON6x-c7PTx7Z"
      },
      "source": [
        "# Pemanggilan Pustaka\n",
        "import numpy as np\n",
        "import pandas as pd\n",
        "import re\n",
        "import tensorflow as tf\n",
        "import keras\n",
        "import matplotlib.pyplot as plt\n",
        "import talos \n",
        "from sklearn.model_selection import train_test_split\n",
        "from keras.optimizers import Adam, RMSprop\n",
        "from keras.activations import softmax, relu, tanh\n",
        "from talos.utils import lr_normalizer"
      ],
      "execution_count": null,
      "outputs": []
    },
    {
      "cell_type": "code",
      "metadata": {
        "colab": {
          "base_uri": "https://localhost:8080/"
        },
        "id": "TpG98vx5_ZKu",
        "outputId": "80022680-8580-467e-8b96-7a337ec854a5"
      },
      "source": [
        "from google.colab import drive\n",
        "drive.mount('/content/drive')"
      ],
      "execution_count": null,
      "outputs": [
        {
          "output_type": "stream",
          "text": [
            "Drive already mounted at /content/drive; to attempt to forcibly remount, call drive.mount(\"/content/drive\", force_remount=True).\n"
          ],
          "name": "stdout"
        }
      ]
    },
    {
      "cell_type": "code",
      "metadata": {
        "id": "0ZE0Giy2Tx7r"
      },
      "source": [
        "## Pendefinisian Modul Pembersihan Data\n",
        "list_baku = pd.read_csv(\"/content/drive/My Drive/Data/list_kata_baku.csv\", encoding='ISO-8859-1')\n",
        "\n",
        "#Cleaning data\n",
        "def clean_text(tweet): \n",
        "    # Convert to lower case\n",
        "    tweet = tweet.lower()\n",
        "    \n",
        "    # Clean www.* or https?://*\n",
        "    tweet = re.sub('((www\\.[^\\s]+)|(https?://[^\\s]+))','',tweet)\n",
        "    # Clean @username\n",
        "    tweet = re.sub('@[^\\s]+','',tweet)\n",
        "    #Replace #word with word\n",
        "    tweet = re.sub(r'#([^\\s]+)', r'\\1', tweet)\n",
        "    # Clean punctuation\n",
        "    tweet = re.sub(r\"[^\\w\\s]\",' ', tweet)\n",
        "    # Clean number\n",
        "    tweet = re.sub(r\"[\\d-]\",'', tweet)\n",
        "    #Remove additional white spaces\n",
        "    tweet = re.sub('[\\s]+', ' ', tweet)\n",
        "    #trim\n",
        "    #tweet = tweet.strip('\\'\"')\n",
        "\n",
        "    # Clean per Words\n",
        "    words = tweet.split()\n",
        "    tokens=[]\n",
        "    for ww in words:\n",
        "        #split repeated word\n",
        "        for w in re.split(r'[-/\\s]\\s*', ww):\n",
        "            #replace two or more with two occurrences\n",
        "            pattern = re.compile(r\"(.)\\1{1,}\", re.DOTALL)\n",
        "            w = pattern.sub(r\"\\1\\1\", w)\n",
        "            #check if the word cosists of two or more alphabets\n",
        "            val = re.search(r\"^[a-zA-Z][a-zA-Z][a-zA-Z]*$\", w)\n",
        "            #add tokens\n",
        "            if(w in list_baku):\n",
        "                x=np.array(list_baku[list_baku[\"spell\"]==w][\"word\"])\n",
        "                w=x[0]\n",
        "                tokens.append(w.lower())\n",
        "            elif(w == 'rt' or val is None):\n",
        "                continue\n",
        "            else:\n",
        "                tokens.append(w.lower())\n",
        "    tweet = \" \".join(tokens)\n",
        "    return tweet"
      ],
      "execution_count": null,
      "outputs": []
    },
    {
      "cell_type": "code",
      "metadata": {
        "id": "9CuzHaWzTx72"
      },
      "source": [
        "sd1 = pd.read_csv(\"/content/drive/My Drive/Data/Capres_skripsi.csv\", usecols=[\"Sentimen\", \"Teks\"], encoding='ISO-8859-1')\n",
        "\n",
        "sd1['Sentimen'] = sd1['Sentimen'].replace(-1,0)\n",
        "sd1['Teks'] = sd1['Teks'].map(lambda x: clean_text(x))\n",
        "sd1 = sd1[sd1['Teks'].apply(lambda x: len(x.split()) >=1)]\n",
        "\n",
        "tokenizer = keras.preprocessing.text.Tokenizer()\n",
        "tokenizer.fit_on_texts(sd1['Teks'])\n",
        "\n",
        "sequences = tokenizer.texts_to_sequences(sd1['Teks'])\n",
        "sd1_data = keras.preprocessing.sequence.pad_sequences(sequences, maxlen=80)\n",
        "sd1_labels = np.array(sd1['Sentimen'])\n",
        "sd1_labels = pd.get_dummies(sd1_labels)\n",
        "\n",
        "sd1_data_train, sd1_data_test, sd1_labels_train, sd1_labels_test = train_test_split(sd1_data, sd1_labels, test_size=0.2, random_state=42, stratify= sd1_labels)"
      ],
      "execution_count": null,
      "outputs": []
    },
    {
      "cell_type": "code",
      "metadata": {
        "colab": {
          "base_uri": "https://localhost:8080/"
        },
        "id": "fOBV712eX-XK",
        "outputId": "3aca541c-0b74-4d69-df1c-57c42944df22"
      },
      "source": [
        "sd1_data_train.shape"
      ],
      "execution_count": null,
      "outputs": [
        {
          "output_type": "execute_result",
          "data": {
            "text/plain": [
              "(1508, 80)"
            ]
          },
          "metadata": {
            "tags": []
          },
          "execution_count": 6
        }
      ]
    },
    {
      "cell_type": "code",
      "metadata": {
        "id": "XV0gyFL5Tx8S"
      },
      "source": [
        "vocabulary_size = len(tokenizer.word_index) + 1 \n",
        "sequence_length = sd1_data.shape[1]                   \n",
        "batch_size      = 32 \n",
        "epochs          = 150      "
      ],
      "execution_count": null,
      "outputs": []
    },
    {
      "cell_type": "code",
      "metadata": {
        "id": "tcSJVcYxTx8X"
      },
      "source": [
        "talos_optimal_CNN=pd.DataFrame(columns=['epochs_optimal','val_loss_optimal','val_acc_optimal'])\n",
        "def CNN_model(x_train, y_train, x_test, y_test, params):\n",
        "    checkpoint_filepath = 'C:/Users/DSGroupUI/Desktop/SKRIPSI FARHA/SKRIPSI/Program/CNN'\n",
        "    model_checkpoint_callback = tf.keras.callbacks.ModelCheckpoint(filepath=checkpoint_filepath,\n",
        "                                                                   save_weights_only=True,\n",
        "                                                                   monitor='val_loss',\n",
        "                                                                   mode='min',\n",
        "                                                                   save_best_only=True)\n",
        "    inputs = keras.layers.Input(shape=(sequence_length,))\n",
        "    embedding = keras.layers.Embedding(vocabulary_size, params['embd_size'])(inputs)\n",
        "    conv = keras.layers.Conv1D(params['filter'], params['region_size'], activation='relu',kernel_regularizer=keras.regularizers.l2(params['l2_cnn']))(embedding)\n",
        "    pool = keras.layers.GlobalMaxPooling1D()(conv)\n",
        "    output = keras.layers.Dense(2, activation='softmax',kernel_regularizer= keras.regularizers.l2(params['l2_dense']))(pool)\n",
        "    model  = keras.models.Model(inputs=inputs, outputs=output)\n",
        "    model.compile(optimizer=Adam(1e-4),\n",
        "              loss='categorical_crossentropy',\n",
        "              metrics=['accuracy'])\n",
        "    output = model.fit(x_train, \n",
        "                    y_train, \n",
        "                    epochs=epochs, \n",
        "                    batch_size=batch_size,\n",
        "                    validation_data=(x_test, y_test),\n",
        "                    verbose=0,\n",
        "                    callbacks=[model_checkpoint_callback])\n",
        "    model.load_weights(checkpoint_filepath)\n",
        "    epoch = int(output.history['val_loss'].index(min(output.history['val_loss']))+1)\n",
        "    loss, acc = model.evaluate(x_test, y_test)\n",
        "    talos_optimal_CNN.loc[len(talos_optimal_CNN)] = [epoch,loss,acc]\n",
        "    return output, model"
      ],
      "execution_count": null,
      "outputs": []
    },
    {
      "cell_type": "code",
      "metadata": {
        "id": "51h7UHtmTx8d"
      },
      "source": [
        "p1 = {'embd_size':[64,100,128],\n",
        "      'filter':[200,250,300],\n",
        "      'region_size':[3,4,5],\n",
        "      'l2_cnn':[0.001,0.01],\n",
        "      'l2_dense':[0.001,0.01]}"
      ],
      "execution_count": null,
      "outputs": []
    },
    {
      "cell_type": "code",
      "metadata": {
        "colab": {
          "background_save": true,
          "base_uri": "https://localhost:8080/"
        },
        "id": "0sIPaEDdTx8i",
        "outputId": "b6b0ecd2-0b77-432c-8312-787590f7e112"
      },
      "source": [
        "scan_object = talos.Scan(x=sd1_data_train,\n",
        "                         y=sd1_labels_train,\n",
        "                         params=p1,\n",
        "                         model=CNN_model,\n",
        "                         experiment_name='CNN_model',\n",
        "                         x_val= sd1_data_test,\n",
        "                         y_val= sd1_labels_test,\n",
        "                         fraction_limit=0.1,\n",
        "                         random_method= 'quantum')"
      ],
      "execution_count": null,
      "outputs": [
        {
          "output_type": "stream",
          "text": [
            "\r  0%|          | 0/10 [00:00<?, ?it/s]"
          ],
          "name": "stderr"
        },
        {
          "output_type": "stream",
          "text": [
            "12/12 [==============================] - 0s 7ms/step - loss: 0.3856 - accuracy: 0.8753\n"
          ],
          "name": "stdout"
        },
        {
          "output_type": "stream",
          "text": [
            "\r 10%|█         | 1/10 [02:58<26:42, 178.10s/it]"
          ],
          "name": "stderr"
        },
        {
          "output_type": "stream",
          "text": [
            "12/12 [==============================] - 0s 15ms/step - loss: 0.3680 - accuracy: 0.8621\n"
          ],
          "name": "stdout"
        },
        {
          "output_type": "stream",
          "text": [
            "\r 20%|██        | 2/10 [11:23<36:49, 276.22s/it]"
          ],
          "name": "stderr"
        },
        {
          "output_type": "stream",
          "text": [
            "12/12 [==============================] - 0s 6ms/step - loss: 0.3982 - accuracy: 0.8594\n"
          ],
          "name": "stdout"
        },
        {
          "output_type": "stream",
          "text": [
            "\r 30%|███       | 3/10 [13:58<27:58, 239.82s/it]"
          ],
          "name": "stderr"
        },
        {
          "output_type": "stream",
          "text": [
            "12/12 [==============================] - 0s 8ms/step - loss: 0.3484 - accuracy: 0.8621\n"
          ],
          "name": "stdout"
        },
        {
          "output_type": "stream",
          "text": [
            "\r 40%|████      | 4/10 [17:28<23:05, 230.90s/it]"
          ],
          "name": "stderr"
        },
        {
          "output_type": "stream",
          "text": [
            "12/12 [==============================] - 0s 11ms/step - loss: 0.4026 - accuracy: 0.8647\n"
          ],
          "name": "stdout"
        },
        {
          "output_type": "stream",
          "text": [
            "\r 50%|█████     | 5/10 [23:21<22:17, 267.46s/it]"
          ],
          "name": "stderr"
        },
        {
          "output_type": "stream",
          "text": [
            "12/12 [==============================] - 0s 13ms/step - loss: 0.3602 - accuracy: 0.8674\n"
          ],
          "name": "stdout"
        },
        {
          "output_type": "stream",
          "text": [
            "\r 60%|██████    | 6/10 [30:18<20:49, 312.46s/it]"
          ],
          "name": "stderr"
        },
        {
          "output_type": "stream",
          "text": [
            "12/12 [==============================] - 0s 7ms/step - loss: 0.4165 - accuracy: 0.8568\n"
          ],
          "name": "stdout"
        },
        {
          "output_type": "stream",
          "text": [
            "\r 70%|███████   | 7/10 [33:16<13:36, 272.15s/it]"
          ],
          "name": "stderr"
        },
        {
          "output_type": "stream",
          "text": [
            "12/12 [==============================] - 0s 7ms/step - loss: 0.3883 - accuracy: 0.8700\n"
          ],
          "name": "stdout"
        },
        {
          "output_type": "stream",
          "text": [
            "\r 80%|████████  | 8/10 [36:18<08:10, 245.11s/it]"
          ],
          "name": "stderr"
        },
        {
          "output_type": "stream",
          "text": [
            "12/12 [==============================] - 0s 10ms/step - loss: 0.3895 - accuracy: 0.8674\n"
          ],
          "name": "stdout"
        },
        {
          "output_type": "stream",
          "text": [
            "\r 90%|█████████ | 9/10 [41:57<04:33, 273.31s/it]"
          ],
          "name": "stderr"
        },
        {
          "output_type": "stream",
          "text": [
            "12/12 [==============================] - 0s 12ms/step - loss: 0.3854 - accuracy: 0.8647\n"
          ],
          "name": "stdout"
        },
        {
          "output_type": "stream",
          "text": [
            "100%|██████████| 10/10 [48:42<00:00, 292.23s/it]\n"
          ],
          "name": "stderr"
        }
      ]
    },
    {
      "cell_type": "code",
      "metadata": {
        "colab": {
          "base_uri": "https://localhost:8080/",
          "height": 531
        },
        "id": "PwlBw0Z4Tx8o",
        "outputId": "06480fca-4c2c-42c2-f98c-a93e6ce41c6f"
      },
      "source": [
        "hasil_CNN = pd.concat([scan_object.data,talos_optimal_CNN],axis=1)\n",
        "hasil_CNN.sort_values('val_loss_optimal')"
      ],
      "execution_count": null,
      "outputs": [
        {
          "output_type": "execute_result",
          "data": {
            "text/html": [
              "<div>\n",
              "<style scoped>\n",
              "    .dataframe tbody tr th:only-of-type {\n",
              "        vertical-align: middle;\n",
              "    }\n",
              "\n",
              "    .dataframe tbody tr th {\n",
              "        vertical-align: top;\n",
              "    }\n",
              "\n",
              "    .dataframe thead th {\n",
              "        text-align: right;\n",
              "    }\n",
              "</style>\n",
              "<table border=\"1\" class=\"dataframe\">\n",
              "  <thead>\n",
              "    <tr style=\"text-align: right;\">\n",
              "      <th></th>\n",
              "      <th>start</th>\n",
              "      <th>end</th>\n",
              "      <th>duration</th>\n",
              "      <th>round_epochs</th>\n",
              "      <th>loss</th>\n",
              "      <th>accuracy</th>\n",
              "      <th>val_loss</th>\n",
              "      <th>val_accuracy</th>\n",
              "      <th>embd_size</th>\n",
              "      <th>filter</th>\n",
              "      <th>l2_cnn</th>\n",
              "      <th>l2_dense</th>\n",
              "      <th>region_size</th>\n",
              "      <th>epochs_optimal</th>\n",
              "      <th>val_loss_optimal</th>\n",
              "      <th>val_acc_optimal</th>\n",
              "    </tr>\n",
              "  </thead>\n",
              "  <tbody>\n",
              "    <tr>\n",
              "      <th>7</th>\n",
              "      <td>11/26/20-105655</td>\n",
              "      <td>11/26/20-105802</td>\n",
              "      <td>66.992679</td>\n",
              "      <td>150</td>\n",
              "      <td>0.056004</td>\n",
              "      <td>0.996684</td>\n",
              "      <td>0.359595</td>\n",
              "      <td>0.864721</td>\n",
              "      <td>128</td>\n",
              "      <td>300</td>\n",
              "      <td>0.010</td>\n",
              "      <td>0.001</td>\n",
              "      <td>5</td>\n",
              "      <td>112.0</td>\n",
              "      <td>0.355254</td>\n",
              "      <td>0.864721</td>\n",
              "    </tr>\n",
              "    <tr>\n",
              "      <th>9</th>\n",
              "      <td>11/26/20-105903</td>\n",
              "      <td>11/26/20-110002</td>\n",
              "      <td>58.666491</td>\n",
              "      <td>150</td>\n",
              "      <td>0.057751</td>\n",
              "      <td>0.997347</td>\n",
              "      <td>0.361480</td>\n",
              "      <td>0.864721</td>\n",
              "      <td>100</td>\n",
              "      <td>200</td>\n",
              "      <td>0.001</td>\n",
              "      <td>0.010</td>\n",
              "      <td>5</td>\n",
              "      <td>134.0</td>\n",
              "      <td>0.359313</td>\n",
              "      <td>0.870027</td>\n",
              "    </tr>\n",
              "    <tr>\n",
              "      <th>4</th>\n",
              "      <td>11/26/20-105406</td>\n",
              "      <td>11/26/20-105509</td>\n",
              "      <td>62.503014</td>\n",
              "      <td>150</td>\n",
              "      <td>0.027449</td>\n",
              "      <td>0.997347</td>\n",
              "      <td>0.392894</td>\n",
              "      <td>0.864721</td>\n",
              "      <td>128</td>\n",
              "      <td>200</td>\n",
              "      <td>0.001</td>\n",
              "      <td>0.001</td>\n",
              "      <td>5</td>\n",
              "      <td>63.0</td>\n",
              "      <td>0.360390</td>\n",
              "      <td>0.877984</td>\n",
              "    </tr>\n",
              "    <tr>\n",
              "      <th>8</th>\n",
              "      <td>11/26/20-105803</td>\n",
              "      <td>11/26/20-105903</td>\n",
              "      <td>60.310956</td>\n",
              "      <td>150</td>\n",
              "      <td>0.028611</td>\n",
              "      <td>0.997347</td>\n",
              "      <td>0.383769</td>\n",
              "      <td>0.846154</td>\n",
              "      <td>100</td>\n",
              "      <td>300</td>\n",
              "      <td>0.001</td>\n",
              "      <td>0.001</td>\n",
              "      <td>4</td>\n",
              "      <td>55.0</td>\n",
              "      <td>0.371215</td>\n",
              "      <td>0.859416</td>\n",
              "    </tr>\n",
              "    <tr>\n",
              "      <th>6</th>\n",
              "      <td>11/26/20-105608</td>\n",
              "      <td>11/26/20-105655</td>\n",
              "      <td>47.676387</td>\n",
              "      <td>150</td>\n",
              "      <td>0.031819</td>\n",
              "      <td>0.998011</td>\n",
              "      <td>0.380491</td>\n",
              "      <td>0.862069</td>\n",
              "      <td>64</td>\n",
              "      <td>200</td>\n",
              "      <td>0.001</td>\n",
              "      <td>0.001</td>\n",
              "      <td>5</td>\n",
              "      <td>65.0</td>\n",
              "      <td>0.371949</td>\n",
              "      <td>0.864721</td>\n",
              "    </tr>\n",
              "    <tr>\n",
              "      <th>1</th>\n",
              "      <td>11/26/20-105107</td>\n",
              "      <td>11/26/20-105210</td>\n",
              "      <td>63.414753</td>\n",
              "      <td>150</td>\n",
              "      <td>0.060763</td>\n",
              "      <td>0.995358</td>\n",
              "      <td>0.388880</td>\n",
              "      <td>0.864721</td>\n",
              "      <td>128</td>\n",
              "      <td>300</td>\n",
              "      <td>0.010</td>\n",
              "      <td>0.001</td>\n",
              "      <td>3</td>\n",
              "      <td>67.0</td>\n",
              "      <td>0.382999</td>\n",
              "      <td>0.870027</td>\n",
              "    </tr>\n",
              "    <tr>\n",
              "      <th>2</th>\n",
              "      <td>11/26/20-105210</td>\n",
              "      <td>11/26/20-105304</td>\n",
              "      <td>54.074642</td>\n",
              "      <td>150</td>\n",
              "      <td>0.029176</td>\n",
              "      <td>0.998011</td>\n",
              "      <td>0.413842</td>\n",
              "      <td>0.854111</td>\n",
              "      <td>100</td>\n",
              "      <td>200</td>\n",
              "      <td>0.001</td>\n",
              "      <td>0.001</td>\n",
              "      <td>4</td>\n",
              "      <td>54.0</td>\n",
              "      <td>0.388231</td>\n",
              "      <td>0.862069</td>\n",
              "    </tr>\n",
              "    <tr>\n",
              "      <th>0</th>\n",
              "      <td>11/26/20-105006</td>\n",
              "      <td>11/26/20-105107</td>\n",
              "      <td>60.374964</td>\n",
              "      <td>150</td>\n",
              "      <td>0.029659</td>\n",
              "      <td>0.997347</td>\n",
              "      <td>0.397905</td>\n",
              "      <td>0.856764</td>\n",
              "      <td>100</td>\n",
              "      <td>300</td>\n",
              "      <td>0.001</td>\n",
              "      <td>0.001</td>\n",
              "      <td>3</td>\n",
              "      <td>60.0</td>\n",
              "      <td>0.391110</td>\n",
              "      <td>0.856764</td>\n",
              "    </tr>\n",
              "    <tr>\n",
              "      <th>3</th>\n",
              "      <td>11/26/20-105305</td>\n",
              "      <td>11/26/20-105406</td>\n",
              "      <td>61.444889</td>\n",
              "      <td>150</td>\n",
              "      <td>0.055656</td>\n",
              "      <td>0.997347</td>\n",
              "      <td>0.392692</td>\n",
              "      <td>0.859416</td>\n",
              "      <td>128</td>\n",
              "      <td>200</td>\n",
              "      <td>0.001</td>\n",
              "      <td>0.010</td>\n",
              "      <td>3</td>\n",
              "      <td>144.0</td>\n",
              "      <td>0.392491</td>\n",
              "      <td>0.862069</td>\n",
              "    </tr>\n",
              "    <tr>\n",
              "      <th>5</th>\n",
              "      <td>11/26/20-105509</td>\n",
              "      <td>11/26/20-105607</td>\n",
              "      <td>58.721493</td>\n",
              "      <td>150</td>\n",
              "      <td>0.064193</td>\n",
              "      <td>0.995358</td>\n",
              "      <td>0.404204</td>\n",
              "      <td>0.854111</td>\n",
              "      <td>100</td>\n",
              "      <td>300</td>\n",
              "      <td>0.010</td>\n",
              "      <td>0.001</td>\n",
              "      <td>3</td>\n",
              "      <td>65.0</td>\n",
              "      <td>0.400294</td>\n",
              "      <td>0.854111</td>\n",
              "    </tr>\n",
              "  </tbody>\n",
              "</table>\n",
              "</div>"
            ],
            "text/plain": [
              "             start              end  ...  val_loss_optimal  val_acc_optimal\n",
              "7  11/26/20-105655  11/26/20-105802  ...          0.355254         0.864721\n",
              "9  11/26/20-105903  11/26/20-110002  ...          0.359313         0.870027\n",
              "4  11/26/20-105406  11/26/20-105509  ...          0.360390         0.877984\n",
              "8  11/26/20-105803  11/26/20-105903  ...          0.371215         0.859416\n",
              "6  11/26/20-105608  11/26/20-105655  ...          0.371949         0.864721\n",
              "1  11/26/20-105107  11/26/20-105210  ...          0.382999         0.870027\n",
              "2  11/26/20-105210  11/26/20-105304  ...          0.388231         0.862069\n",
              "0  11/26/20-105006  11/26/20-105107  ...          0.391110         0.856764\n",
              "3  11/26/20-105305  11/26/20-105406  ...          0.392491         0.862069\n",
              "5  11/26/20-105509  11/26/20-105607  ...          0.400294         0.854111\n",
              "\n",
              "[10 rows x 16 columns]"
            ]
          },
          "metadata": {
            "tags": []
          },
          "execution_count": 11
        }
      ]
    },
    {
      "cell_type": "code",
      "metadata": {
        "id": "hHTnkx7KTx8t"
      },
      "source": [
        "talos_optimal_LSTM=pd.DataFrame(columns=['epochs_optimal','val_loss_optimal','val_acc_optimal'])\n",
        "def LSTM_model(x_train, y_train, x_test, y_test, params):\n",
        "    checkpoint_filepath = 'C:/Users/DSGroupUI/Desktop/SKRIPSI FARHA/SKRIPSI/Program/LSTM'\n",
        "    model_checkpoint_callback = tf.keras.callbacks.ModelCheckpoint(\n",
        "    filepath=checkpoint_filepath,\n",
        "    save_weights_only=True,\n",
        "    monitor='val_loss',\n",
        "    mode='min',\n",
        "    save_best_only=True)\n",
        "    inputs = keras.layers.Input(shape=(sequence_length,))\n",
        "    embedding = keras.layers.Embedding(vocabulary_size, params['embd_size'])(inputs)\n",
        "    LSTM = keras.layers.LSTM(params['units'],kernel_regularizer= keras.regularizers.l2(params['l2_ker']), \n",
        "                              recurrent_regularizer= keras.regularizers.l2(params['l2_rec']))(embedding)\n",
        "    output = keras.layers.Dense(2, activation='softmax',kernel_regularizer= keras.regularizers.l2(params['l2_dense']))(LSTM)\n",
        "    model  = keras.models.Model(inputs=inputs, outputs=output)\n",
        "    model.compile(optimizer=Adam(1e-4),\n",
        "              loss='categorical_crossentropy',\n",
        "              metrics=['accuracy'])\n",
        "    output = model.fit(x_train, \n",
        "                    y_train, \n",
        "                    epochs=epochs, \n",
        "                    batch_size=batch_size,\n",
        "                    validation_data=(x_test, y_test),\n",
        "                    verbose=0,\n",
        "                    callbacks=[model_checkpoint_callback])\n",
        "    model.load_weights(checkpoint_filepath)\n",
        "    epoch = int(output.history['val_loss'].index(min(output.history['val_loss']))+1)\n",
        "    loss, acc = model.evaluate(x_test, y_test)\n",
        "    talos_optimal_LSTM.loc[len(talos_optimal_LSTM)] = [epoch,loss,acc]\n",
        "    return output, model"
      ],
      "execution_count": null,
      "outputs": []
    },
    {
      "cell_type": "code",
      "metadata": {
        "id": "TqstrRbeTx8x"
      },
      "source": [
        "p2 = {'embd_size':[64,100,128],\n",
        "      'units':[100,150,200],\n",
        "      'l2_ker':[0.001,0.01],\n",
        "      'l2_rec':[0.001,0.01],\n",
        "      'l2_dense':[0.001,0.01]}"
      ],
      "execution_count": null,
      "outputs": []
    },
    {
      "cell_type": "code",
      "metadata": {
        "colab": {
          "base_uri": "https://localhost:8080/"
        },
        "id": "PJ5wNjKNTx83",
        "outputId": "8d1b69f6-d6e0-4815-ec60-4e5bb6979866"
      },
      "source": [
        "scan_object2 = talos.Scan(x=sd1_data_train,\n",
        "                         y=sd1_labels_train,\n",
        "                         params=p2,\n",
        "                         model=LSTM_model,\n",
        "                         experiment_name='LSTM_model',\n",
        "                         x_val= sd1_data_test,\n",
        "                         y_val= sd1_labels_test,\n",
        "                         fraction_limit=0.1,\n",
        "                         random_method= 'quantum')"
      ],
      "execution_count": null,
      "outputs": [
        {
          "output_type": "stream",
          "text": [
            "\r  0%|          | 0/7 [00:00<?, ?it/s]"
          ],
          "name": "stderr"
        },
        {
          "output_type": "stream",
          "text": [
            "12/12 [==============================] - 0s 4ms/step - loss: 0.4149 - accuracy: 0.8568\n"
          ],
          "name": "stdout"
        },
        {
          "output_type": "stream",
          "text": [
            "\r 14%|█▍        | 1/7 [01:10<07:02, 70.40s/it]"
          ],
          "name": "stderr"
        },
        {
          "output_type": "stream",
          "text": [
            "12/12 [==============================] - 0s 4ms/step - loss: 0.4631 - accuracy: 0.8408\n"
          ],
          "name": "stdout"
        },
        {
          "output_type": "stream",
          "text": [
            "\r 29%|██▊       | 2/7 [02:19<05:49, 69.91s/it]"
          ],
          "name": "stderr"
        },
        {
          "output_type": "stream",
          "text": [
            "12/12 [==============================] - 0s 4ms/step - loss: 0.4691 - accuracy: 0.8329\n"
          ],
          "name": "stdout"
        },
        {
          "output_type": "stream",
          "text": [
            "\r 43%|████▎     | 3/7 [03:36<04:48, 72.23s/it]"
          ],
          "name": "stderr"
        },
        {
          "output_type": "stream",
          "text": [
            "12/12 [==============================] - 0s 4ms/step - loss: 0.4779 - accuracy: 0.8408\n"
          ],
          "name": "stdout"
        },
        {
          "output_type": "stream",
          "text": [
            "\r 57%|█████▋    | 4/7 [04:54<03:41, 73.92s/it]"
          ],
          "name": "stderr"
        },
        {
          "output_type": "stream",
          "text": [
            "12/12 [==============================] - 0s 4ms/step - loss: 0.4371 - accuracy: 0.8674\n"
          ],
          "name": "stdout"
        },
        {
          "output_type": "stream",
          "text": [
            "\r 71%|███████▏  | 5/7 [06:20<02:35, 77.59s/it]"
          ],
          "name": "stderr"
        },
        {
          "output_type": "stream",
          "text": [
            "12/12 [==============================] - 0s 4ms/step - loss: 0.4615 - accuracy: 0.8594\n"
          ],
          "name": "stdout"
        },
        {
          "output_type": "stream",
          "text": [
            "\r 86%|████████▌ | 6/7 [07:40<01:18, 78.08s/it]"
          ],
          "name": "stderr"
        },
        {
          "output_type": "stream",
          "text": [
            "12/12 [==============================] - 0s 4ms/step - loss: 0.5026 - accuracy: 0.8541\n"
          ],
          "name": "stdout"
        },
        {
          "output_type": "stream",
          "text": [
            "100%|██████████| 7/7 [09:05<00:00, 77.95s/it]\n"
          ],
          "name": "stderr"
        }
      ]
    },
    {
      "cell_type": "code",
      "metadata": {
        "colab": {
          "base_uri": "https://localhost:8080/",
          "height": 392
        },
        "id": "raIDKPJCTx86",
        "outputId": "9643fd85-eb18-4e5f-83d1-8c67497b8eee"
      },
      "source": [
        "hasil_LSTM = pd.concat([scan_object2.data,talos_optimal_LSTM],axis=1)\n",
        "hasil_LSTM.sort_values('val_loss_optimal')"
      ],
      "execution_count": null,
      "outputs": [
        {
          "output_type": "execute_result",
          "data": {
            "text/html": [
              "<div>\n",
              "<style scoped>\n",
              "    .dataframe tbody tr th:only-of-type {\n",
              "        vertical-align: middle;\n",
              "    }\n",
              "\n",
              "    .dataframe tbody tr th {\n",
              "        vertical-align: top;\n",
              "    }\n",
              "\n",
              "    .dataframe thead th {\n",
              "        text-align: right;\n",
              "    }\n",
              "</style>\n",
              "<table border=\"1\" class=\"dataframe\">\n",
              "  <thead>\n",
              "    <tr style=\"text-align: right;\">\n",
              "      <th></th>\n",
              "      <th>start</th>\n",
              "      <th>end</th>\n",
              "      <th>duration</th>\n",
              "      <th>round_epochs</th>\n",
              "      <th>loss</th>\n",
              "      <th>accuracy</th>\n",
              "      <th>val_loss</th>\n",
              "      <th>val_accuracy</th>\n",
              "      <th>embd_size</th>\n",
              "      <th>l2_dense</th>\n",
              "      <th>l2_ker</th>\n",
              "      <th>l2_rec</th>\n",
              "      <th>units</th>\n",
              "      <th>epochs_optimal</th>\n",
              "      <th>val_loss_optimal</th>\n",
              "      <th>val_acc_optimal</th>\n",
              "    </tr>\n",
              "  </thead>\n",
              "  <tbody>\n",
              "    <tr>\n",
              "      <th>0</th>\n",
              "      <td>11/26/20-110003</td>\n",
              "      <td>11/26/20-110113</td>\n",
              "      <td>70.259511</td>\n",
              "      <td>150</td>\n",
              "      <td>0.045042</td>\n",
              "      <td>0.998011</td>\n",
              "      <td>0.662526</td>\n",
              "      <td>0.848806</td>\n",
              "      <td>64</td>\n",
              "      <td>0.001</td>\n",
              "      <td>0.001</td>\n",
              "      <td>0.001</td>\n",
              "      <td>200</td>\n",
              "      <td>20.0</td>\n",
              "      <td>0.414932</td>\n",
              "      <td>0.856764</td>\n",
              "    </tr>\n",
              "    <tr>\n",
              "      <th>4</th>\n",
              "      <td>11/26/20-110457</td>\n",
              "      <td>11/26/20-110623</td>\n",
              "      <td>85.957874</td>\n",
              "      <td>150</td>\n",
              "      <td>0.058730</td>\n",
              "      <td>0.998011</td>\n",
              "      <td>0.509944</td>\n",
              "      <td>0.862069</td>\n",
              "      <td>128</td>\n",
              "      <td>0.010</td>\n",
              "      <td>0.001</td>\n",
              "      <td>0.010</td>\n",
              "      <td>100</td>\n",
              "      <td>93.0</td>\n",
              "      <td>0.437084</td>\n",
              "      <td>0.867374</td>\n",
              "    </tr>\n",
              "    <tr>\n",
              "      <th>5</th>\n",
              "      <td>11/26/20-110623</td>\n",
              "      <td>11/26/20-110742</td>\n",
              "      <td>79.053521</td>\n",
              "      <td>150</td>\n",
              "      <td>0.072266</td>\n",
              "      <td>0.996684</td>\n",
              "      <td>0.588253</td>\n",
              "      <td>0.856764</td>\n",
              "      <td>100</td>\n",
              "      <td>0.010</td>\n",
              "      <td>0.001</td>\n",
              "      <td>0.001</td>\n",
              "      <td>200</td>\n",
              "      <td>80.0</td>\n",
              "      <td>0.461514</td>\n",
              "      <td>0.859416</td>\n",
              "    </tr>\n",
              "    <tr>\n",
              "      <th>1</th>\n",
              "      <td>11/26/20-110113</td>\n",
              "      <td>11/26/20-110222</td>\n",
              "      <td>68.603365</td>\n",
              "      <td>150</td>\n",
              "      <td>0.036996</td>\n",
              "      <td>0.998674</td>\n",
              "      <td>0.497484</td>\n",
              "      <td>0.880637</td>\n",
              "      <td>64</td>\n",
              "      <td>0.001</td>\n",
              "      <td>0.001</td>\n",
              "      <td>0.010</td>\n",
              "      <td>100</td>\n",
              "      <td>131.0</td>\n",
              "      <td>0.463072</td>\n",
              "      <td>0.840849</td>\n",
              "    </tr>\n",
              "    <tr>\n",
              "      <th>2</th>\n",
              "      <td>11/26/20-110222</td>\n",
              "      <td>11/26/20-110339</td>\n",
              "      <td>77.456944</td>\n",
              "      <td>150</td>\n",
              "      <td>0.075623</td>\n",
              "      <td>0.997347</td>\n",
              "      <td>0.568671</td>\n",
              "      <td>0.851459</td>\n",
              "      <td>100</td>\n",
              "      <td>0.010</td>\n",
              "      <td>0.001</td>\n",
              "      <td>0.001</td>\n",
              "      <td>200</td>\n",
              "      <td>122.0</td>\n",
              "      <td>0.469062</td>\n",
              "      <td>0.832891</td>\n",
              "    </tr>\n",
              "    <tr>\n",
              "      <th>3</th>\n",
              "      <td>11/26/20-110339</td>\n",
              "      <td>11/26/20-110457</td>\n",
              "      <td>77.654306</td>\n",
              "      <td>150</td>\n",
              "      <td>0.056089</td>\n",
              "      <td>0.997347</td>\n",
              "      <td>0.660038</td>\n",
              "      <td>0.843501</td>\n",
              "      <td>100</td>\n",
              "      <td>0.001</td>\n",
              "      <td>0.010</td>\n",
              "      <td>0.001</td>\n",
              "      <td>150</td>\n",
              "      <td>41.0</td>\n",
              "      <td>0.477933</td>\n",
              "      <td>0.840849</td>\n",
              "    </tr>\n",
              "    <tr>\n",
              "      <th>6</th>\n",
              "      <td>11/26/20-110743</td>\n",
              "      <td>11/26/20-110908</td>\n",
              "      <td>85.406888</td>\n",
              "      <td>150</td>\n",
              "      <td>0.083381</td>\n",
              "      <td>0.994695</td>\n",
              "      <td>0.623016</td>\n",
              "      <td>0.854111</td>\n",
              "      <td>128</td>\n",
              "      <td>0.010</td>\n",
              "      <td>0.010</td>\n",
              "      <td>0.001</td>\n",
              "      <td>100</td>\n",
              "      <td>102.0</td>\n",
              "      <td>0.502600</td>\n",
              "      <td>0.854111</td>\n",
              "    </tr>\n",
              "  </tbody>\n",
              "</table>\n",
              "</div>"
            ],
            "text/plain": [
              "             start              end  ...  val_loss_optimal  val_acc_optimal\n",
              "0  11/26/20-110003  11/26/20-110113  ...          0.414932         0.856764\n",
              "4  11/26/20-110457  11/26/20-110623  ...          0.437084         0.867374\n",
              "5  11/26/20-110623  11/26/20-110742  ...          0.461514         0.859416\n",
              "1  11/26/20-110113  11/26/20-110222  ...          0.463072         0.840849\n",
              "2  11/26/20-110222  11/26/20-110339  ...          0.469062         0.832891\n",
              "3  11/26/20-110339  11/26/20-110457  ...          0.477933         0.840849\n",
              "6  11/26/20-110743  11/26/20-110908  ...          0.502600         0.854111\n",
              "\n",
              "[7 rows x 16 columns]"
            ]
          },
          "metadata": {
            "tags": []
          },
          "execution_count": 15
        }
      ]
    },
    {
      "cell_type": "code",
      "metadata": {
        "id": "d2DZ-0sqTx89"
      },
      "source": [
        "talos_optimal_CNNLSTM=pd.DataFrame(columns=['epochs_optimal','val_loss_optimal','val_acc_optimal'])\n",
        "def CNNLSTM_model(x_train, y_train, x_test, y_test, params):\n",
        "    checkpoint_filepath = 'C:/Users/DSGroupUI/Desktop/SKRIPSI FARHA/SKRIPSI/Program/CNNLSTM'\n",
        "    model_checkpoint_callback = tf.keras.callbacks.ModelCheckpoint(\n",
        "    filepath=checkpoint_filepath,\n",
        "    save_weights_only=True,\n",
        "    monitor='val_loss',\n",
        "    mode='min',\n",
        "    save_best_only=True)\n",
        "    inputs = keras.layers.Input(shape=(sequence_length,))\n",
        "    embedding = keras.layers.Embedding(vocabulary_size, params['embd_size'])(inputs)\n",
        "    conv = keras.layers.Conv1D(params['filter'], params['region_size'], activation='relu',kernel_regularizer= keras.regularizers.l2(params['l2_cnn']))(embedding)\n",
        "    pool = keras.layers.MaxPooling1D(2)(conv)\n",
        "    LSTM = keras.layers.LSTM(params['units'],kernel_regularizer= keras.regularizers.l2(params['l2_ker']), \n",
        "                              recurrent_regularizer= keras.regularizers.l2(params['l2_rec']))(pool)\n",
        "    output = keras.layers.Dense(2, activation='softmax',kernel_regularizer= keras.regularizers.l2(params['l2_dense']))(LSTM)\n",
        "    model  = keras.models.Model(inputs=inputs, outputs=output)\n",
        "    model.compile(optimizer=Adam(lr=1e-4),\n",
        "              loss='categorical_crossentropy',\n",
        "              metrics=['accuracy'])\n",
        "    output = model.fit(x_train, \n",
        "                    y_train, \n",
        "                    epochs=epochs, \n",
        "                    batch_size=batch_size,\n",
        "                    validation_data=(x_test, y_test),\n",
        "                    verbose=0,\n",
        "                    callbacks=[model_checkpoint_callback])\n",
        "    model.load_weights(checkpoint_filepath)\n",
        "    epoch = int(output.history['val_loss'].index(min(output.history['val_loss']))+1)\n",
        "    loss, acc = model.evaluate(x_test, y_test)\n",
        "    talos_optimal_CNNLSTM.loc[len(talos_optimal_CNNLSTM)] = [epoch,loss,acc]\n",
        "    return output, model"
      ],
      "execution_count": null,
      "outputs": []
    },
    {
      "cell_type": "code",
      "metadata": {
        "id": "nyNSlx4VTx8_"
      },
      "source": [
        "p3 = {'embd_size':[64,100,128],\n",
        "      'units':[100,150,200],\n",
        "      'filter':[200,250,300],\n",
        "      'region_size':[3,4,5],\n",
        "      'l2_ker':[0.001,0.01],\n",
        "      'l2_rec':[0.001,0.01],\n",
        "      'l2_cnn':[0.001,0.01],\n",
        "      'l2_dense':[0.001,0.01]}"
      ],
      "execution_count": null,
      "outputs": []
    },
    {
      "cell_type": "code",
      "metadata": {
        "colab": {
          "background_save": true,
          "base_uri": "https://localhost:8080/"
        },
        "id": "irndzwA2Tx9B",
        "scrolled": false,
        "outputId": "2b41f219-0d05-468e-fabd-e1ba1d2f08b7"
      },
      "source": [
        "scan_object3 = talos.Scan(x=sd1_data_train,\n",
        "                         y=sd1_labels_train,\n",
        "                         params=p3,\n",
        "                         model=CNNLSTM_model,\n",
        "                         experiment_name='CNNLSTM_model',\n",
        "                         x_val= sd1_data_test,\n",
        "                         y_val= sd1_labels_test,\n",
        "                         fraction_limit=0.1,\n",
        "                         random_method= 'quantum')"
      ],
      "execution_count": null,
      "outputs": [
        {
          "output_type": "stream",
          "text": [
            "\r  0%|          | 0/129 [00:00<?, ?it/s]"
          ],
          "name": "stderr"
        },
        {
          "output_type": "stream",
          "text": [
            "12/12 [==============================] - 0s 3ms/step - loss: 0.5029 - accuracy: 0.8488\n"
          ],
          "name": "stdout"
        },
        {
          "output_type": "stream",
          "text": [
            "\r  1%|          | 1/129 [01:12<2:34:13, 72.29s/it]"
          ],
          "name": "stderr"
        },
        {
          "output_type": "stream",
          "text": [
            "12/12 [==============================] - 0s 3ms/step - loss: 0.5361 - accuracy: 0.8700\n"
          ],
          "name": "stdout"
        },
        {
          "output_type": "stream",
          "text": [
            "\r  2%|▏         | 2/129 [02:35<2:39:47, 75.49s/it]"
          ],
          "name": "stderr"
        },
        {
          "output_type": "stream",
          "text": [
            "12/12 [==============================] - 0s 4ms/step - loss: 0.4740 - accuracy: 0.8621\n"
          ],
          "name": "stdout"
        },
        {
          "output_type": "stream",
          "text": [
            "\r  2%|▏         | 3/129 [03:40<2:32:14, 72.49s/it]"
          ],
          "name": "stderr"
        },
        {
          "output_type": "stream",
          "text": [
            "12/12 [==============================] - 0s 3ms/step - loss: 0.4464 - accuracy: 0.8594\n"
          ],
          "name": "stdout"
        },
        {
          "output_type": "stream",
          "text": [
            "\r  3%|▎         | 4/129 [04:55<2:32:41, 73.29s/it]"
          ],
          "name": "stderr"
        },
        {
          "output_type": "stream",
          "text": [
            "12/12 [==============================] - 0s 3ms/step - loss: 0.5314 - accuracy: 0.8568\n"
          ],
          "name": "stdout"
        },
        {
          "output_type": "stream",
          "text": [
            "\r  4%|▍         | 5/129 [06:08<2:31:00, 73.07s/it]"
          ],
          "name": "stderr"
        },
        {
          "output_type": "stream",
          "text": [
            "12/12 [==============================] - 0s 3ms/step - loss: 0.4702 - accuracy: 0.8488\n"
          ],
          "name": "stdout"
        },
        {
          "output_type": "stream",
          "text": [
            "\r  5%|▍         | 6/129 [07:30<2:35:25, 75.81s/it]"
          ],
          "name": "stderr"
        },
        {
          "output_type": "stream",
          "text": [
            "12/12 [==============================] - 0s 3ms/step - loss: 0.4612 - accuracy: 0.8568\n"
          ],
          "name": "stdout"
        },
        {
          "output_type": "stream",
          "text": [
            "\r  5%|▌         | 7/129 [08:53<2:38:13, 77.81s/it]"
          ],
          "name": "stderr"
        },
        {
          "output_type": "stream",
          "text": [
            "12/12 [==============================] - 0s 3ms/step - loss: 0.5056 - accuracy: 0.8541\n"
          ],
          "name": "stdout"
        },
        {
          "output_type": "stream",
          "text": [
            "\r  6%|▌         | 8/129 [10:11<2:37:27, 78.08s/it]"
          ],
          "name": "stderr"
        },
        {
          "output_type": "stream",
          "text": [
            "12/12 [==============================] - 0s 3ms/step - loss: 0.5039 - accuracy: 0.8647\n"
          ],
          "name": "stdout"
        },
        {
          "output_type": "stream",
          "text": [
            "\r  7%|▋         | 9/129 [11:24<2:32:38, 76.32s/it]"
          ],
          "name": "stderr"
        },
        {
          "output_type": "stream",
          "text": [
            "12/12 [==============================] - 0s 3ms/step - loss: 0.5183 - accuracy: 0.8621\n"
          ],
          "name": "stdout"
        },
        {
          "output_type": "stream",
          "text": [
            "\r  8%|▊         | 10/129 [12:42<2:32:53, 77.09s/it]"
          ],
          "name": "stderr"
        },
        {
          "output_type": "stream",
          "text": [
            "12/12 [==============================] - 0s 3ms/step - loss: 0.5475 - accuracy: 0.8462\n"
          ],
          "name": "stdout"
        },
        {
          "output_type": "stream",
          "text": [
            "\r  9%|▊         | 11/129 [13:56<2:29:38, 76.09s/it]"
          ],
          "name": "stderr"
        },
        {
          "output_type": "stream",
          "text": [
            "12/12 [==============================] - 0s 3ms/step - loss: 0.5383 - accuracy: 0.8594\n"
          ],
          "name": "stdout"
        },
        {
          "output_type": "stream",
          "text": [
            "\r  9%|▉         | 12/129 [15:16<2:30:46, 77.32s/it]"
          ],
          "name": "stderr"
        },
        {
          "output_type": "stream",
          "text": [
            "12/12 [==============================] - 0s 3ms/step - loss: 0.5069 - accuracy: 0.8700\n"
          ],
          "name": "stdout"
        },
        {
          "output_type": "stream",
          "text": [
            "\r 10%|█         | 13/129 [16:37<2:31:24, 78.32s/it]"
          ],
          "name": "stderr"
        },
        {
          "output_type": "stream",
          "text": [
            "12/12 [==============================] - 0s 3ms/step - loss: 0.5216 - accuracy: 0.8541\n"
          ],
          "name": "stdout"
        },
        {
          "output_type": "stream",
          "text": [
            "\r 11%|█         | 14/129 [17:50<2:26:53, 76.64s/it]"
          ],
          "name": "stderr"
        },
        {
          "output_type": "stream",
          "text": [
            "12/12 [==============================] - 0s 3ms/step - loss: 0.5249 - accuracy: 0.8488\n"
          ],
          "name": "stdout"
        },
        {
          "output_type": "stream",
          "text": [
            "\r 12%|█▏        | 15/129 [19:03<2:23:25, 75.49s/it]"
          ],
          "name": "stderr"
        },
        {
          "output_type": "stream",
          "text": [
            "12/12 [==============================] - 0s 3ms/step - loss: 0.5426 - accuracy: 0.8594\n"
          ],
          "name": "stdout"
        },
        {
          "output_type": "stream",
          "text": [
            "\r 12%|█▏        | 16/129 [20:25<2:25:50, 77.44s/it]"
          ],
          "name": "stderr"
        },
        {
          "output_type": "stream",
          "text": [
            "12/12 [==============================] - 0s 3ms/step - loss: 0.4398 - accuracy: 0.8727\n"
          ],
          "name": "stdout"
        },
        {
          "output_type": "stream",
          "text": [
            "\r 13%|█▎        | 17/129 [21:44<2:25:53, 78.16s/it]"
          ],
          "name": "stderr"
        },
        {
          "output_type": "stream",
          "text": [
            "12/12 [==============================] - 0s 3ms/step - loss: 0.4617 - accuracy: 0.8488\n"
          ],
          "name": "stdout"
        },
        {
          "output_type": "stream",
          "text": [
            "\r 14%|█▍        | 18/129 [22:59<2:22:42, 77.14s/it]"
          ],
          "name": "stderr"
        },
        {
          "output_type": "stream",
          "text": [
            "12/12 [==============================] - 0s 3ms/step - loss: 0.5433 - accuracy: 0.8647\n"
          ],
          "name": "stdout"
        },
        {
          "output_type": "stream",
          "text": [
            "\r 15%|█▍        | 19/129 [24:05<2:14:59, 73.63s/it]"
          ],
          "name": "stderr"
        },
        {
          "output_type": "stream",
          "text": [
            "12/12 [==============================] - 0s 4ms/step - loss: 0.5499 - accuracy: 0.8594\n"
          ],
          "name": "stdout"
        },
        {
          "output_type": "stream",
          "text": [
            "\r 16%|█▌        | 20/129 [25:20<2:14:44, 74.17s/it]"
          ],
          "name": "stderr"
        },
        {
          "output_type": "stream",
          "text": [
            "12/12 [==============================] - 0s 4ms/step - loss: 0.4420 - accuracy: 0.8594\n"
          ],
          "name": "stdout"
        },
        {
          "output_type": "stream",
          "text": [
            "\r 16%|█▋        | 21/129 [26:36<2:14:19, 74.62s/it]"
          ],
          "name": "stderr"
        },
        {
          "output_type": "stream",
          "text": [
            "12/12 [==============================] - 0s 3ms/step - loss: 0.5488 - accuracy: 0.8647\n"
          ],
          "name": "stdout"
        },
        {
          "output_type": "stream",
          "text": [
            "\r 17%|█▋        | 22/129 [27:55<2:15:39, 76.07s/it]"
          ],
          "name": "stderr"
        },
        {
          "output_type": "stream",
          "text": [
            "12/12 [==============================] - 0s 3ms/step - loss: 0.5260 - accuracy: 0.8568\n"
          ],
          "name": "stdout"
        },
        {
          "output_type": "stream",
          "text": [
            "\r 18%|█▊        | 23/129 [29:04<2:10:37, 73.94s/it]"
          ],
          "name": "stderr"
        },
        {
          "output_type": "stream",
          "text": [
            "12/12 [==============================] - 0s 4ms/step - loss: 0.4674 - accuracy: 0.8753\n"
          ],
          "name": "stdout"
        },
        {
          "output_type": "stream",
          "text": [
            "\r 19%|█▊        | 24/129 [30:29<2:14:54, 77.09s/it]"
          ],
          "name": "stderr"
        },
        {
          "output_type": "stream",
          "text": [
            "12/12 [==============================] - 0s 3ms/step - loss: 0.4605 - accuracy: 0.8727\n"
          ],
          "name": "stdout"
        },
        {
          "output_type": "stream",
          "text": [
            "\r 19%|█▉        | 25/129 [31:37<2:09:01, 74.44s/it]"
          ],
          "name": "stderr"
        },
        {
          "output_type": "stream",
          "text": [
            "12/12 [==============================] - 0s 3ms/step - loss: 0.4703 - accuracy: 0.8647\n"
          ],
          "name": "stdout"
        },
        {
          "output_type": "stream",
          "text": [
            "\r 20%|██        | 26/129 [32:54<2:09:25, 75.39s/it]"
          ],
          "name": "stderr"
        },
        {
          "output_type": "stream",
          "text": [
            "12/12 [==============================] - 0s 3ms/step - loss: 0.4186 - accuracy: 0.8647\n"
          ],
          "name": "stdout"
        },
        {
          "output_type": "stream",
          "text": [
            "\r 21%|██        | 27/129 [34:05<2:05:31, 73.84s/it]"
          ],
          "name": "stderr"
        },
        {
          "output_type": "stream",
          "text": [
            "12/12 [==============================] - 0s 3ms/step - loss: 0.4624 - accuracy: 0.8488\n"
          ],
          "name": "stdout"
        },
        {
          "output_type": "stream",
          "text": [
            "\r 22%|██▏       | 28/129 [35:33<2:11:39, 78.21s/it]"
          ],
          "name": "stderr"
        },
        {
          "output_type": "stream",
          "text": [
            "12/12 [==============================] - 0s 3ms/step - loss: 0.5335 - accuracy: 0.8806\n"
          ],
          "name": "stdout"
        },
        {
          "output_type": "stream",
          "text": [
            "\r 22%|██▏       | 29/129 [36:42<2:05:28, 75.29s/it]"
          ],
          "name": "stderr"
        },
        {
          "output_type": "stream",
          "text": [
            "12/12 [==============================] - 0s 4ms/step - loss: 0.4338 - accuracy: 0.8621\n"
          ],
          "name": "stdout"
        },
        {
          "output_type": "stream",
          "text": [
            "\r 23%|██▎       | 30/129 [37:50<2:00:58, 73.31s/it]"
          ],
          "name": "stderr"
        },
        {
          "output_type": "stream",
          "text": [
            "12/12 [==============================] - 0s 4ms/step - loss: 0.4836 - accuracy: 0.8435\n"
          ],
          "name": "stdout"
        },
        {
          "output_type": "stream",
          "text": [
            "\r 24%|██▍       | 31/129 [39:09<2:02:24, 74.95s/it]"
          ],
          "name": "stderr"
        },
        {
          "output_type": "stream",
          "text": [
            "12/12 [==============================] - 0s 4ms/step - loss: 0.5051 - accuracy: 0.8488\n"
          ],
          "name": "stdout"
        },
        {
          "output_type": "stream",
          "text": [
            "\r 25%|██▍       | 32/129 [40:36<2:07:10, 78.66s/it]"
          ],
          "name": "stderr"
        },
        {
          "output_type": "stream",
          "text": [
            "12/12 [==============================] - 0s 3ms/step - loss: 0.5130 - accuracy: 0.8647\n"
          ],
          "name": "stdout"
        },
        {
          "output_type": "stream",
          "text": [
            "\r 26%|██▌       | 33/129 [41:44<2:00:36, 75.38s/it]"
          ],
          "name": "stderr"
        },
        {
          "output_type": "stream",
          "text": [
            "12/12 [==============================] - 0s 4ms/step - loss: 0.4966 - accuracy: 0.8408\n"
          ],
          "name": "stdout"
        },
        {
          "output_type": "stream",
          "text": [
            "\r 26%|██▋       | 34/129 [43:00<1:59:37, 75.55s/it]"
          ],
          "name": "stderr"
        },
        {
          "output_type": "stream",
          "text": [
            "12/12 [==============================] - 0s 4ms/step - loss: 0.5099 - accuracy: 0.8727\n"
          ],
          "name": "stdout"
        },
        {
          "output_type": "stream",
          "text": [
            "\r 27%|██▋       | 35/129 [44:26<2:03:29, 78.83s/it]"
          ],
          "name": "stderr"
        },
        {
          "output_type": "stream",
          "text": [
            "12/12 [==============================] - 0s 4ms/step - loss: 0.5087 - accuracy: 0.8488\n"
          ],
          "name": "stdout"
        },
        {
          "output_type": "stream",
          "text": [
            "\r 28%|██▊       | 36/129 [45:45<2:02:15, 78.88s/it]"
          ],
          "name": "stderr"
        },
        {
          "output_type": "stream",
          "text": [
            "12/12 [==============================] - 0s 3ms/step - loss: 0.4275 - accuracy: 0.8780\n"
          ],
          "name": "stdout"
        },
        {
          "output_type": "stream",
          "text": [
            "\r 29%|██▊       | 37/129 [46:55<1:56:41, 76.10s/it]"
          ],
          "name": "stderr"
        },
        {
          "output_type": "stream",
          "text": [
            "12/12 [==============================] - 0s 4ms/step - loss: 0.4412 - accuracy: 0.8700\n"
          ],
          "name": "stdout"
        },
        {
          "output_type": "stream",
          "text": [
            "\r 29%|██▉       | 38/129 [48:03<1:51:53, 73.78s/it]"
          ],
          "name": "stderr"
        },
        {
          "output_type": "stream",
          "text": [
            "12/12 [==============================] - 0s 3ms/step - loss: 0.4706 - accuracy: 0.8700\n"
          ],
          "name": "stdout"
        },
        {
          "output_type": "stream",
          "text": [
            "\r 30%|███       | 39/129 [49:12<1:48:17, 72.20s/it]"
          ],
          "name": "stderr"
        },
        {
          "output_type": "stream",
          "text": [
            "12/12 [==============================] - 0s 4ms/step - loss: 0.4575 - accuracy: 0.8541\n"
          ],
          "name": "stdout"
        },
        {
          "output_type": "stream",
          "text": [
            "\r 31%|███       | 40/129 [50:40<1:53:58, 76.83s/it]"
          ],
          "name": "stderr"
        },
        {
          "output_type": "stream",
          "text": [
            "12/12 [==============================] - 0s 4ms/step - loss: 0.5132 - accuracy: 0.8727\n"
          ],
          "name": "stdout"
        },
        {
          "output_type": "stream",
          "text": [
            "\r 32%|███▏      | 41/129 [51:57<1:53:01, 77.06s/it]"
          ],
          "name": "stderr"
        },
        {
          "output_type": "stream",
          "text": [
            "12/12 [==============================] - 0s 4ms/step - loss: 0.4702 - accuracy: 0.8568\n"
          ],
          "name": "stdout"
        },
        {
          "output_type": "stream",
          "text": [
            "\r 33%|███▎      | 42/129 [53:25<1:56:27, 80.32s/it]"
          ],
          "name": "stderr"
        },
        {
          "output_type": "stream",
          "text": [
            "12/12 [==============================] - 0s 4ms/step - loss: 0.5437 - accuracy: 0.8488\n"
          ],
          "name": "stdout"
        },
        {
          "output_type": "stream",
          "text": [
            "\r 33%|███▎      | 43/129 [54:34<1:50:01, 76.76s/it]"
          ],
          "name": "stderr"
        },
        {
          "output_type": "stream",
          "text": [
            "12/12 [==============================] - 0s 3ms/step - loss: 0.5417 - accuracy: 0.8435\n"
          ],
          "name": "stdout"
        },
        {
          "output_type": "stream",
          "text": [
            "\r 34%|███▍      | 44/129 [55:42<1:45:11, 74.26s/it]"
          ],
          "name": "stderr"
        },
        {
          "output_type": "stream",
          "text": [
            "12/12 [==============================] - 0s 4ms/step - loss: 0.5257 - accuracy: 0.8674\n"
          ],
          "name": "stdout"
        },
        {
          "output_type": "stream",
          "text": [
            "\r 35%|███▍      | 45/129 [57:08<1:48:48, 77.72s/it]"
          ],
          "name": "stderr"
        },
        {
          "output_type": "stream",
          "text": [
            "12/12 [==============================] - 0s 3ms/step - loss: 0.5169 - accuracy: 0.8647\n"
          ],
          "name": "stdout"
        },
        {
          "output_type": "stream",
          "text": [
            "\r 36%|███▌      | 46/129 [58:16<1:43:23, 74.74s/it]"
          ],
          "name": "stderr"
        },
        {
          "output_type": "stream",
          "text": [
            "12/12 [==============================] - 0s 4ms/step - loss: 0.5574 - accuracy: 0.8462\n"
          ],
          "name": "stdout"
        },
        {
          "output_type": "stream",
          "text": [
            "\r 36%|███▋      | 47/129 [59:39<1:45:29, 77.19s/it]"
          ],
          "name": "stderr"
        },
        {
          "output_type": "stream",
          "text": [
            "12/12 [==============================] - 0s 4ms/step - loss: 0.5320 - accuracy: 0.8753\n"
          ],
          "name": "stdout"
        },
        {
          "output_type": "stream",
          "text": [
            "\r 37%|███▋      | 48/129 [1:00:46<1:40:28, 74.42s/it]"
          ],
          "name": "stderr"
        },
        {
          "output_type": "stream",
          "text": [
            "12/12 [==============================] - 0s 4ms/step - loss: 0.5453 - accuracy: 0.8647\n"
          ],
          "name": "stdout"
        },
        {
          "output_type": "stream",
          "text": [
            "\r 38%|███▊      | 49/129 [1:02:04<1:40:35, 75.45s/it]"
          ],
          "name": "stderr"
        },
        {
          "output_type": "stream",
          "text": [
            "12/12 [==============================] - 0s 3ms/step - loss: 0.5133 - accuracy: 0.8568\n"
          ],
          "name": "stdout"
        },
        {
          "output_type": "stream",
          "text": [
            "\r 39%|███▉      | 50/129 [1:03:21<1:39:38, 75.67s/it]"
          ],
          "name": "stderr"
        },
        {
          "output_type": "stream",
          "text": [
            "12/12 [==============================] - 0s 3ms/step - loss: 0.4426 - accuracy: 0.8700\n"
          ],
          "name": "stdout"
        },
        {
          "output_type": "stream",
          "text": [
            "\r 40%|███▉      | 51/129 [1:04:30<1:35:49, 73.71s/it]"
          ],
          "name": "stderr"
        },
        {
          "output_type": "stream",
          "text": [
            "12/12 [==============================] - 0s 3ms/step - loss: 0.5928 - accuracy: 0.8568\n"
          ],
          "name": "stdout"
        },
        {
          "output_type": "stream",
          "text": [
            "\r 40%|████      | 52/129 [1:05:48<1:36:15, 75.00s/it]"
          ],
          "name": "stderr"
        },
        {
          "output_type": "stream",
          "text": [
            "12/12 [==============================] - 0s 4ms/step - loss: 0.4455 - accuracy: 0.8568\n"
          ],
          "name": "stdout"
        },
        {
          "output_type": "stream",
          "text": [
            "\r 41%|████      | 53/129 [1:07:15<1:39:47, 78.78s/it]"
          ],
          "name": "stderr"
        },
        {
          "output_type": "stream",
          "text": [
            "12/12 [==============================] - 0s 3ms/step - loss: 0.4677 - accuracy: 0.8674\n"
          ],
          "name": "stdout"
        },
        {
          "output_type": "stream",
          "text": [
            "\r 42%|████▏     | 54/129 [1:08:38<1:39:51, 79.89s/it]"
          ],
          "name": "stderr"
        },
        {
          "output_type": "stream",
          "text": [
            "12/12 [==============================] - 0s 3ms/step - loss: 0.4981 - accuracy: 0.8674\n"
          ],
          "name": "stdout"
        },
        {
          "output_type": "stream",
          "text": [
            "\r 43%|████▎     | 55/129 [1:09:46<1:34:11, 76.38s/it]"
          ],
          "name": "stderr"
        },
        {
          "output_type": "stream",
          "text": [
            "12/12 [==============================] - 0s 3ms/step - loss: 0.4709 - accuracy: 0.8462\n"
          ],
          "name": "stdout"
        },
        {
          "output_type": "stream",
          "text": [
            "\r 43%|████▎     | 56/129 [1:11:12<1:36:17, 79.14s/it]"
          ],
          "name": "stderr"
        },
        {
          "output_type": "stream",
          "text": [
            "12/12 [==============================] - 0s 3ms/step - loss: 0.4434 - accuracy: 0.8621\n"
          ],
          "name": "stdout"
        },
        {
          "output_type": "stream",
          "text": [
            "\r 44%|████▍     | 57/129 [1:12:16<1:29:51, 74.89s/it]"
          ],
          "name": "stderr"
        },
        {
          "output_type": "stream",
          "text": [
            "12/12 [==============================] - 0s 4ms/step - loss: 0.4417 - accuracy: 0.8727\n"
          ],
          "name": "stdout"
        },
        {
          "output_type": "stream",
          "text": [
            "\r 45%|████▍     | 58/129 [1:13:32<1:28:43, 74.97s/it]"
          ],
          "name": "stderr"
        },
        {
          "output_type": "stream",
          "text": [
            "12/12 [==============================] - 0s 4ms/step - loss: 0.4368 - accuracy: 0.8515\n"
          ],
          "name": "stdout"
        },
        {
          "output_type": "stream",
          "text": [
            "\r 46%|████▌     | 59/129 [1:14:39<1:24:52, 72.74s/it]"
          ],
          "name": "stderr"
        },
        {
          "output_type": "stream",
          "text": [
            "12/12 [==============================] - 0s 3ms/step - loss: 0.4575 - accuracy: 0.8753\n"
          ],
          "name": "stdout"
        },
        {
          "output_type": "stream",
          "text": [
            "\r 47%|████▋     | 60/129 [1:15:48<1:22:24, 71.66s/it]"
          ],
          "name": "stderr"
        },
        {
          "output_type": "stream",
          "text": [
            "12/12 [==============================] - 0s 4ms/step - loss: 0.4447 - accuracy: 0.8594\n"
          ],
          "name": "stdout"
        },
        {
          "output_type": "stream",
          "text": [
            "\r 47%|████▋     | 61/129 [1:17:16<1:26:37, 76.43s/it]"
          ],
          "name": "stderr"
        },
        {
          "output_type": "stream",
          "text": [
            "12/12 [==============================] - 0s 4ms/step - loss: 0.4373 - accuracy: 0.8621\n"
          ],
          "name": "stdout"
        },
        {
          "output_type": "stream",
          "text": [
            "\r 48%|████▊     | 62/129 [1:18:33<1:25:43, 76.77s/it]"
          ],
          "name": "stderr"
        },
        {
          "output_type": "stream",
          "text": [
            "12/12 [==============================] - 0s 3ms/step - loss: 0.5476 - accuracy: 0.8541\n"
          ],
          "name": "stdout"
        },
        {
          "output_type": "stream",
          "text": [
            "\r 49%|████▉     | 63/129 [1:19:40<1:21:01, 73.66s/it]"
          ],
          "name": "stderr"
        },
        {
          "output_type": "stream",
          "text": [
            "12/12 [==============================] - 0s 4ms/step - loss: 0.4413 - accuracy: 0.8700\n"
          ],
          "name": "stdout"
        },
        {
          "output_type": "stream",
          "text": [
            "\r 50%|████▉     | 64/129 [1:21:07<1:24:02, 77.58s/it]"
          ],
          "name": "stderr"
        },
        {
          "output_type": "stream",
          "text": [
            "12/12 [==============================] - 0s 3ms/step - loss: 0.4267 - accuracy: 0.8594\n"
          ],
          "name": "stdout"
        },
        {
          "output_type": "stream",
          "text": [
            "\r 50%|█████     | 65/129 [1:22:31<1:24:52, 79.57s/it]"
          ],
          "name": "stderr"
        },
        {
          "output_type": "stream",
          "text": [
            "12/12 [==============================] - 0s 3ms/step - loss: 0.5406 - accuracy: 0.8647\n"
          ],
          "name": "stdout"
        },
        {
          "output_type": "stream",
          "text": [
            "\r 51%|█████     | 66/129 [1:23:53<1:24:24, 80.39s/it]"
          ],
          "name": "stderr"
        },
        {
          "output_type": "stream",
          "text": [
            "12/12 [==============================] - 0s 4ms/step - loss: 0.4501 - accuracy: 0.8780\n"
          ],
          "name": "stdout"
        },
        {
          "output_type": "stream",
          "text": [
            "\r 52%|█████▏    | 67/129 [1:25:11<1:22:12, 79.56s/it]"
          ],
          "name": "stderr"
        },
        {
          "output_type": "stream",
          "text": [
            "12/12 [==============================] - 0s 4ms/step - loss: 0.4869 - accuracy: 0.8568\n"
          ],
          "name": "stdout"
        },
        {
          "output_type": "stream",
          "text": [
            "\r 53%|█████▎    | 68/129 [1:26:37<1:22:58, 81.61s/it]"
          ],
          "name": "stderr"
        },
        {
          "output_type": "stream",
          "text": [
            "12/12 [==============================] - 0s 4ms/step - loss: 0.5029 - accuracy: 0.8621\n"
          ],
          "name": "stdout"
        },
        {
          "output_type": "stream",
          "text": [
            "\r 53%|█████▎    | 69/129 [1:28:00<1:21:53, 81.89s/it]"
          ],
          "name": "stderr"
        },
        {
          "output_type": "stream",
          "text": [
            "12/12 [==============================] - 0s 3ms/step - loss: 0.4608 - accuracy: 0.8674\n"
          ],
          "name": "stdout"
        },
        {
          "output_type": "stream",
          "text": [
            "\r 54%|█████▍    | 70/129 [1:29:23<1:21:02, 82.42s/it]"
          ],
          "name": "stderr"
        },
        {
          "output_type": "stream",
          "text": [
            "12/12 [==============================] - 0s 3ms/step - loss: 0.5202 - accuracy: 0.8700\n"
          ],
          "name": "stdout"
        },
        {
          "output_type": "stream",
          "text": [
            "\r 55%|█████▌    | 71/129 [1:30:27<1:14:19, 76.89s/it]"
          ],
          "name": "stderr"
        },
        {
          "output_type": "stream",
          "text": [
            "12/12 [==============================] - 0s 3ms/step - loss: 0.5323 - accuracy: 0.8753\n"
          ],
          "name": "stdout"
        },
        {
          "output_type": "stream",
          "text": [
            "\r 56%|█████▌    | 72/129 [1:31:44<1:13:02, 76.88s/it]"
          ],
          "name": "stderr"
        },
        {
          "output_type": "stream",
          "text": [
            "12/12 [==============================] - 0s 4ms/step - loss: 0.4507 - accuracy: 0.8462\n"
          ],
          "name": "stdout"
        },
        {
          "output_type": "stream",
          "text": [
            "\r 57%|█████▋    | 73/129 [1:33:07<1:13:32, 78.79s/it]"
          ],
          "name": "stderr"
        },
        {
          "output_type": "stream",
          "text": [
            "12/12 [==============================] - 0s 3ms/step - loss: 0.4803 - accuracy: 0.8621\n"
          ],
          "name": "stdout"
        },
        {
          "output_type": "stream",
          "text": [
            "\r 57%|█████▋    | 74/129 [1:34:14<1:08:53, 75.16s/it]"
          ],
          "name": "stderr"
        },
        {
          "output_type": "stream",
          "text": [
            "12/12 [==============================] - 0s 3ms/step - loss: 0.4860 - accuracy: 0.8435\n"
          ],
          "name": "stdout"
        },
        {
          "output_type": "stream",
          "text": [
            "\r 58%|█████▊    | 75/129 [1:35:32<1:08:16, 75.86s/it]"
          ],
          "name": "stderr"
        },
        {
          "output_type": "stream",
          "text": [
            "12/12 [==============================] - 0s 4ms/step - loss: 0.5125 - accuracy: 0.8594\n"
          ],
          "name": "stdout"
        },
        {
          "output_type": "stream",
          "text": [
            "\r 59%|█████▉    | 76/129 [1:36:53<1:08:23, 77.43s/it]"
          ],
          "name": "stderr"
        },
        {
          "output_type": "stream",
          "text": [
            "12/12 [==============================] - 0s 4ms/step - loss: 0.5362 - accuracy: 0.8435\n"
          ],
          "name": "stdout"
        },
        {
          "output_type": "stream",
          "text": [
            "\r 60%|█████▉    | 77/129 [1:38:17<1:08:47, 79.37s/it]"
          ],
          "name": "stderr"
        },
        {
          "output_type": "stream",
          "text": [
            "12/12 [==============================] - 0s 3ms/step - loss: 0.4450 - accuracy: 0.8780\n"
          ],
          "name": "stdout"
        },
        {
          "output_type": "stream",
          "text": [
            "\r 60%|██████    | 78/129 [1:39:31<1:06:18, 78.02s/it]"
          ],
          "name": "stderr"
        },
        {
          "output_type": "stream",
          "text": [
            "12/12 [==============================] - 0s 3ms/step - loss: 0.5674 - accuracy: 0.8674\n"
          ],
          "name": "stdout"
        },
        {
          "output_type": "stream",
          "text": [
            "\r 61%|██████    | 79/129 [1:40:46<1:04:15, 77.10s/it]"
          ],
          "name": "stderr"
        },
        {
          "output_type": "stream",
          "text": [
            "12/12 [==============================] - 0s 3ms/step - loss: 0.5811 - accuracy: 0.8753\n"
          ],
          "name": "stdout"
        },
        {
          "output_type": "stream",
          "text": [
            "\r 62%|██████▏   | 80/129 [1:41:52<1:00:14, 73.77s/it]"
          ],
          "name": "stderr"
        },
        {
          "output_type": "stream",
          "text": [
            "12/12 [==============================] - 0s 3ms/step - loss: 0.5222 - accuracy: 0.8329\n"
          ],
          "name": "stdout"
        },
        {
          "output_type": "stream",
          "text": [
            "\r 63%|██████▎   | 81/129 [1:43:14<1:00:51, 76.08s/it]"
          ],
          "name": "stderr"
        },
        {
          "output_type": "stream",
          "text": [
            "12/12 [==============================] - 0s 3ms/step - loss: 0.4857 - accuracy: 0.8435\n"
          ],
          "name": "stdout"
        },
        {
          "output_type": "stream",
          "text": [
            "\r 64%|██████▎   | 82/129 [1:44:19<57:01, 72.80s/it]  "
          ],
          "name": "stderr"
        },
        {
          "output_type": "stream",
          "text": [
            "12/12 [==============================] - 0s 3ms/step - loss: 0.4722 - accuracy: 0.8700\n"
          ],
          "name": "stdout"
        },
        {
          "output_type": "stream",
          "text": [
            "\r 64%|██████▍   | 83/129 [1:45:35<56:32, 73.75s/it]"
          ],
          "name": "stderr"
        },
        {
          "output_type": "stream",
          "text": [
            "12/12 [==============================] - 0s 4ms/step - loss: 0.5252 - accuracy: 0.8727\n"
          ],
          "name": "stdout"
        },
        {
          "output_type": "stream",
          "text": [
            "\r 65%|██████▌   | 84/129 [1:46:59<57:36, 76.80s/it]"
          ],
          "name": "stderr"
        },
        {
          "output_type": "stream",
          "text": [
            "12/12 [==============================] - 0s 3ms/step - loss: 0.4660 - accuracy: 0.8541\n"
          ],
          "name": "stdout"
        },
        {
          "output_type": "stream",
          "text": [
            "\r 66%|██████▌   | 85/129 [1:48:23<57:49, 78.85s/it]"
          ],
          "name": "stderr"
        },
        {
          "output_type": "stream",
          "text": [
            "12/12 [==============================] - 0s 3ms/step - loss: 0.4487 - accuracy: 0.8727\n"
          ],
          "name": "stdout"
        },
        {
          "output_type": "stream",
          "text": [
            "\r 67%|██████▋   | 86/129 [1:49:29<53:44, 74.99s/it]"
          ],
          "name": "stderr"
        },
        {
          "output_type": "stream",
          "text": [
            "12/12 [==============================] - 0s 3ms/step - loss: 0.5169 - accuracy: 0.8621\n"
          ],
          "name": "stdout"
        },
        {
          "output_type": "stream",
          "text": [
            "\r 67%|██████▋   | 87/129 [1:50:33<50:13, 71.74s/it]"
          ],
          "name": "stderr"
        },
        {
          "output_type": "stream",
          "text": [
            "12/12 [==============================] - 0s 3ms/step - loss: 0.5234 - accuracy: 0.8594\n"
          ],
          "name": "stdout"
        },
        {
          "output_type": "stream",
          "text": [
            "\r 68%|██████▊   | 88/129 [1:51:54<51:04, 74.75s/it]"
          ],
          "name": "stderr"
        },
        {
          "output_type": "stream",
          "text": [
            "12/12 [==============================] - 0s 4ms/step - loss: 0.4775 - accuracy: 0.8621\n"
          ],
          "name": "stdout"
        },
        {
          "output_type": "stream",
          "text": [
            "\r 69%|██████▉   | 89/129 [1:53:15<50:53, 76.35s/it]"
          ],
          "name": "stderr"
        },
        {
          "output_type": "stream",
          "text": [
            "12/12 [==============================] - 0s 4ms/step - loss: 0.5577 - accuracy: 0.8621\n"
          ],
          "name": "stdout"
        },
        {
          "output_type": "stream",
          "text": [
            "\r 70%|██████▉   | 90/129 [1:54:36<50:36, 77.86s/it]"
          ],
          "name": "stderr"
        },
        {
          "output_type": "stream",
          "text": [
            "12/12 [==============================] - 0s 4ms/step - loss: 0.4429 - accuracy: 0.8621\n"
          ],
          "name": "stdout"
        },
        {
          "output_type": "stream",
          "text": [
            "\r 71%|███████   | 91/129 [1:55:59<50:12, 79.29s/it]"
          ],
          "name": "stderr"
        },
        {
          "output_type": "stream",
          "text": [
            "12/12 [==============================] - 0s 4ms/step - loss: 0.4574 - accuracy: 0.8727\n"
          ],
          "name": "stdout"
        },
        {
          "output_type": "stream",
          "text": [
            "\r 71%|███████▏  | 92/129 [1:57:18<48:59, 79.43s/it]"
          ],
          "name": "stderr"
        },
        {
          "output_type": "stream",
          "text": [
            "12/12 [==============================] - 0s 4ms/step - loss: 0.5323 - accuracy: 0.8594\n"
          ],
          "name": "stdout"
        },
        {
          "output_type": "stream",
          "text": [
            "\r 72%|███████▏  | 93/129 [1:58:44<48:44, 81.25s/it]"
          ],
          "name": "stderr"
        },
        {
          "output_type": "stream",
          "text": [
            "12/12 [==============================] - 0s 4ms/step - loss: 0.4421 - accuracy: 0.8674\n"
          ],
          "name": "stdout"
        },
        {
          "output_type": "stream",
          "text": [
            "\r 73%|███████▎  | 94/129 [2:00:10<48:17, 82.79s/it]"
          ],
          "name": "stderr"
        },
        {
          "output_type": "stream",
          "text": [
            "12/12 [==============================] - 0s 4ms/step - loss: 0.4370 - accuracy: 0.8727\n"
          ],
          "name": "stdout"
        },
        {
          "output_type": "stream",
          "text": [
            "\r 74%|███████▎  | 95/129 [2:01:35<47:14, 83.37s/it]"
          ],
          "name": "stderr"
        },
        {
          "output_type": "stream",
          "text": [
            "12/12 [==============================] - 0s 3ms/step - loss: 0.4706 - accuracy: 0.8647\n"
          ],
          "name": "stdout"
        },
        {
          "output_type": "stream",
          "text": [
            "\r 74%|███████▍  | 96/129 [2:02:43<43:20, 78.81s/it]"
          ],
          "name": "stderr"
        },
        {
          "output_type": "stream",
          "text": [
            "12/12 [==============================] - 0s 3ms/step - loss: 0.4474 - accuracy: 0.8753\n"
          ],
          "name": "stdout"
        },
        {
          "output_type": "stream",
          "text": [
            "\r 75%|███████▌  | 97/129 [2:04:02<41:59, 78.73s/it]"
          ],
          "name": "stderr"
        },
        {
          "output_type": "stream",
          "text": [
            "12/12 [==============================] - 0s 4ms/step - loss: 0.4753 - accuracy: 0.8594\n"
          ],
          "name": "stdout"
        },
        {
          "output_type": "stream",
          "text": [
            "\r 76%|███████▌  | 98/129 [2:05:21<40:44, 78.85s/it]"
          ],
          "name": "stderr"
        },
        {
          "output_type": "stream",
          "text": [
            "12/12 [==============================] - 0s 3ms/step - loss: 0.4639 - accuracy: 0.8674\n"
          ],
          "name": "stdout"
        },
        {
          "output_type": "stream",
          "text": [
            "\r 77%|███████▋  | 99/129 [2:06:31<38:05, 76.19s/it]"
          ],
          "name": "stderr"
        },
        {
          "output_type": "stream",
          "text": [
            "12/12 [==============================] - 0s 3ms/step - loss: 0.4546 - accuracy: 0.8621\n"
          ],
          "name": "stdout"
        },
        {
          "output_type": "stream",
          "text": [
            "\r 78%|███████▊  | 100/129 [2:07:41<35:55, 74.34s/it]"
          ],
          "name": "stderr"
        },
        {
          "output_type": "stream",
          "text": [
            "12/12 [==============================] - 0s 3ms/step - loss: 0.4928 - accuracy: 0.8541\n"
          ],
          "name": "stdout"
        },
        {
          "output_type": "stream",
          "text": [
            "\r 78%|███████▊  | 101/129 [2:08:57<34:58, 74.93s/it]"
          ],
          "name": "stderr"
        },
        {
          "output_type": "stream",
          "text": [
            "12/12 [==============================] - 0s 4ms/step - loss: 0.4560 - accuracy: 0.8568\n"
          ],
          "name": "stdout"
        },
        {
          "output_type": "stream",
          "text": [
            "\r 79%|███████▉  | 102/129 [2:10:22<35:04, 77.96s/it]"
          ],
          "name": "stderr"
        },
        {
          "output_type": "stream",
          "text": [
            "12/12 [==============================] - 0s 4ms/step - loss: 0.5144 - accuracy: 0.8753\n"
          ],
          "name": "stdout"
        },
        {
          "output_type": "stream",
          "text": [
            "\r 80%|███████▉  | 103/129 [2:11:46<34:36, 79.87s/it]"
          ],
          "name": "stderr"
        },
        {
          "output_type": "stream",
          "text": [
            "12/12 [==============================] - 0s 3ms/step - loss: 0.4141 - accuracy: 0.8647\n"
          ],
          "name": "stdout"
        },
        {
          "output_type": "stream",
          "text": [
            "\r 81%|████████  | 104/129 [2:12:56<31:59, 76.78s/it]"
          ],
          "name": "stderr"
        },
        {
          "output_type": "stream",
          "text": [
            "12/12 [==============================] - 0s 3ms/step - loss: 0.4376 - accuracy: 0.8753\n"
          ],
          "name": "stdout"
        },
        {
          "output_type": "stream",
          "text": [
            "\r 81%|████████▏ | 105/129 [2:14:22<31:49, 79.55s/it]"
          ],
          "name": "stderr"
        },
        {
          "output_type": "stream",
          "text": [
            "12/12 [==============================] - 0s 4ms/step - loss: 0.4343 - accuracy: 0.8700\n"
          ],
          "name": "stdout"
        },
        {
          "output_type": "stream",
          "text": [
            "\r 82%|████████▏ | 106/129 [2:15:30<29:09, 76.08s/it]"
          ],
          "name": "stderr"
        },
        {
          "output_type": "stream",
          "text": [
            "12/12 [==============================] - 0s 4ms/step - loss: 0.4236 - accuracy: 0.8727\n"
          ],
          "name": "stdout"
        },
        {
          "output_type": "stream",
          "text": [
            "\r 83%|████████▎ | 107/129 [2:16:53<28:41, 78.25s/it]"
          ],
          "name": "stderr"
        },
        {
          "output_type": "stream",
          "text": [
            "12/12 [==============================] - 0s 4ms/step - loss: 0.4845 - accuracy: 0.8647\n"
          ],
          "name": "stdout"
        },
        {
          "output_type": "stream",
          "text": [
            "\r 84%|████████▎ | 108/129 [2:18:18<28:06, 80.29s/it]"
          ],
          "name": "stderr"
        },
        {
          "output_type": "stream",
          "text": [
            "12/12 [==============================] - 0s 4ms/step - loss: 0.4398 - accuracy: 0.8647\n"
          ],
          "name": "stdout"
        },
        {
          "output_type": "stream",
          "text": [
            "\r 84%|████████▍ | 109/129 [2:19:48<27:42, 83.13s/it]"
          ],
          "name": "stderr"
        },
        {
          "output_type": "stream",
          "text": [
            "12/12 [==============================] - 0s 4ms/step - loss: 0.4604 - accuracy: 0.8435\n"
          ],
          "name": "stdout"
        },
        {
          "output_type": "stream",
          "text": [
            "\r 85%|████████▌ | 110/129 [2:21:13<26:31, 83.74s/it]"
          ],
          "name": "stderr"
        },
        {
          "output_type": "stream",
          "text": [
            "12/12 [==============================] - 0s 4ms/step - loss: 0.4591 - accuracy: 0.8594\n"
          ],
          "name": "stdout"
        },
        {
          "output_type": "stream",
          "text": [
            "\r 86%|████████▌ | 111/129 [2:22:37<25:05, 83.63s/it]"
          ],
          "name": "stderr"
        },
        {
          "output_type": "stream",
          "text": [
            "12/12 [==============================] - 0s 4ms/step - loss: 0.5160 - accuracy: 0.8568\n"
          ],
          "name": "stdout"
        },
        {
          "output_type": "stream",
          "text": [
            "\r 87%|████████▋ | 112/129 [2:23:59<23:34, 83.18s/it]"
          ],
          "name": "stderr"
        },
        {
          "output_type": "stream",
          "text": [
            "12/12 [==============================] - 0s 3ms/step - loss: 0.5252 - accuracy: 0.8727\n"
          ],
          "name": "stdout"
        },
        {
          "output_type": "stream",
          "text": [
            "\r 88%|████████▊ | 113/129 [2:25:15<21:35, 80.96s/it]"
          ],
          "name": "stderr"
        },
        {
          "output_type": "stream",
          "text": [
            "12/12 [==============================] - 0s 4ms/step - loss: 0.5064 - accuracy: 0.8408\n"
          ],
          "name": "stdout"
        },
        {
          "output_type": "stream",
          "text": [
            "\r 88%|████████▊ | 114/129 [2:26:36<20:18, 81.22s/it]"
          ],
          "name": "stderr"
        },
        {
          "output_type": "stream",
          "text": [
            "12/12 [==============================] - 0s 4ms/step - loss: 0.4390 - accuracy: 0.8700\n"
          ],
          "name": "stdout"
        },
        {
          "output_type": "stream",
          "text": [
            "\r 89%|████████▉ | 115/129 [2:27:50<18:23, 78.82s/it]"
          ],
          "name": "stderr"
        },
        {
          "output_type": "stream",
          "text": [
            "12/12 [==============================] - 0s 3ms/step - loss: 0.4355 - accuracy: 0.8621\n"
          ],
          "name": "stdout"
        },
        {
          "output_type": "stream",
          "text": [
            "\r 90%|████████▉ | 116/129 [2:28:55<16:13, 74.88s/it]"
          ],
          "name": "stderr"
        },
        {
          "output_type": "stream",
          "text": [
            "12/12 [==============================] - 0s 3ms/step - loss: 0.4674 - accuracy: 0.8462\n"
          ],
          "name": "stdout"
        },
        {
          "output_type": "stream",
          "text": [
            "\r 91%|█████████ | 117/129 [2:30:00<14:22, 71.89s/it]"
          ],
          "name": "stderr"
        },
        {
          "output_type": "stream",
          "text": [
            "12/12 [==============================] - 0s 4ms/step - loss: 0.5317 - accuracy: 0.8594\n"
          ],
          "name": "stdout"
        },
        {
          "output_type": "stream",
          "text": [
            "\r 91%|█████████▏| 118/129 [2:31:22<13:43, 74.82s/it]"
          ],
          "name": "stderr"
        },
        {
          "output_type": "stream",
          "text": [
            "12/12 [==============================] - 0s 4ms/step - loss: 0.4238 - accuracy: 0.8647\n"
          ],
          "name": "stdout"
        },
        {
          "output_type": "stream",
          "text": [
            "\r 92%|█████████▏| 119/129 [2:32:47<12:59, 77.95s/it]"
          ],
          "name": "stderr"
        },
        {
          "output_type": "stream",
          "text": [
            "12/12 [==============================] - 0s 3ms/step - loss: 0.4759 - accuracy: 0.8541\n"
          ],
          "name": "stdout"
        },
        {
          "output_type": "stream",
          "text": [
            "\r 93%|█████████▎| 120/129 [2:33:58<11:21, 75.75s/it]"
          ],
          "name": "stderr"
        },
        {
          "output_type": "stream",
          "text": [
            "12/12 [==============================] - 0s 4ms/step - loss: 0.5035 - accuracy: 0.8488\n"
          ],
          "name": "stdout"
        },
        {
          "output_type": "stream",
          "text": [
            "\r 94%|█████████▍| 121/129 [2:35:23<10:29, 78.73s/it]"
          ],
          "name": "stderr"
        },
        {
          "output_type": "stream",
          "text": [
            "12/12 [==============================] - 0s 4ms/step - loss: 0.4684 - accuracy: 0.8568\n"
          ],
          "name": "stdout"
        },
        {
          "output_type": "stream",
          "text": [
            "\r 95%|█████████▍| 122/129 [2:36:44<09:15, 79.33s/it]"
          ],
          "name": "stderr"
        },
        {
          "output_type": "stream",
          "text": [
            "12/12 [==============================] - 0s 3ms/step - loss: 0.5504 - accuracy: 0.8488\n"
          ],
          "name": "stdout"
        },
        {
          "output_type": "stream",
          "text": [
            "\r 95%|█████████▌| 123/129 [2:37:53<07:36, 76.16s/it]"
          ],
          "name": "stderr"
        },
        {
          "output_type": "stream",
          "text": [
            "12/12 [==============================] - 0s 3ms/step - loss: 0.4780 - accuracy: 0.8647\n"
          ],
          "name": "stdout"
        },
        {
          "output_type": "stream",
          "text": [
            "\r 96%|█████████▌| 124/129 [2:39:17<06:32, 78.59s/it]"
          ],
          "name": "stderr"
        },
        {
          "output_type": "stream",
          "text": [
            "12/12 [==============================] - 0s 3ms/step - loss: 0.4794 - accuracy: 0.8488\n"
          ],
          "name": "stdout"
        },
        {
          "output_type": "stream",
          "text": [
            "\r 97%|█████████▋| 125/129 [2:40:23<04:59, 74.86s/it]"
          ],
          "name": "stderr"
        },
        {
          "output_type": "stream",
          "text": [
            "12/12 [==============================] - 0s 3ms/step - loss: 0.4330 - accuracy: 0.8594\n"
          ],
          "name": "stdout"
        },
        {
          "output_type": "stream",
          "text": [
            "\r 98%|█████████▊| 126/129 [2:41:41<03:47, 75.85s/it]"
          ],
          "name": "stderr"
        },
        {
          "output_type": "stream",
          "text": [
            "12/12 [==============================] - 0s 3ms/step - loss: 0.4513 - accuracy: 0.8753\n"
          ],
          "name": "stdout"
        },
        {
          "output_type": "stream",
          "text": [
            "\r 98%|█████████▊| 127/129 [2:42:48<02:25, 72.92s/it]"
          ],
          "name": "stderr"
        },
        {
          "output_type": "stream",
          "text": [
            "12/12 [==============================] - 0s 4ms/step - loss: 0.4683 - accuracy: 0.8355\n"
          ],
          "name": "stdout"
        },
        {
          "output_type": "stream",
          "text": [
            "\r 99%|█████████▉| 128/129 [2:44:09<01:15, 75.50s/it]"
          ],
          "name": "stderr"
        },
        {
          "output_type": "stream",
          "text": [
            "12/12 [==============================] - 0s 3ms/step - loss: 0.5398 - accuracy: 0.8515\n"
          ],
          "name": "stdout"
        },
        {
          "output_type": "stream",
          "text": [
            "100%|██████████| 129/129 [2:45:22<00:00, 76.92s/it]\n"
          ],
          "name": "stderr"
        }
      ]
    },
    {
      "cell_type": "code",
      "metadata": {
        "colab": {
          "background_save": true,
          "base_uri": "https://localhost:8080/",
          "height": 590
        },
        "id": "jHd38QymTx9D",
        "outputId": "d8e7dc84-e638-48c9-c6bb-a8279529eb38"
      },
      "source": [
        "hasil_CNNLSTM = pd.concat([scan_object3.data,talos_optimal_CNNLSTM],axis=1)\n",
        "hasil_CNNLSTM.sort_values('val_loss_optimal')"
      ],
      "execution_count": null,
      "outputs": [
        {
          "output_type": "execute_result",
          "data": {
            "text/html": [
              "<div>\n",
              "<style scoped>\n",
              "    .dataframe tbody tr th:only-of-type {\n",
              "        vertical-align: middle;\n",
              "    }\n",
              "\n",
              "    .dataframe tbody tr th {\n",
              "        vertical-align: top;\n",
              "    }\n",
              "\n",
              "    .dataframe thead th {\n",
              "        text-align: right;\n",
              "    }\n",
              "</style>\n",
              "<table border=\"1\" class=\"dataframe\">\n",
              "  <thead>\n",
              "    <tr style=\"text-align: right;\">\n",
              "      <th></th>\n",
              "      <th>start</th>\n",
              "      <th>end</th>\n",
              "      <th>duration</th>\n",
              "      <th>round_epochs</th>\n",
              "      <th>loss</th>\n",
              "      <th>accuracy</th>\n",
              "      <th>val_loss</th>\n",
              "      <th>val_accuracy</th>\n",
              "      <th>embd_size</th>\n",
              "      <th>filter</th>\n",
              "      <th>l2_cnn</th>\n",
              "      <th>l2_dense</th>\n",
              "      <th>l2_ker</th>\n",
              "      <th>l2_rec</th>\n",
              "      <th>region_size</th>\n",
              "      <th>units</th>\n",
              "      <th>epochs_optimal</th>\n",
              "      <th>val_loss_optimal</th>\n",
              "      <th>val_acc_optimal</th>\n",
              "    </tr>\n",
              "  </thead>\n",
              "  <tbody>\n",
              "    <tr>\n",
              "      <th>103</th>\n",
              "      <td>11/26/20-132056</td>\n",
              "      <td>11/26/20-132205</td>\n",
              "      <td>69.362630</td>\n",
              "      <td>150</td>\n",
              "      <td>0.046250</td>\n",
              "      <td>0.997347</td>\n",
              "      <td>0.453412</td>\n",
              "      <td>0.867374</td>\n",
              "      <td>64</td>\n",
              "      <td>200</td>\n",
              "      <td>0.010</td>\n",
              "      <td>0.001</td>\n",
              "      <td>0.001</td>\n",
              "      <td>0.010</td>\n",
              "      <td>3</td>\n",
              "      <td>200</td>\n",
              "      <td>94.0</td>\n",
              "      <td>0.414121</td>\n",
              "      <td>0.864721</td>\n",
              "    </tr>\n",
              "    <tr>\n",
              "      <th>26</th>\n",
              "      <td>11/26/20-114204</td>\n",
              "      <td>11/26/20-114314</td>\n",
              "      <td>70.018648</td>\n",
              "      <td>150</td>\n",
              "      <td>0.077745</td>\n",
              "      <td>0.995358</td>\n",
              "      <td>0.429662</td>\n",
              "      <td>0.870027</td>\n",
              "      <td>64</td>\n",
              "      <td>200</td>\n",
              "      <td>0.010</td>\n",
              "      <td>0.010</td>\n",
              "      <td>0.001</td>\n",
              "      <td>0.010</td>\n",
              "      <td>3</td>\n",
              "      <td>200</td>\n",
              "      <td>138.0</td>\n",
              "      <td>0.418606</td>\n",
              "      <td>0.864721</td>\n",
              "    </tr>\n",
              "    <tr>\n",
              "      <th>106</th>\n",
              "      <td>11/26/20-132439</td>\n",
              "      <td>11/26/20-132603</td>\n",
              "      <td>83.106136</td>\n",
              "      <td>150</td>\n",
              "      <td>0.043140</td>\n",
              "      <td>0.996684</td>\n",
              "      <td>0.439844</td>\n",
              "      <td>0.870027</td>\n",
              "      <td>100</td>\n",
              "      <td>250</td>\n",
              "      <td>0.010</td>\n",
              "      <td>0.001</td>\n",
              "      <td>0.001</td>\n",
              "      <td>0.010</td>\n",
              "      <td>3</td>\n",
              "      <td>100</td>\n",
              "      <td>107.0</td>\n",
              "      <td>0.423611</td>\n",
              "      <td>0.872679</td>\n",
              "    </tr>\n",
              "    <tr>\n",
              "      <th>118</th>\n",
              "      <td>11/26/20-134031</td>\n",
              "      <td>11/26/20-134156</td>\n",
              "      <td>85.027187</td>\n",
              "      <td>150</td>\n",
              "      <td>0.040635</td>\n",
              "      <td>0.998011</td>\n",
              "      <td>0.491466</td>\n",
              "      <td>0.875332</td>\n",
              "      <td>128</td>\n",
              "      <td>250</td>\n",
              "      <td>0.010</td>\n",
              "      <td>0.001</td>\n",
              "      <td>0.001</td>\n",
              "      <td>0.010</td>\n",
              "      <td>3</td>\n",
              "      <td>100</td>\n",
              "      <td>107.0</td>\n",
              "      <td>0.423819</td>\n",
              "      <td>0.864721</td>\n",
              "    </tr>\n",
              "    <tr>\n",
              "      <th>64</th>\n",
              "      <td>11/26/20-123016</td>\n",
              "      <td>11/26/20-123140</td>\n",
              "      <td>84.009645</td>\n",
              "      <td>150</td>\n",
              "      <td>0.064168</td>\n",
              "      <td>0.997347</td>\n",
              "      <td>0.452476</td>\n",
              "      <td>0.851459</td>\n",
              "      <td>128</td>\n",
              "      <td>200</td>\n",
              "      <td>0.010</td>\n",
              "      <td>0.010</td>\n",
              "      <td>0.001</td>\n",
              "      <td>0.010</td>\n",
              "      <td>5</td>\n",
              "      <td>150</td>\n",
              "      <td>103.0</td>\n",
              "      <td>0.426738</td>\n",
              "      <td>0.859416</td>\n",
              "    </tr>\n",
              "    <tr>\n",
              "      <th>...</th>\n",
              "      <td>...</td>\n",
              "      <td>...</td>\n",
              "      <td>...</td>\n",
              "      <td>...</td>\n",
              "      <td>...</td>\n",
              "      <td>...</td>\n",
              "      <td>...</td>\n",
              "      <td>...</td>\n",
              "      <td>...</td>\n",
              "      <td>...</td>\n",
              "      <td>...</td>\n",
              "      <td>...</td>\n",
              "      <td>...</td>\n",
              "      <td>...</td>\n",
              "      <td>...</td>\n",
              "      <td>...</td>\n",
              "      <td>...</td>\n",
              "      <td>...</td>\n",
              "      <td>...</td>\n",
              "    </tr>\n",
              "    <tr>\n",
              "      <th>46</th>\n",
              "      <td>11/26/20-120725</td>\n",
              "      <td>11/26/20-120848</td>\n",
              "      <td>82.717543</td>\n",
              "      <td>150</td>\n",
              "      <td>0.068995</td>\n",
              "      <td>0.997347</td>\n",
              "      <td>0.629086</td>\n",
              "      <td>0.846154</td>\n",
              "      <td>128</td>\n",
              "      <td>300</td>\n",
              "      <td>0.001</td>\n",
              "      <td>0.010</td>\n",
              "      <td>0.010</td>\n",
              "      <td>0.001</td>\n",
              "      <td>4</td>\n",
              "      <td>100</td>\n",
              "      <td>71.0</td>\n",
              "      <td>0.557390</td>\n",
              "      <td>0.846154</td>\n",
              "    </tr>\n",
              "    <tr>\n",
              "      <th>89</th>\n",
              "      <td>11/26/20-130224</td>\n",
              "      <td>11/26/20-130345</td>\n",
              "      <td>81.170016</td>\n",
              "      <td>150</td>\n",
              "      <td>0.039092</td>\n",
              "      <td>0.997347</td>\n",
              "      <td>0.670196</td>\n",
              "      <td>0.854111</td>\n",
              "      <td>128</td>\n",
              "      <td>200</td>\n",
              "      <td>0.001</td>\n",
              "      <td>0.001</td>\n",
              "      <td>0.010</td>\n",
              "      <td>0.001</td>\n",
              "      <td>3</td>\n",
              "      <td>200</td>\n",
              "      <td>35.0</td>\n",
              "      <td>0.557675</td>\n",
              "      <td>0.862069</td>\n",
              "    </tr>\n",
              "    <tr>\n",
              "      <th>78</th>\n",
              "      <td>11/26/20-124841</td>\n",
              "      <td>11/26/20-124956</td>\n",
              "      <td>74.769809</td>\n",
              "      <td>150</td>\n",
              "      <td>0.067176</td>\n",
              "      <td>0.996684</td>\n",
              "      <td>0.659703</td>\n",
              "      <td>0.851459</td>\n",
              "      <td>100</td>\n",
              "      <td>300</td>\n",
              "      <td>0.010</td>\n",
              "      <td>0.001</td>\n",
              "      <td>0.010</td>\n",
              "      <td>0.001</td>\n",
              "      <td>5</td>\n",
              "      <td>100</td>\n",
              "      <td>46.0</td>\n",
              "      <td>0.567412</td>\n",
              "      <td>0.867374</td>\n",
              "    </tr>\n",
              "    <tr>\n",
              "      <th>79</th>\n",
              "      <td>11/26/20-124956</td>\n",
              "      <td>11/26/20-125102</td>\n",
              "      <td>65.798382</td>\n",
              "      <td>150</td>\n",
              "      <td>0.071584</td>\n",
              "      <td>0.996684</td>\n",
              "      <td>0.728782</td>\n",
              "      <td>0.843501</td>\n",
              "      <td>64</td>\n",
              "      <td>300</td>\n",
              "      <td>0.010</td>\n",
              "      <td>0.001</td>\n",
              "      <td>0.010</td>\n",
              "      <td>0.001</td>\n",
              "      <td>4</td>\n",
              "      <td>150</td>\n",
              "      <td>20.0</td>\n",
              "      <td>0.581089</td>\n",
              "      <td>0.875332</td>\n",
              "    </tr>\n",
              "    <tr>\n",
              "      <th>51</th>\n",
              "      <td>11/26/20-121339</td>\n",
              "      <td>11/26/20-121457</td>\n",
              "      <td>77.824291</td>\n",
              "      <td>150</td>\n",
              "      <td>0.048885</td>\n",
              "      <td>0.998011</td>\n",
              "      <td>0.632680</td>\n",
              "      <td>0.862069</td>\n",
              "      <td>100</td>\n",
              "      <td>250</td>\n",
              "      <td>0.001</td>\n",
              "      <td>0.001</td>\n",
              "      <td>0.010</td>\n",
              "      <td>0.001</td>\n",
              "      <td>3</td>\n",
              "      <td>150</td>\n",
              "      <td>30.0</td>\n",
              "      <td>0.592798</td>\n",
              "      <td>0.856764</td>\n",
              "    </tr>\n",
              "  </tbody>\n",
              "</table>\n",
              "<p>129 rows × 19 columns</p>\n",
              "</div>"
            ],
            "text/plain": [
              "               start              end  ...  val_loss_optimal  val_acc_optimal\n",
              "103  11/26/20-132056  11/26/20-132205  ...          0.414121         0.864721\n",
              "26   11/26/20-114204  11/26/20-114314  ...          0.418606         0.864721\n",
              "106  11/26/20-132439  11/26/20-132603  ...          0.423611         0.872679\n",
              "118  11/26/20-134031  11/26/20-134156  ...          0.423819         0.864721\n",
              "64   11/26/20-123016  11/26/20-123140  ...          0.426738         0.859416\n",
              "..               ...              ...  ...               ...              ...\n",
              "46   11/26/20-120725  11/26/20-120848  ...          0.557390         0.846154\n",
              "89   11/26/20-130224  11/26/20-130345  ...          0.557675         0.862069\n",
              "78   11/26/20-124841  11/26/20-124956  ...          0.567412         0.867374\n",
              "79   11/26/20-124956  11/26/20-125102  ...          0.581089         0.875332\n",
              "51   11/26/20-121339  11/26/20-121457  ...          0.592798         0.856764\n",
              "\n",
              "[129 rows x 19 columns]"
            ]
          },
          "metadata": {
            "tags": []
          },
          "execution_count": 0
        }
      ]
    },
    {
      "cell_type": "code",
      "metadata": {
        "colab": {
          "background_save": true,
          "base_uri": "https://localhost:8080/",
          "height": 531
        },
        "id": "mBMa2nOQ1cbx",
        "outputId": "592c1122-1186-407e-898f-6bd02769eef7"
      },
      "source": [
        "hasil_CNNLSTM.sort_values('val_loss_optimal').head(10)"
      ],
      "execution_count": null,
      "outputs": [
        {
          "output_type": "execute_result",
          "data": {
            "text/html": [
              "<div>\n",
              "<style scoped>\n",
              "    .dataframe tbody tr th:only-of-type {\n",
              "        vertical-align: middle;\n",
              "    }\n",
              "\n",
              "    .dataframe tbody tr th {\n",
              "        vertical-align: top;\n",
              "    }\n",
              "\n",
              "    .dataframe thead th {\n",
              "        text-align: right;\n",
              "    }\n",
              "</style>\n",
              "<table border=\"1\" class=\"dataframe\">\n",
              "  <thead>\n",
              "    <tr style=\"text-align: right;\">\n",
              "      <th></th>\n",
              "      <th>start</th>\n",
              "      <th>end</th>\n",
              "      <th>duration</th>\n",
              "      <th>round_epochs</th>\n",
              "      <th>loss</th>\n",
              "      <th>accuracy</th>\n",
              "      <th>val_loss</th>\n",
              "      <th>val_accuracy</th>\n",
              "      <th>embd_size</th>\n",
              "      <th>filter</th>\n",
              "      <th>l2_cnn</th>\n",
              "      <th>l2_dense</th>\n",
              "      <th>l2_ker</th>\n",
              "      <th>l2_rec</th>\n",
              "      <th>region_size</th>\n",
              "      <th>units</th>\n",
              "      <th>epochs_optimal</th>\n",
              "      <th>val_loss_optimal</th>\n",
              "      <th>val_acc_optimal</th>\n",
              "    </tr>\n",
              "  </thead>\n",
              "  <tbody>\n",
              "    <tr>\n",
              "      <th>103</th>\n",
              "      <td>11/26/20-132056</td>\n",
              "      <td>11/26/20-132205</td>\n",
              "      <td>69.362630</td>\n",
              "      <td>150</td>\n",
              "      <td>0.046250</td>\n",
              "      <td>0.997347</td>\n",
              "      <td>0.453412</td>\n",
              "      <td>0.867374</td>\n",
              "      <td>64</td>\n",
              "      <td>200</td>\n",
              "      <td>0.010</td>\n",
              "      <td>0.001</td>\n",
              "      <td>0.001</td>\n",
              "      <td>0.01</td>\n",
              "      <td>3</td>\n",
              "      <td>200</td>\n",
              "      <td>94.0</td>\n",
              "      <td>0.414121</td>\n",
              "      <td>0.864721</td>\n",
              "    </tr>\n",
              "    <tr>\n",
              "      <th>26</th>\n",
              "      <td>11/26/20-114204</td>\n",
              "      <td>11/26/20-114314</td>\n",
              "      <td>70.018648</td>\n",
              "      <td>150</td>\n",
              "      <td>0.077745</td>\n",
              "      <td>0.995358</td>\n",
              "      <td>0.429662</td>\n",
              "      <td>0.870027</td>\n",
              "      <td>64</td>\n",
              "      <td>200</td>\n",
              "      <td>0.010</td>\n",
              "      <td>0.010</td>\n",
              "      <td>0.001</td>\n",
              "      <td>0.01</td>\n",
              "      <td>3</td>\n",
              "      <td>200</td>\n",
              "      <td>138.0</td>\n",
              "      <td>0.418606</td>\n",
              "      <td>0.864721</td>\n",
              "    </tr>\n",
              "    <tr>\n",
              "      <th>106</th>\n",
              "      <td>11/26/20-132439</td>\n",
              "      <td>11/26/20-132603</td>\n",
              "      <td>83.106136</td>\n",
              "      <td>150</td>\n",
              "      <td>0.043140</td>\n",
              "      <td>0.996684</td>\n",
              "      <td>0.439844</td>\n",
              "      <td>0.870027</td>\n",
              "      <td>100</td>\n",
              "      <td>250</td>\n",
              "      <td>0.010</td>\n",
              "      <td>0.001</td>\n",
              "      <td>0.001</td>\n",
              "      <td>0.01</td>\n",
              "      <td>3</td>\n",
              "      <td>100</td>\n",
              "      <td>107.0</td>\n",
              "      <td>0.423611</td>\n",
              "      <td>0.872679</td>\n",
              "    </tr>\n",
              "    <tr>\n",
              "      <th>118</th>\n",
              "      <td>11/26/20-134031</td>\n",
              "      <td>11/26/20-134156</td>\n",
              "      <td>85.027187</td>\n",
              "      <td>150</td>\n",
              "      <td>0.040635</td>\n",
              "      <td>0.998011</td>\n",
              "      <td>0.491466</td>\n",
              "      <td>0.875332</td>\n",
              "      <td>128</td>\n",
              "      <td>250</td>\n",
              "      <td>0.010</td>\n",
              "      <td>0.001</td>\n",
              "      <td>0.001</td>\n",
              "      <td>0.01</td>\n",
              "      <td>3</td>\n",
              "      <td>100</td>\n",
              "      <td>107.0</td>\n",
              "      <td>0.423819</td>\n",
              "      <td>0.864721</td>\n",
              "    </tr>\n",
              "    <tr>\n",
              "      <th>64</th>\n",
              "      <td>11/26/20-123016</td>\n",
              "      <td>11/26/20-123140</td>\n",
              "      <td>84.009645</td>\n",
              "      <td>150</td>\n",
              "      <td>0.064168</td>\n",
              "      <td>0.997347</td>\n",
              "      <td>0.452476</td>\n",
              "      <td>0.851459</td>\n",
              "      <td>128</td>\n",
              "      <td>200</td>\n",
              "      <td>0.010</td>\n",
              "      <td>0.010</td>\n",
              "      <td>0.001</td>\n",
              "      <td>0.01</td>\n",
              "      <td>5</td>\n",
              "      <td>150</td>\n",
              "      <td>103.0</td>\n",
              "      <td>0.426738</td>\n",
              "      <td>0.859416</td>\n",
              "    </tr>\n",
              "    <tr>\n",
              "      <th>36</th>\n",
              "      <td>11/26/20-115455</td>\n",
              "      <td>11/26/20-115604</td>\n",
              "      <td>69.429133</td>\n",
              "      <td>150</td>\n",
              "      <td>0.047946</td>\n",
              "      <td>0.996684</td>\n",
              "      <td>0.442235</td>\n",
              "      <td>0.859416</td>\n",
              "      <td>64</td>\n",
              "      <td>200</td>\n",
              "      <td>0.010</td>\n",
              "      <td>0.001</td>\n",
              "      <td>0.001</td>\n",
              "      <td>0.01</td>\n",
              "      <td>3</td>\n",
              "      <td>150</td>\n",
              "      <td>75.0</td>\n",
              "      <td>0.427457</td>\n",
              "      <td>0.877984</td>\n",
              "    </tr>\n",
              "    <tr>\n",
              "      <th>125</th>\n",
              "      <td>11/26/20-134933</td>\n",
              "      <td>11/26/20-135051</td>\n",
              "      <td>77.972352</td>\n",
              "      <td>150</td>\n",
              "      <td>0.065863</td>\n",
              "      <td>0.996684</td>\n",
              "      <td>0.469214</td>\n",
              "      <td>0.862069</td>\n",
              "      <td>100</td>\n",
              "      <td>250</td>\n",
              "      <td>0.010</td>\n",
              "      <td>0.001</td>\n",
              "      <td>0.010</td>\n",
              "      <td>0.01</td>\n",
              "      <td>4</td>\n",
              "      <td>200</td>\n",
              "      <td>117.0</td>\n",
              "      <td>0.433045</td>\n",
              "      <td>0.859416</td>\n",
              "    </tr>\n",
              "    <tr>\n",
              "      <th>29</th>\n",
              "      <td>11/26/20-114551</td>\n",
              "      <td>11/26/20-114700</td>\n",
              "      <td>68.502466</td>\n",
              "      <td>150</td>\n",
              "      <td>0.077134</td>\n",
              "      <td>0.996684</td>\n",
              "      <td>0.457534</td>\n",
              "      <td>0.854111</td>\n",
              "      <td>64</td>\n",
              "      <td>250</td>\n",
              "      <td>0.010</td>\n",
              "      <td>0.010</td>\n",
              "      <td>0.001</td>\n",
              "      <td>0.01</td>\n",
              "      <td>4</td>\n",
              "      <td>200</td>\n",
              "      <td>110.0</td>\n",
              "      <td>0.433783</td>\n",
              "      <td>0.862069</td>\n",
              "    </tr>\n",
              "    <tr>\n",
              "      <th>105</th>\n",
              "      <td>11/26/20-132331</td>\n",
              "      <td>11/26/20-132439</td>\n",
              "      <td>67.755277</td>\n",
              "      <td>150</td>\n",
              "      <td>0.065821</td>\n",
              "      <td>0.998011</td>\n",
              "      <td>0.465154</td>\n",
              "      <td>0.870027</td>\n",
              "      <td>64</td>\n",
              "      <td>300</td>\n",
              "      <td>0.010</td>\n",
              "      <td>0.001</td>\n",
              "      <td>0.010</td>\n",
              "      <td>0.01</td>\n",
              "      <td>5</td>\n",
              "      <td>150</td>\n",
              "      <td>71.0</td>\n",
              "      <td>0.434338</td>\n",
              "      <td>0.870027</td>\n",
              "    </tr>\n",
              "    <tr>\n",
              "      <th>115</th>\n",
              "      <td>11/26/20-133659</td>\n",
              "      <td>11/26/20-133805</td>\n",
              "      <td>65.475282</td>\n",
              "      <td>150</td>\n",
              "      <td>0.051841</td>\n",
              "      <td>0.998011</td>\n",
              "      <td>0.453356</td>\n",
              "      <td>0.864721</td>\n",
              "      <td>64</td>\n",
              "      <td>250</td>\n",
              "      <td>0.001</td>\n",
              "      <td>0.010</td>\n",
              "      <td>0.001</td>\n",
              "      <td>0.01</td>\n",
              "      <td>3</td>\n",
              "      <td>150</td>\n",
              "      <td>131.0</td>\n",
              "      <td>0.435533</td>\n",
              "      <td>0.862069</td>\n",
              "    </tr>\n",
              "  </tbody>\n",
              "</table>\n",
              "</div>"
            ],
            "text/plain": [
              "               start              end  ...  val_loss_optimal  val_acc_optimal\n",
              "103  11/26/20-132056  11/26/20-132205  ...          0.414121         0.864721\n",
              "26   11/26/20-114204  11/26/20-114314  ...          0.418606         0.864721\n",
              "106  11/26/20-132439  11/26/20-132603  ...          0.423611         0.872679\n",
              "118  11/26/20-134031  11/26/20-134156  ...          0.423819         0.864721\n",
              "64   11/26/20-123016  11/26/20-123140  ...          0.426738         0.859416\n",
              "36   11/26/20-115455  11/26/20-115604  ...          0.427457         0.877984\n",
              "125  11/26/20-134933  11/26/20-135051  ...          0.433045         0.859416\n",
              "29   11/26/20-114551  11/26/20-114700  ...          0.433783         0.862069\n",
              "105  11/26/20-132331  11/26/20-132439  ...          0.434338         0.870027\n",
              "115  11/26/20-133659  11/26/20-133805  ...          0.435533         0.862069\n",
              "\n",
              "[10 rows x 19 columns]"
            ]
          },
          "metadata": {
            "tags": []
          },
          "execution_count": 0
        }
      ]
    },
    {
      "cell_type": "code",
      "metadata": {
        "id": "d9XdHINHTx9F"
      },
      "source": [
        "talos_optimal_LSTMCNN=pd.DataFrame(columns=['epochs_optimal','val_loss_optimal','val_acc_optimal'])\n",
        "def LSTMCNN_model(x_train, y_train, x_test, y_test, params):\n",
        "    checkpoint_filepath = 'C:/Users/DSGroupUI/Desktop/SKRIPSI FARHA/SKRIPSI/Program/LSTMCNN'\n",
        "    model_checkpoint_callback = tf.keras.callbacks.ModelCheckpoint(\n",
        "    filepath=checkpoint_filepath,\n",
        "    save_weights_only=True,\n",
        "    monitor='val_loss',\n",
        "    mode='min',\n",
        "    save_best_only=True)\n",
        "    inputs = keras.layers.Input(shape=(sequence_length,))\n",
        "    embedding = keras.layers.Embedding(vocabulary_size, params['embd_size'])(inputs)\n",
        "    LSTM = keras.layers.LSTM(params['units'],kernel_regularizer= keras.regularizers.l2(params['l2_ker']), \n",
        "                              recurrent_regularizer= keras.regularizers.l2(params['l2_rec']),return_sequences=True)(embedding)\n",
        "    conv = keras.layers.Conv1D(params['filter'], params['region_size'], activation='relu',kernel_regularizer= keras.regularizers.l2(params['l2_cnn']))(LSTM)\n",
        "    pool = keras.layers.GlobalMaxPooling1D()(conv)\n",
        "    output = keras.layers.Dense(2, activation='softmax',kernel_regularizer= keras.regularizers.l2(params['l2_dense']))(pool)\n",
        "    model  = keras.models.Model(inputs=inputs, outputs=output)\n",
        "    model.compile(optimizer=Adam(lr=1e-4),\n",
        "              loss='categorical_crossentropy',\n",
        "              metrics=['accuracy'])\n",
        "    output = model.fit(x_train, \n",
        "                    y_train, \n",
        "                    epochs=epochs, \n",
        "                    batch_size=batch_size,\n",
        "                    validation_data=(x_test, y_test),\n",
        "                    verbose=0,\n",
        "                    callbacks=[model_checkpoint_callback])\n",
        "    model.load_weights(checkpoint_filepath)\n",
        "    epoch = int(output.history['val_loss'].index(min(output.history['val_loss']))+1)\n",
        "    loss, acc = model.evaluate(x_test, y_test)\n",
        "    talos_optimal_LSTMCNN.loc[len(talos_optimal_LSTMCNN)] = [epoch,loss,acc]\n",
        "    return output, model"
      ],
      "execution_count": 25,
      "outputs": []
    },
    {
      "cell_type": "code",
      "metadata": {
        "id": "0wecxPDtTx9H"
      },
      "source": [
        "p4 = {'embd_size':[64,100,128],\n",
        "      'units':[100,150,200],\n",
        "      'filter':[200,250,300],\n",
        "      'region_size':[3,4,5],\n",
        "      'l2_ker':[0.001,0.01],\n",
        "      'l2_rec':[0.001,0.01],\n",
        "      'l2_cnn':[0.001,0.01],\n",
        "      'l2_dense':[0.001,0.01]}"
      ],
      "execution_count": 26,
      "outputs": []
    },
    {
      "cell_type": "code",
      "metadata": {
        "colab": {
          "base_uri": "https://localhost:8080/"
        },
        "id": "odESzg0GTx9J",
        "outputId": "9d3c266b-ab28-4158-d391-4b58b00d6e69"
      },
      "source": [
        "scan_object4 = talos.Scan(x=sd1_data_train,\n",
        "                         y=sd1_labels_train,\n",
        "                         params=p4,\n",
        "                         model=LSTMCNN_model,\n",
        "                         experiment_name='LSTMCNN_model',\n",
        "                         x_val= sd1_data_test,\n",
        "                         y_val= sd1_labels_test,\n",
        "                         fraction_limit=0.1,\n",
        "                         random_method= 'quantum')"
      ],
      "execution_count": 27,
      "outputs": [
        {
          "output_type": "stream",
          "text": [
            "\n",
            "\n",
            "  0%|          | 0/129 [00:00<?, ?it/s]\u001b[A\u001b[A"
          ],
          "name": "stderr"
        },
        {
          "output_type": "stream",
          "text": [
            "12/12 [==============================] - 0s 4ms/step - loss: 0.5214 - accuracy: 0.8568\n"
          ],
          "name": "stdout"
        },
        {
          "output_type": "stream",
          "text": [
            "\n",
            "\n",
            "  1%|          | 1/129 [01:09<2:28:40, 69.69s/it]\u001b[A\u001b[A"
          ],
          "name": "stderr"
        },
        {
          "output_type": "stream",
          "text": [
            "12/12 [==============================] - 0s 4ms/step - loss: 0.6181 - accuracy: 0.8621\n"
          ],
          "name": "stdout"
        },
        {
          "output_type": "stream",
          "text": [
            "\n",
            "\n",
            "  2%|▏         | 2/129 [02:36<2:38:35, 74.93s/it]\u001b[A\u001b[A"
          ],
          "name": "stderr"
        },
        {
          "output_type": "stream",
          "text": [
            "12/12 [==============================] - 0s 4ms/step - loss: 0.4968 - accuracy: 0.8621\n"
          ],
          "name": "stdout"
        },
        {
          "output_type": "stream",
          "text": [
            "\n",
            "\n",
            "  2%|▏         | 3/129 [04:02<2:44:22, 78.27s/it]\u001b[A\u001b[A"
          ],
          "name": "stderr"
        },
        {
          "output_type": "stream",
          "text": [
            "12/12 [==============================] - 0s 4ms/step - loss: 0.5388 - accuracy: 0.8276\n"
          ],
          "name": "stdout"
        },
        {
          "output_type": "stream",
          "text": [
            "\n",
            "\n",
            "  3%|▎         | 4/129 [05:18<2:41:27, 77.50s/it]\u001b[A\u001b[A"
          ],
          "name": "stderr"
        },
        {
          "output_type": "stream",
          "text": [
            "12/12 [==============================] - 0s 4ms/step - loss: 0.5260 - accuracy: 0.8541\n"
          ],
          "name": "stdout"
        },
        {
          "output_type": "stream",
          "text": [
            "\n",
            "\n",
            "  4%|▍         | 5/129 [06:28<2:35:22, 75.18s/it]\u001b[A\u001b[A"
          ],
          "name": "stderr"
        },
        {
          "output_type": "stream",
          "text": [
            "12/12 [==============================] - 0s 4ms/step - loss: 0.5342 - accuracy: 0.8541\n"
          ],
          "name": "stdout"
        },
        {
          "output_type": "stream",
          "text": [
            "\n",
            "\n",
            "  5%|▍         | 6/129 [07:39<2:31:24, 73.86s/it]\u001b[A\u001b[A"
          ],
          "name": "stderr"
        },
        {
          "output_type": "stream",
          "text": [
            "12/12 [==============================] - 0s 4ms/step - loss: 0.4756 - accuracy: 0.8621\n"
          ],
          "name": "stdout"
        },
        {
          "output_type": "stream",
          "text": [
            "\n",
            "\n",
            "  5%|▌         | 7/129 [08:59<2:34:17, 75.88s/it]\u001b[A\u001b[A"
          ],
          "name": "stderr"
        },
        {
          "output_type": "stream",
          "text": [
            "12/12 [==============================] - 0s 4ms/step - loss: 0.5500 - accuracy: 0.8594\n"
          ],
          "name": "stdout"
        },
        {
          "output_type": "stream",
          "text": [
            "\n",
            "\n",
            "  6%|▌         | 8/129 [10:18<2:34:46, 76.75s/it]\u001b[A\u001b[A"
          ],
          "name": "stderr"
        },
        {
          "output_type": "stream",
          "text": [
            "12/12 [==============================] - 0s 4ms/step - loss: 0.5556 - accuracy: 0.8568\n"
          ],
          "name": "stdout"
        },
        {
          "output_type": "stream",
          "text": [
            "\n",
            "\n",
            "  7%|▋         | 9/129 [11:50<2:42:40, 81.34s/it]\u001b[A\u001b[A"
          ],
          "name": "stderr"
        },
        {
          "output_type": "stream",
          "text": [
            "12/12 [==============================] - 0s 4ms/step - loss: 0.4077 - accuracy: 0.8674\n"
          ],
          "name": "stdout"
        },
        {
          "output_type": "stream",
          "text": [
            "\n",
            "\n",
            "  8%|▊         | 10/129 [13:25<2:49:35, 85.51s/it]\u001b[A\u001b[A"
          ],
          "name": "stderr"
        },
        {
          "output_type": "stream",
          "text": [
            "12/12 [==============================] - 0s 4ms/step - loss: 0.4486 - accuracy: 0.8594\n"
          ],
          "name": "stdout"
        },
        {
          "output_type": "stream",
          "text": [
            "\n",
            "\n",
            "  9%|▊         | 11/129 [14:39<2:41:26, 82.09s/it]\u001b[A\u001b[A"
          ],
          "name": "stderr"
        },
        {
          "output_type": "stream",
          "text": [
            "12/12 [==============================] - 0s 4ms/step - loss: 0.5273 - accuracy: 0.8568\n"
          ],
          "name": "stdout"
        },
        {
          "output_type": "stream",
          "text": [
            "\n",
            "\n",
            "  9%|▉         | 12/129 [16:11<2:45:26, 84.84s/it]\u001b[A\u001b[A"
          ],
          "name": "stderr"
        },
        {
          "output_type": "stream",
          "text": [
            "12/12 [==============================] - 0s 4ms/step - loss: 0.4698 - accuracy: 0.8621\n"
          ],
          "name": "stdout"
        },
        {
          "output_type": "stream",
          "text": [
            "\n",
            "\n",
            " 10%|█         | 13/129 [17:41<2:47:06, 86.43s/it]\u001b[A\u001b[A"
          ],
          "name": "stderr"
        },
        {
          "output_type": "stream",
          "text": [
            "12/12 [==============================] - 0s 4ms/step - loss: 0.5029 - accuracy: 0.8594\n"
          ],
          "name": "stdout"
        },
        {
          "output_type": "stream",
          "text": [
            "\n",
            "\n",
            " 11%|█         | 14/129 [19:02<2:42:45, 84.92s/it]\u001b[A\u001b[A"
          ],
          "name": "stderr"
        },
        {
          "output_type": "stream",
          "text": [
            "12/12 [==============================] - 0s 4ms/step - loss: 0.5137 - accuracy: 0.8621\n"
          ],
          "name": "stdout"
        },
        {
          "output_type": "stream",
          "text": [
            "\n",
            "\n",
            " 12%|█▏        | 15/129 [20:33<2:44:56, 86.81s/it]\u001b[A\u001b[A"
          ],
          "name": "stderr"
        },
        {
          "output_type": "stream",
          "text": [
            "12/12 [==============================] - 0s 4ms/step - loss: 0.4251 - accuracy: 0.8700\n"
          ],
          "name": "stdout"
        },
        {
          "output_type": "stream",
          "text": [
            "\n",
            "\n",
            " 12%|█▏        | 16/129 [22:00<2:43:29, 86.81s/it]\u001b[A\u001b[A"
          ],
          "name": "stderr"
        },
        {
          "output_type": "stream",
          "text": [
            "12/12 [==============================] - 0s 4ms/step - loss: 0.5110 - accuracy: 0.8621\n"
          ],
          "name": "stdout"
        },
        {
          "output_type": "stream",
          "text": [
            "\n",
            "\n",
            " 13%|█▎        | 17/129 [23:25<2:40:43, 86.10s/it]\u001b[A\u001b[A"
          ],
          "name": "stderr"
        },
        {
          "output_type": "stream",
          "text": [
            "12/12 [==============================] - 0s 4ms/step - loss: 0.5172 - accuracy: 0.8515\n"
          ],
          "name": "stdout"
        },
        {
          "output_type": "stream",
          "text": [
            "\n",
            "\n",
            " 14%|█▍        | 18/129 [24:47<2:37:04, 84.90s/it]\u001b[A\u001b[A"
          ],
          "name": "stderr"
        },
        {
          "output_type": "stream",
          "text": [
            "12/12 [==============================] - 0s 4ms/step - loss: 0.6316 - accuracy: 0.8700\n"
          ],
          "name": "stdout"
        },
        {
          "output_type": "stream",
          "text": [
            "\n",
            "\n",
            " 15%|█▍        | 19/129 [26:26<2:43:38, 89.26s/it]\u001b[A\u001b[A"
          ],
          "name": "stderr"
        },
        {
          "output_type": "stream",
          "text": [
            "12/12 [==============================] - 0s 4ms/step - loss: 0.5088 - accuracy: 0.8621\n"
          ],
          "name": "stdout"
        },
        {
          "output_type": "stream",
          "text": [
            "\n",
            "\n",
            " 16%|█▌        | 20/129 [28:05<2:47:34, 92.25s/it]\u001b[A\u001b[A"
          ],
          "name": "stderr"
        },
        {
          "output_type": "stream",
          "text": [
            "12/12 [==============================] - 0s 4ms/step - loss: 0.6130 - accuracy: 0.8594\n"
          ],
          "name": "stdout"
        },
        {
          "output_type": "stream",
          "text": [
            "\n",
            "\n",
            " 16%|█▋        | 21/129 [29:41<2:48:03, 93.37s/it]\u001b[A\u001b[A"
          ],
          "name": "stderr"
        },
        {
          "output_type": "stream",
          "text": [
            "12/12 [==============================] - 0s 4ms/step - loss: 0.5194 - accuracy: 0.8594\n"
          ],
          "name": "stdout"
        },
        {
          "output_type": "stream",
          "text": [
            "\n",
            "\n",
            " 17%|█▋        | 22/129 [31:15<2:46:29, 93.36s/it]\u001b[A\u001b[A"
          ],
          "name": "stderr"
        },
        {
          "output_type": "stream",
          "text": [
            "12/12 [==============================] - 0s 5ms/step - loss: 0.5006 - accuracy: 0.8647\n"
          ],
          "name": "stdout"
        },
        {
          "output_type": "stream",
          "text": [
            "\n",
            "\n",
            " 18%|█▊        | 23/129 [32:53<2:47:25, 94.77s/it]\u001b[A\u001b[A"
          ],
          "name": "stderr"
        },
        {
          "output_type": "stream",
          "text": [
            "12/12 [==============================] - 0s 4ms/step - loss: 0.5652 - accuracy: 0.8462\n"
          ],
          "name": "stdout"
        },
        {
          "output_type": "stream",
          "text": [
            "\n",
            "\n",
            " 19%|█▊        | 24/129 [34:26<2:45:02, 94.31s/it]\u001b[A\u001b[A"
          ],
          "name": "stderr"
        },
        {
          "output_type": "stream",
          "text": [
            "12/12 [==============================] - 0s 4ms/step - loss: 0.5063 - accuracy: 0.8647\n"
          ],
          "name": "stdout"
        },
        {
          "output_type": "stream",
          "text": [
            "\n",
            "\n",
            " 19%|█▉        | 25/129 [36:07<2:46:51, 96.26s/it]\u001b[A\u001b[A"
          ],
          "name": "stderr"
        },
        {
          "output_type": "stream",
          "text": [
            "12/12 [==============================] - 0s 5ms/step - loss: 0.4528 - accuracy: 0.8594\n"
          ],
          "name": "stdout"
        },
        {
          "output_type": "stream",
          "text": [
            "\n",
            "\n",
            " 20%|██        | 26/129 [37:42<2:44:53, 96.06s/it]\u001b[A\u001b[A"
          ],
          "name": "stderr"
        },
        {
          "output_type": "stream",
          "text": [
            "12/12 [==============================] - 0s 4ms/step - loss: 0.4708 - accuracy: 0.8700\n"
          ],
          "name": "stdout"
        },
        {
          "output_type": "stream",
          "text": [
            "\n",
            "\n",
            " 21%|██        | 27/129 [39:03<2:35:36, 91.54s/it]\u001b[A\u001b[A"
          ],
          "name": "stderr"
        },
        {
          "output_type": "stream",
          "text": [
            "12/12 [==============================] - 0s 4ms/step - loss: 0.4866 - accuracy: 0.8647\n"
          ],
          "name": "stdout"
        },
        {
          "output_type": "stream",
          "text": [
            "\n",
            "\n",
            " 22%|██▏       | 28/129 [40:44<2:38:44, 94.30s/it]\u001b[A\u001b[A"
          ],
          "name": "stderr"
        },
        {
          "output_type": "stream",
          "text": [
            "12/12 [==============================] - 0s 4ms/step - loss: 0.5287 - accuracy: 0.8647\n"
          ],
          "name": "stdout"
        },
        {
          "output_type": "stream",
          "text": [
            "\n",
            "\n",
            " 22%|██▏       | 29/129 [42:13<2:34:13, 92.54s/it]\u001b[A\u001b[A"
          ],
          "name": "stderr"
        },
        {
          "output_type": "stream",
          "text": [
            "12/12 [==============================] - 0s 4ms/step - loss: 0.5086 - accuracy: 0.8700\n"
          ],
          "name": "stdout"
        },
        {
          "output_type": "stream",
          "text": [
            "\n",
            "\n",
            " 23%|██▎       | 30/129 [43:54<2:37:00, 95.15s/it]\u001b[A\u001b[A"
          ],
          "name": "stderr"
        },
        {
          "output_type": "stream",
          "text": [
            "12/12 [==============================] - 0s 4ms/step - loss: 0.4345 - accuracy: 0.8674\n"
          ],
          "name": "stdout"
        },
        {
          "output_type": "stream",
          "text": [
            "\n",
            "\n",
            " 24%|██▍       | 31/129 [45:25<2:33:11, 93.79s/it]\u001b[A\u001b[A"
          ],
          "name": "stderr"
        },
        {
          "output_type": "stream",
          "text": [
            "12/12 [==============================] - 0s 4ms/step - loss: 0.5102 - accuracy: 0.8647\n"
          ],
          "name": "stdout"
        },
        {
          "output_type": "stream",
          "text": [
            "\n",
            "\n",
            " 25%|██▍       | 32/129 [46:48<2:26:33, 90.66s/it]\u001b[A\u001b[A"
          ],
          "name": "stderr"
        },
        {
          "output_type": "stream",
          "text": [
            "12/12 [==============================] - 0s 4ms/step - loss: 0.4358 - accuracy: 0.8594\n"
          ],
          "name": "stdout"
        },
        {
          "output_type": "stream",
          "text": [
            "\n",
            "\n",
            " 26%|██▌       | 33/129 [48:30<2:30:21, 93.98s/it]\u001b[A\u001b[A"
          ],
          "name": "stderr"
        },
        {
          "output_type": "stream",
          "text": [
            "12/12 [==============================] - 0s 4ms/step - loss: 0.5258 - accuracy: 0.8727\n"
          ],
          "name": "stdout"
        },
        {
          "output_type": "stream",
          "text": [
            "\n",
            "\n",
            " 26%|██▋       | 34/129 [50:00<2:26:59, 92.83s/it]\u001b[A\u001b[A"
          ],
          "name": "stderr"
        },
        {
          "output_type": "stream",
          "text": [
            "12/12 [==============================] - 0s 4ms/step - loss: 0.5006 - accuracy: 0.8568\n"
          ],
          "name": "stdout"
        },
        {
          "output_type": "stream",
          "text": [
            "\n",
            "\n",
            " 27%|██▋       | 35/129 [51:37<2:27:38, 94.24s/it]\u001b[A\u001b[A"
          ],
          "name": "stderr"
        },
        {
          "output_type": "stream",
          "text": [
            "12/12 [==============================] - 0s 5ms/step - loss: 0.4502 - accuracy: 0.8621\n"
          ],
          "name": "stdout"
        },
        {
          "output_type": "stream",
          "text": [
            "\n",
            "\n",
            " 28%|██▊       | 36/129 [52:57<2:19:28, 89.98s/it]\u001b[A\u001b[A"
          ],
          "name": "stderr"
        },
        {
          "output_type": "stream",
          "text": [
            "12/12 [==============================] - 0s 4ms/step - loss: 0.5269 - accuracy: 0.8647\n"
          ],
          "name": "stdout"
        },
        {
          "output_type": "stream",
          "text": [
            "\n",
            "\n",
            " 29%|██▊       | 37/129 [54:30<2:19:04, 90.70s/it]\u001b[A\u001b[A"
          ],
          "name": "stderr"
        },
        {
          "output_type": "stream",
          "text": [
            "12/12 [==============================] - 0s 4ms/step - loss: 0.5408 - accuracy: 0.8647\n"
          ],
          "name": "stdout"
        },
        {
          "output_type": "stream",
          "text": [
            "\n",
            "\n",
            " 29%|██▉       | 38/129 [56:10<2:22:02, 93.65s/it]\u001b[A\u001b[A"
          ],
          "name": "stderr"
        },
        {
          "output_type": "stream",
          "text": [
            "12/12 [==============================] - 0s 5ms/step - loss: 0.4748 - accuracy: 0.8621\n"
          ],
          "name": "stdout"
        },
        {
          "output_type": "stream",
          "text": [
            "\n",
            "\n",
            " 30%|███       | 39/129 [57:32<2:14:59, 90.00s/it]\u001b[A\u001b[A"
          ],
          "name": "stderr"
        },
        {
          "output_type": "stream",
          "text": [
            "12/12 [==============================] - 0s 4ms/step - loss: 0.6052 - accuracy: 0.8594\n"
          ],
          "name": "stdout"
        },
        {
          "output_type": "stream",
          "text": [
            "\n",
            "\n",
            " 31%|███       | 40/129 [59:06<2:15:35, 91.41s/it]\u001b[A\u001b[A"
          ],
          "name": "stderr"
        },
        {
          "output_type": "stream",
          "text": [
            "12/12 [==============================] - 0s 4ms/step - loss: 0.4377 - accuracy: 0.8541\n"
          ],
          "name": "stdout"
        },
        {
          "output_type": "stream",
          "text": [
            "\n",
            "\n",
            " 32%|███▏      | 41/129 [1:00:24<2:07:57, 87.24s/it]\u001b[A\u001b[A"
          ],
          "name": "stderr"
        },
        {
          "output_type": "stream",
          "text": [
            "12/12 [==============================] - 0s 4ms/step - loss: 0.4851 - accuracy: 0.8647\n"
          ],
          "name": "stdout"
        },
        {
          "output_type": "stream",
          "text": [
            "\n",
            "\n",
            " 33%|███▎      | 42/129 [1:01:53<2:07:24, 87.87s/it]\u001b[A\u001b[A"
          ],
          "name": "stderr"
        },
        {
          "output_type": "stream",
          "text": [
            "12/12 [==============================] - 0s 4ms/step - loss: 0.5107 - accuracy: 0.8621\n"
          ],
          "name": "stdout"
        },
        {
          "output_type": "stream",
          "text": [
            "\n",
            "\n",
            " 33%|███▎      | 43/129 [1:03:24<2:07:16, 88.79s/it]\u001b[A\u001b[A"
          ],
          "name": "stderr"
        },
        {
          "output_type": "stream",
          "text": [
            "12/12 [==============================] - 0s 4ms/step - loss: 0.5027 - accuracy: 0.8727\n"
          ],
          "name": "stdout"
        },
        {
          "output_type": "stream",
          "text": [
            "\n",
            "\n",
            " 34%|███▍      | 44/129 [1:04:52<2:05:22, 88.50s/it]\u001b[A\u001b[A"
          ],
          "name": "stderr"
        },
        {
          "output_type": "stream",
          "text": [
            "12/12 [==============================] - 0s 4ms/step - loss: 0.5186 - accuracy: 0.8302\n"
          ],
          "name": "stdout"
        },
        {
          "output_type": "stream",
          "text": [
            "\n",
            "\n",
            " 35%|███▍      | 45/129 [1:06:37<2:10:38, 93.31s/it]\u001b[A\u001b[A"
          ],
          "name": "stderr"
        },
        {
          "output_type": "stream",
          "text": [
            "12/12 [==============================] - 0s 4ms/step - loss: 0.4932 - accuracy: 0.8594\n"
          ],
          "name": "stdout"
        },
        {
          "output_type": "stream",
          "text": [
            "\n",
            "\n",
            " 36%|███▌      | 46/129 [1:08:09<2:08:55, 93.20s/it]\u001b[A\u001b[A"
          ],
          "name": "stderr"
        },
        {
          "output_type": "stream",
          "text": [
            "12/12 [==============================] - 0s 4ms/step - loss: 0.5292 - accuracy: 0.8700\n"
          ],
          "name": "stdout"
        },
        {
          "output_type": "stream",
          "text": [
            "\n",
            "\n",
            " 36%|███▋      | 47/129 [1:09:33<2:03:29, 90.36s/it]\u001b[A\u001b[A"
          ],
          "name": "stderr"
        },
        {
          "output_type": "stream",
          "text": [
            "12/12 [==============================] - 0s 4ms/step - loss: 0.5128 - accuracy: 0.8647\n"
          ],
          "name": "stdout"
        },
        {
          "output_type": "stream",
          "text": [
            "\n",
            "\n",
            " 37%|███▋      | 48/129 [1:11:08<2:03:47, 91.70s/it]\u001b[A\u001b[A"
          ],
          "name": "stderr"
        },
        {
          "output_type": "stream",
          "text": [
            "12/12 [==============================] - 0s 4ms/step - loss: 0.5670 - accuracy: 0.8515\n"
          ],
          "name": "stdout"
        },
        {
          "output_type": "stream",
          "text": [
            "\n",
            "\n",
            " 38%|███▊      | 49/129 [1:12:49<2:05:50, 94.38s/it]\u001b[A\u001b[A"
          ],
          "name": "stderr"
        },
        {
          "output_type": "stream",
          "text": [
            "12/12 [==============================] - 0s 4ms/step - loss: 0.5031 - accuracy: 0.8568\n"
          ],
          "name": "stdout"
        },
        {
          "output_type": "stream",
          "text": [
            "\n",
            "\n",
            " 39%|███▉      | 50/129 [1:14:21<2:03:38, 93.91s/it]\u001b[A\u001b[A"
          ],
          "name": "stderr"
        },
        {
          "output_type": "stream",
          "text": [
            "12/12 [==============================] - 0s 5ms/step - loss: 0.4871 - accuracy: 0.8568\n"
          ],
          "name": "stdout"
        },
        {
          "output_type": "stream",
          "text": [
            "\n",
            "\n",
            " 40%|███▉      | 51/129 [1:15:55<2:01:46, 93.67s/it]\u001b[A\u001b[A"
          ],
          "name": "stderr"
        },
        {
          "output_type": "stream",
          "text": [
            "12/12 [==============================] - 0s 4ms/step - loss: 0.5059 - accuracy: 0.8488\n"
          ],
          "name": "stdout"
        },
        {
          "output_type": "stream",
          "text": [
            "\n",
            "\n",
            " 40%|████      | 52/129 [1:17:40<2:04:43, 97.19s/it]\u001b[A\u001b[A"
          ],
          "name": "stderr"
        },
        {
          "output_type": "stream",
          "text": [
            "12/12 [==============================] - 0s 4ms/step - loss: 0.5413 - accuracy: 0.8568\n"
          ],
          "name": "stdout"
        },
        {
          "output_type": "stream",
          "text": [
            "\n",
            "\n",
            " 41%|████      | 53/129 [1:19:04<1:58:00, 93.17s/it]\u001b[A\u001b[A"
          ],
          "name": "stderr"
        },
        {
          "output_type": "stream",
          "text": [
            "12/12 [==============================] - 0s 4ms/step - loss: 0.5086 - accuracy: 0.8674\n"
          ],
          "name": "stdout"
        },
        {
          "output_type": "stream",
          "text": [
            "\n",
            "\n",
            " 42%|████▏     | 54/129 [1:20:47<2:00:20, 96.27s/it]\u001b[A\u001b[A"
          ],
          "name": "stderr"
        },
        {
          "output_type": "stream",
          "text": [
            "12/12 [==============================] - 0s 5ms/step - loss: 0.5054 - accuracy: 0.8780\n"
          ],
          "name": "stdout"
        },
        {
          "output_type": "stream",
          "text": [
            "\n",
            "\n",
            " 43%|████▎     | 55/129 [1:22:31<2:01:18, 98.36s/it]\u001b[A\u001b[A"
          ],
          "name": "stderr"
        },
        {
          "output_type": "stream",
          "text": [
            "12/12 [==============================] - 0s 4ms/step - loss: 0.4400 - accuracy: 0.8435\n"
          ],
          "name": "stdout"
        },
        {
          "output_type": "stream",
          "text": [
            "\n",
            "\n",
            " 43%|████▎     | 56/129 [1:23:51<1:53:01, 92.90s/it]\u001b[A\u001b[A"
          ],
          "name": "stderr"
        },
        {
          "output_type": "stream",
          "text": [
            "12/12 [==============================] - 0s 4ms/step - loss: 0.5129 - accuracy: 0.8568\n"
          ],
          "name": "stdout"
        },
        {
          "output_type": "stream",
          "text": [
            "\n",
            "\n",
            " 44%|████▍     | 57/129 [1:25:16<1:48:48, 90.67s/it]\u001b[A\u001b[A"
          ],
          "name": "stderr"
        },
        {
          "output_type": "stream",
          "text": [
            "12/12 [==============================] - 0s 4ms/step - loss: 0.5030 - accuracy: 0.8488\n"
          ],
          "name": "stdout"
        },
        {
          "output_type": "stream",
          "text": [
            "\n",
            "\n",
            " 45%|████▍     | 58/129 [1:26:55<1:50:16, 93.19s/it]\u001b[A\u001b[A"
          ],
          "name": "stderr"
        },
        {
          "output_type": "stream",
          "text": [
            "12/12 [==============================] - 0s 4ms/step - loss: 0.4613 - accuracy: 0.8647\n"
          ],
          "name": "stdout"
        },
        {
          "output_type": "stream",
          "text": [
            "\n",
            "\n",
            " 46%|████▌     | 59/129 [1:28:14<1:43:49, 88.99s/it]\u001b[A\u001b[A"
          ],
          "name": "stderr"
        },
        {
          "output_type": "stream",
          "text": [
            "12/12 [==============================] - 0s 4ms/step - loss: 0.4546 - accuracy: 0.8515\n"
          ],
          "name": "stdout"
        },
        {
          "output_type": "stream",
          "text": [
            "\n",
            "\n",
            " 47%|████▋     | 60/129 [1:29:35<1:39:34, 86.59s/it]\u001b[A\u001b[A"
          ],
          "name": "stderr"
        },
        {
          "output_type": "stream",
          "text": [
            "12/12 [==============================] - 0s 4ms/step - loss: 0.5136 - accuracy: 0.8647\n"
          ],
          "name": "stdout"
        },
        {
          "output_type": "stream",
          "text": [
            "\n",
            "\n",
            " 47%|████▋     | 61/129 [1:31:18<1:43:28, 91.31s/it]\u001b[A\u001b[A"
          ],
          "name": "stderr"
        },
        {
          "output_type": "stream",
          "text": [
            "12/12 [==============================] - 0s 4ms/step - loss: 0.5537 - accuracy: 0.8594\n"
          ],
          "name": "stdout"
        },
        {
          "output_type": "stream",
          "text": [
            "\n",
            "\n",
            " 48%|████▊     | 62/129 [1:32:56<1:44:21, 93.45s/it]\u001b[A\u001b[A"
          ],
          "name": "stderr"
        },
        {
          "output_type": "stream",
          "text": [
            "12/12 [==============================] - 0s 4ms/step - loss: 0.5049 - accuracy: 0.8541\n"
          ],
          "name": "stdout"
        },
        {
          "output_type": "stream",
          "text": [
            "\n",
            "\n",
            " 49%|████▉     | 63/129 [1:34:31<1:43:08, 93.76s/it]\u001b[A\u001b[A"
          ],
          "name": "stderr"
        },
        {
          "output_type": "stream",
          "text": [
            "12/12 [==============================] - 0s 4ms/step - loss: 0.5058 - accuracy: 0.8488\n"
          ],
          "name": "stdout"
        },
        {
          "output_type": "stream",
          "text": [
            "\n",
            "\n",
            " 50%|████▉     | 64/129 [1:36:13<1:44:24, 96.37s/it]\u001b[A\u001b[A"
          ],
          "name": "stderr"
        },
        {
          "output_type": "stream",
          "text": [
            "12/12 [==============================] - 0s 4ms/step - loss: 0.5253 - accuracy: 0.8568\n"
          ],
          "name": "stdout"
        },
        {
          "output_type": "stream",
          "text": [
            "\n",
            "\n",
            " 50%|█████     | 65/129 [1:37:34<1:37:46, 91.67s/it]\u001b[A\u001b[A"
          ],
          "name": "stderr"
        },
        {
          "output_type": "stream",
          "text": [
            "12/12 [==============================] - 0s 4ms/step - loss: 0.5023 - accuracy: 0.8594\n"
          ],
          "name": "stdout"
        },
        {
          "output_type": "stream",
          "text": [
            "\n",
            "\n",
            " 51%|█████     | 66/129 [1:38:56<1:33:11, 88.76s/it]\u001b[A\u001b[A"
          ],
          "name": "stderr"
        },
        {
          "output_type": "stream",
          "text": [
            "12/12 [==============================] - 0s 4ms/step - loss: 0.4418 - accuracy: 0.8647\n"
          ],
          "name": "stdout"
        },
        {
          "output_type": "stream",
          "text": [
            "\n",
            "\n",
            " 52%|█████▏    | 67/129 [1:40:40<1:36:37, 93.50s/it]\u001b[A\u001b[A"
          ],
          "name": "stderr"
        },
        {
          "output_type": "stream",
          "text": [
            "12/12 [==============================] - 0s 4ms/step - loss: 0.5902 - accuracy: 0.8515\n"
          ],
          "name": "stdout"
        },
        {
          "output_type": "stream",
          "text": [
            "\n",
            "\n",
            " 53%|█████▎    | 68/129 [1:42:13<1:34:54, 93.35s/it]\u001b[A\u001b[A"
          ],
          "name": "stderr"
        },
        {
          "output_type": "stream",
          "text": [
            "12/12 [==============================] - 0s 4ms/step - loss: 0.4893 - accuracy: 0.8621\n"
          ],
          "name": "stdout"
        },
        {
          "output_type": "stream",
          "text": [
            "\n",
            "\n",
            " 53%|█████▎    | 69/129 [1:43:47<1:33:21, 93.36s/it]\u001b[A\u001b[A"
          ],
          "name": "stderr"
        },
        {
          "output_type": "stream",
          "text": [
            "12/12 [==============================] - 0s 5ms/step - loss: 0.4717 - accuracy: 0.8541\n"
          ],
          "name": "stdout"
        },
        {
          "output_type": "stream",
          "text": [
            "\n",
            "\n",
            " 54%|█████▍    | 70/129 [1:45:21<1:32:05, 93.66s/it]\u001b[A\u001b[A"
          ],
          "name": "stderr"
        },
        {
          "output_type": "stream",
          "text": [
            "12/12 [==============================] - 0s 4ms/step - loss: 0.5158 - accuracy: 0.8568\n"
          ],
          "name": "stdout"
        },
        {
          "output_type": "stream",
          "text": [
            "\n",
            "\n",
            " 55%|█████▌    | 71/129 [1:47:03<1:33:00, 96.21s/it]\u001b[A\u001b[A"
          ],
          "name": "stderr"
        },
        {
          "output_type": "stream",
          "text": [
            "12/12 [==============================] - 0s 4ms/step - loss: 0.4363 - accuracy: 0.8541\n"
          ],
          "name": "stdout"
        },
        {
          "output_type": "stream",
          "text": [
            "\n",
            "\n",
            " 56%|█████▌    | 72/129 [1:48:45<1:32:54, 97.79s/it]\u001b[A\u001b[A"
          ],
          "name": "stderr"
        },
        {
          "output_type": "stream",
          "text": [
            "12/12 [==============================] - 0s 5ms/step - loss: 0.5147 - accuracy: 0.8594\n"
          ],
          "name": "stdout"
        },
        {
          "output_type": "stream",
          "text": [
            "\n",
            "\n",
            " 57%|█████▋    | 73/129 [1:50:29<1:33:03, 99.70s/it]\u001b[A\u001b[A"
          ],
          "name": "stderr"
        },
        {
          "output_type": "stream",
          "text": [
            "12/12 [==============================] - 0s 4ms/step - loss: 0.5193 - accuracy: 0.8594\n"
          ],
          "name": "stdout"
        },
        {
          "output_type": "stream",
          "text": [
            "\n",
            "\n",
            " 57%|█████▋    | 74/129 [1:52:00<1:29:03, 97.16s/it]\u001b[A\u001b[A"
          ],
          "name": "stderr"
        },
        {
          "output_type": "stream",
          "text": [
            "12/12 [==============================] - 0s 4ms/step - loss: 0.5223 - accuracy: 0.8621\n"
          ],
          "name": "stdout"
        },
        {
          "output_type": "stream",
          "text": [
            "\n",
            "\n",
            " 58%|█████▊    | 75/129 [1:53:17<1:22:03, 91.17s/it]\u001b[A\u001b[A"
          ],
          "name": "stderr"
        },
        {
          "output_type": "stream",
          "text": [
            "12/12 [==============================] - 0s 5ms/step - loss: 0.4990 - accuracy: 0.8674\n"
          ],
          "name": "stdout"
        },
        {
          "output_type": "stream",
          "text": [
            "\n",
            "\n",
            " 59%|█████▉    | 76/129 [1:54:41<1:18:25, 88.77s/it]\u001b[A\u001b[A"
          ],
          "name": "stderr"
        },
        {
          "output_type": "stream",
          "text": [
            "12/12 [==============================] - 0s 4ms/step - loss: 0.6119 - accuracy: 0.8674\n"
          ],
          "name": "stdout"
        },
        {
          "output_type": "stream",
          "text": [
            "\n",
            "\n",
            " 60%|█████▉    | 77/129 [1:56:11<1:17:26, 89.35s/it]\u001b[A\u001b[A"
          ],
          "name": "stderr"
        },
        {
          "output_type": "stream",
          "text": [
            "12/12 [==============================] - 0s 4ms/step - loss: 0.5207 - accuracy: 0.8488\n"
          ],
          "name": "stdout"
        },
        {
          "output_type": "stream",
          "text": [
            "\n",
            "\n",
            " 60%|██████    | 78/129 [1:57:39<1:15:29, 88.81s/it]\u001b[A\u001b[A"
          ],
          "name": "stderr"
        },
        {
          "output_type": "stream",
          "text": [
            "12/12 [==============================] - 0s 4ms/step - loss: 0.4994 - accuracy: 0.8541\n"
          ],
          "name": "stdout"
        },
        {
          "output_type": "stream",
          "text": [
            "\n",
            "\n",
            " 61%|██████    | 79/129 [1:59:03<1:12:46, 87.33s/it]\u001b[A\u001b[A"
          ],
          "name": "stderr"
        },
        {
          "output_type": "stream",
          "text": [
            "12/12 [==============================] - 0s 4ms/step - loss: 0.5362 - accuracy: 0.8594\n"
          ],
          "name": "stdout"
        },
        {
          "output_type": "stream",
          "text": [
            "\n",
            "\n",
            " 62%|██████▏   | 80/129 [2:00:18<1:08:30, 83.88s/it]\u001b[A\u001b[A"
          ],
          "name": "stderr"
        },
        {
          "output_type": "stream",
          "text": [
            "12/12 [==============================] - 0s 4ms/step - loss: 0.5958 - accuracy: 0.8568\n"
          ],
          "name": "stdout"
        },
        {
          "output_type": "stream",
          "text": [
            "\n",
            "\n",
            " 63%|██████▎   | 81/129 [2:01:50<1:08:58, 86.22s/it]\u001b[A\u001b[A"
          ],
          "name": "stderr"
        },
        {
          "output_type": "stream",
          "text": [
            "12/12 [==============================] - 0s 4ms/step - loss: 0.5357 - accuracy: 0.8568\n"
          ],
          "name": "stdout"
        },
        {
          "output_type": "stream",
          "text": [
            "\n",
            "\n",
            " 64%|██████▎   | 82/129 [2:03:14<1:06:58, 85.50s/it]\u001b[A\u001b[A"
          ],
          "name": "stderr"
        },
        {
          "output_type": "stream",
          "text": [
            "12/12 [==============================] - 0s 4ms/step - loss: 0.4932 - accuracy: 0.8594\n"
          ],
          "name": "stdout"
        },
        {
          "output_type": "stream",
          "text": [
            "\n",
            "\n",
            " 64%|██████▍   | 83/129 [2:04:29<1:03:01, 82.21s/it]\u001b[A\u001b[A"
          ],
          "name": "stderr"
        },
        {
          "output_type": "stream",
          "text": [
            "12/12 [==============================] - 0s 5ms/step - loss: 0.4806 - accuracy: 0.8647\n"
          ],
          "name": "stdout"
        },
        {
          "output_type": "stream",
          "text": [
            "\n",
            "\n",
            " 65%|██████▌   | 84/129 [2:05:59<1:03:36, 84.81s/it]\u001b[A\u001b[A"
          ],
          "name": "stderr"
        },
        {
          "output_type": "stream",
          "text": [
            "12/12 [==============================] - 0s 4ms/step - loss: 0.5270 - accuracy: 0.8568\n"
          ],
          "name": "stdout"
        },
        {
          "output_type": "stream",
          "text": [
            "\n",
            "\n",
            " 66%|██████▌   | 85/129 [2:07:36<1:04:41, 88.21s/it]\u001b[A\u001b[A"
          ],
          "name": "stderr"
        },
        {
          "output_type": "stream",
          "text": [
            "12/12 [==============================] - 0s 4ms/step - loss: 0.5217 - accuracy: 0.8568\n"
          ],
          "name": "stdout"
        },
        {
          "output_type": "stream",
          "text": [
            "\n",
            "\n",
            " 67%|██████▋   | 86/129 [2:08:58<1:02:03, 86.59s/it]\u001b[A\u001b[A"
          ],
          "name": "stderr"
        },
        {
          "output_type": "stream",
          "text": [
            "12/12 [==============================] - 0s 4ms/step - loss: 0.4936 - accuracy: 0.8647\n"
          ],
          "name": "stdout"
        },
        {
          "output_type": "stream",
          "text": [
            "\n",
            "\n",
            " 67%|██████▋   | 87/129 [2:10:30<1:01:38, 88.07s/it]\u001b[A\u001b[A"
          ],
          "name": "stderr"
        },
        {
          "output_type": "stream",
          "text": [
            "12/12 [==============================] - 0s 4ms/step - loss: 0.5084 - accuracy: 0.8647\n"
          ],
          "name": "stdout"
        },
        {
          "output_type": "stream",
          "text": [
            "\n",
            "\n",
            " 68%|██████▊   | 88/129 [2:11:56<59:40, 87.34s/it]  \u001b[A\u001b[A"
          ],
          "name": "stderr"
        },
        {
          "output_type": "stream",
          "text": [
            "12/12 [==============================] - 0s 4ms/step - loss: 0.4378 - accuracy: 0.8647\n"
          ],
          "name": "stdout"
        },
        {
          "output_type": "stream",
          "text": [
            "\n",
            "\n",
            " 69%|██████▉   | 89/129 [2:13:33<1:00:10, 90.26s/it]\u001b[A\u001b[A"
          ],
          "name": "stderr"
        },
        {
          "output_type": "stream",
          "text": [
            "12/12 [==============================] - 0s 4ms/step - loss: 0.5025 - accuracy: 0.8541\n"
          ],
          "name": "stdout"
        },
        {
          "output_type": "stream",
          "text": [
            "\n",
            "\n",
            " 70%|██████▉   | 90/129 [2:15:02<58:27, 89.93s/it]  \u001b[A\u001b[A"
          ],
          "name": "stderr"
        },
        {
          "output_type": "stream",
          "text": [
            "12/12 [==============================] - 0s 4ms/step - loss: 0.4827 - accuracy: 0.8647\n"
          ],
          "name": "stdout"
        },
        {
          "output_type": "stream",
          "text": [
            "\n",
            "\n",
            " 71%|███████   | 91/129 [2:16:42<58:52, 92.95s/it]\u001b[A\u001b[A"
          ],
          "name": "stderr"
        },
        {
          "output_type": "stream",
          "text": [
            "12/12 [==============================] - 0s 5ms/step - loss: 0.4382 - accuracy: 0.8621\n"
          ],
          "name": "stdout"
        },
        {
          "output_type": "stream",
          "text": [
            "\n",
            "\n",
            " 71%|███████▏  | 92/129 [2:18:05<55:30, 90.01s/it]\u001b[A\u001b[A"
          ],
          "name": "stderr"
        },
        {
          "output_type": "stream",
          "text": [
            "12/12 [==============================] - 0s 4ms/step - loss: 0.4783 - accuracy: 0.8647\n"
          ],
          "name": "stdout"
        },
        {
          "output_type": "stream",
          "text": [
            "\n",
            "\n",
            " 72%|███████▏  | 93/129 [2:19:44<55:35, 92.65s/it]\u001b[A\u001b[A"
          ],
          "name": "stderr"
        },
        {
          "output_type": "stream",
          "text": [
            "12/12 [==============================] - 0s 4ms/step - loss: 0.5744 - accuracy: 0.8382\n"
          ],
          "name": "stdout"
        },
        {
          "output_type": "stream",
          "text": [
            "\n",
            "\n",
            " 73%|███████▎  | 94/129 [2:21:23<55:16, 94.75s/it]\u001b[A\u001b[A"
          ],
          "name": "stderr"
        },
        {
          "output_type": "stream",
          "text": [
            "12/12 [==============================] - 0s 4ms/step - loss: 0.4427 - accuracy: 0.8568\n"
          ],
          "name": "stdout"
        },
        {
          "output_type": "stream",
          "text": [
            "\n",
            "\n",
            " 74%|███████▎  | 95/129 [2:22:43<51:05, 90.15s/it]\u001b[A\u001b[A"
          ],
          "name": "stderr"
        },
        {
          "output_type": "stream",
          "text": [
            "12/12 [==============================] - 0s 5ms/step - loss: 0.5124 - accuracy: 0.8594\n"
          ],
          "name": "stdout"
        },
        {
          "output_type": "stream",
          "text": [
            "\n",
            "\n",
            " 74%|███████▍  | 96/129 [2:24:01<47:37, 86.59s/it]\u001b[A\u001b[A"
          ],
          "name": "stderr"
        },
        {
          "output_type": "stream",
          "text": [
            "12/12 [==============================] - 0s 4ms/step - loss: 0.4722 - accuracy: 0.8727\n"
          ],
          "name": "stdout"
        },
        {
          "output_type": "stream",
          "text": [
            "\n",
            "\n",
            " 75%|███████▌  | 97/129 [2:25:30<46:36, 87.38s/it]\u001b[A\u001b[A"
          ],
          "name": "stderr"
        },
        {
          "output_type": "stream",
          "text": [
            "12/12 [==============================] - 0s 4ms/step - loss: 0.5325 - accuracy: 0.8647\n"
          ],
          "name": "stdout"
        },
        {
          "output_type": "stream",
          "text": [
            "\n",
            "\n",
            " 76%|███████▌  | 98/129 [2:27:05<46:17, 89.61s/it]\u001b[A\u001b[A"
          ],
          "name": "stderr"
        },
        {
          "output_type": "stream",
          "text": [
            "12/12 [==============================] - 0s 4ms/step - loss: 0.5519 - accuracy: 0.8753\n"
          ],
          "name": "stdout"
        },
        {
          "output_type": "stream",
          "text": [
            "\n",
            "\n",
            " 77%|███████▋  | 99/129 [2:28:21<42:46, 85.54s/it]\u001b[A\u001b[A"
          ],
          "name": "stderr"
        },
        {
          "output_type": "stream",
          "text": [
            "12/12 [==============================] - 0s 4ms/step - loss: 0.5025 - accuracy: 0.8541\n"
          ],
          "name": "stdout"
        },
        {
          "output_type": "stream",
          "text": [
            "\n",
            "\n",
            " 78%|███████▊  | 100/129 [2:29:36<39:44, 82.21s/it]\u001b[A\u001b[A"
          ],
          "name": "stderr"
        },
        {
          "output_type": "stream",
          "text": [
            "12/12 [==============================] - 0s 4ms/step - loss: 0.4780 - accuracy: 0.8727\n"
          ],
          "name": "stdout"
        },
        {
          "output_type": "stream",
          "text": [
            "\n",
            "\n",
            " 78%|███████▊  | 101/129 [2:31:11<40:16, 86.31s/it]\u001b[A\u001b[A"
          ],
          "name": "stderr"
        },
        {
          "output_type": "stream",
          "text": [
            "12/12 [==============================] - 0s 5ms/step - loss: 0.4970 - accuracy: 0.8647\n"
          ],
          "name": "stdout"
        },
        {
          "output_type": "stream",
          "text": [
            "\n",
            "\n",
            " 79%|███████▉  | 102/129 [2:32:53<40:51, 90.81s/it]\u001b[A\u001b[A"
          ],
          "name": "stderr"
        },
        {
          "output_type": "stream",
          "text": [
            "12/12 [==============================] - 0s 4ms/step - loss: 0.4372 - accuracy: 0.8700\n"
          ],
          "name": "stdout"
        },
        {
          "output_type": "stream",
          "text": [
            "\n",
            "\n",
            " 80%|███████▉  | 103/129 [2:34:23<39:18, 90.72s/it]\u001b[A\u001b[A"
          ],
          "name": "stderr"
        },
        {
          "output_type": "stream",
          "text": [
            "12/12 [==============================] - 0s 4ms/step - loss: 0.5137 - accuracy: 0.8488\n"
          ],
          "name": "stdout"
        },
        {
          "output_type": "stream",
          "text": [
            "\n",
            "\n",
            " 81%|████████  | 104/129 [2:35:44<36:35, 87.83s/it]\u001b[A\u001b[A"
          ],
          "name": "stderr"
        },
        {
          "output_type": "stream",
          "text": [
            "12/12 [==============================] - 0s 4ms/step - loss: 0.5040 - accuracy: 0.8621\n"
          ],
          "name": "stdout"
        },
        {
          "output_type": "stream",
          "text": [
            "\n",
            "\n",
            " 81%|████████▏ | 105/129 [2:37:04<34:09, 85.39s/it]\u001b[A\u001b[A"
          ],
          "name": "stderr"
        },
        {
          "output_type": "stream",
          "text": [
            "12/12 [==============================] - 0s 4ms/step - loss: 0.5242 - accuracy: 0.8462\n"
          ],
          "name": "stdout"
        },
        {
          "output_type": "stream",
          "text": [
            "\n",
            "\n",
            " 82%|████████▏ | 106/129 [2:38:20<31:40, 82.64s/it]\u001b[A\u001b[A"
          ],
          "name": "stderr"
        },
        {
          "output_type": "stream",
          "text": [
            "12/12 [==============================] - 0s 4ms/step - loss: 0.4730 - accuracy: 0.8541\n"
          ],
          "name": "stdout"
        },
        {
          "output_type": "stream",
          "text": [
            "\n",
            "\n",
            " 83%|████████▎ | 107/129 [2:39:36<29:35, 80.71s/it]\u001b[A\u001b[A"
          ],
          "name": "stderr"
        },
        {
          "output_type": "stream",
          "text": [
            "12/12 [==============================] - 0s 4ms/step - loss: 0.5224 - accuracy: 0.8674\n"
          ],
          "name": "stdout"
        },
        {
          "output_type": "stream",
          "text": [
            "\n",
            "\n",
            " 84%|████████▎ | 108/129 [2:41:07<29:14, 83.54s/it]\u001b[A\u001b[A"
          ],
          "name": "stderr"
        },
        {
          "output_type": "stream",
          "text": [
            "12/12 [==============================] - 0s 4ms/step - loss: 0.4929 - accuracy: 0.8541\n"
          ],
          "name": "stdout"
        },
        {
          "output_type": "stream",
          "text": [
            "\n",
            "\n",
            " 84%|████████▍ | 109/129 [2:42:24<27:15, 81.75s/it]\u001b[A\u001b[A"
          ],
          "name": "stderr"
        },
        {
          "output_type": "stream",
          "text": [
            "12/12 [==============================] - 0s 4ms/step - loss: 0.5084 - accuracy: 0.8594\n"
          ],
          "name": "stdout"
        },
        {
          "output_type": "stream",
          "text": [
            "\n",
            "\n",
            " 85%|████████▌ | 110/129 [2:43:45<25:46, 81.39s/it]\u001b[A\u001b[A"
          ],
          "name": "stderr"
        },
        {
          "output_type": "stream",
          "text": [
            "12/12 [==============================] - 0s 4ms/step - loss: 0.4802 - accuracy: 0.8700\n"
          ],
          "name": "stdout"
        },
        {
          "output_type": "stream",
          "text": [
            "\n",
            "\n",
            " 86%|████████▌ | 111/129 [2:45:16<25:19, 84.44s/it]\u001b[A\u001b[A"
          ],
          "name": "stderr"
        },
        {
          "output_type": "stream",
          "text": [
            "12/12 [==============================] - 0s 4ms/step - loss: 0.5286 - accuracy: 0.8488\n"
          ],
          "name": "stdout"
        },
        {
          "output_type": "stream",
          "text": [
            "\n",
            "\n",
            " 87%|████████▋ | 112/129 [2:46:41<23:55, 84.43s/it]\u001b[A\u001b[A"
          ],
          "name": "stderr"
        },
        {
          "output_type": "stream",
          "text": [
            "12/12 [==============================] - 0s 4ms/step - loss: 0.4888 - accuracy: 0.8541\n"
          ],
          "name": "stdout"
        },
        {
          "output_type": "stream",
          "text": [
            "\n",
            "\n",
            " 88%|████████▊ | 113/129 [2:48:16<23:21, 87.59s/it]\u001b[A\u001b[A"
          ],
          "name": "stderr"
        },
        {
          "output_type": "stream",
          "text": [
            "12/12 [==============================] - 0s 4ms/step - loss: 0.5536 - accuracy: 0.8700\n"
          ],
          "name": "stdout"
        },
        {
          "output_type": "stream",
          "text": [
            "\n",
            "\n",
            " 88%|████████▊ | 114/129 [2:49:43<21:51, 87.41s/it]\u001b[A\u001b[A"
          ],
          "name": "stderr"
        },
        {
          "output_type": "stream",
          "text": [
            "12/12 [==============================] - 0s 4ms/step - loss: 0.4200 - accuracy: 0.8700\n"
          ],
          "name": "stdout"
        },
        {
          "output_type": "stream",
          "text": [
            "\n",
            "\n",
            " 89%|████████▉ | 115/129 [2:51:10<20:22, 87.33s/it]\u001b[A\u001b[A"
          ],
          "name": "stderr"
        },
        {
          "output_type": "stream",
          "text": [
            "12/12 [==============================] - 0s 4ms/step - loss: 0.5560 - accuracy: 0.8541\n"
          ],
          "name": "stdout"
        },
        {
          "output_type": "stream",
          "text": [
            "\n",
            "\n",
            " 90%|████████▉ | 116/129 [2:52:46<19:30, 90.08s/it]\u001b[A\u001b[A"
          ],
          "name": "stderr"
        },
        {
          "output_type": "stream",
          "text": [
            "12/12 [==============================] - 0s 4ms/step - loss: 0.4937 - accuracy: 0.8674\n"
          ],
          "name": "stdout"
        },
        {
          "output_type": "stream",
          "text": [
            "\n",
            "\n",
            " 91%|█████████ | 117/129 [2:54:11<17:40, 88.41s/it]\u001b[A\u001b[A"
          ],
          "name": "stderr"
        },
        {
          "output_type": "stream",
          "text": [
            "12/12 [==============================] - 0s 4ms/step - loss: 0.5597 - accuracy: 0.8488\n"
          ],
          "name": "stdout"
        },
        {
          "output_type": "stream",
          "text": [
            "\n",
            "\n",
            " 91%|█████████▏| 118/129 [2:55:42<16:20, 89.14s/it]\u001b[A\u001b[A"
          ],
          "name": "stderr"
        },
        {
          "output_type": "stream",
          "text": [
            "12/12 [==============================] - 0s 4ms/step - loss: 0.4453 - accuracy: 0.8515\n"
          ],
          "name": "stdout"
        },
        {
          "output_type": "stream",
          "text": [
            "\n",
            "\n",
            " 92%|█████████▏| 119/129 [2:56:57<14:10, 85.03s/it]\u001b[A\u001b[A"
          ],
          "name": "stderr"
        },
        {
          "output_type": "stream",
          "text": [
            "12/12 [==============================] - 0s 5ms/step - loss: 0.5886 - accuracy: 0.8541\n"
          ],
          "name": "stdout"
        },
        {
          "output_type": "stream",
          "text": [
            "\n",
            "\n",
            " 93%|█████████▎| 120/129 [2:58:30<13:06, 87.42s/it]\u001b[A\u001b[A"
          ],
          "name": "stderr"
        },
        {
          "output_type": "stream",
          "text": [
            "12/12 [==============================] - 0s 4ms/step - loss: 0.4966 - accuracy: 0.8647\n"
          ],
          "name": "stdout"
        },
        {
          "output_type": "stream",
          "text": [
            "\n",
            "\n",
            " 94%|█████████▍| 121/129 [3:00:00<11:45, 88.21s/it]\u001b[A\u001b[A"
          ],
          "name": "stderr"
        },
        {
          "output_type": "stream",
          "text": [
            "12/12 [==============================] - 0s 4ms/step - loss: 0.5149 - accuracy: 0.8594\n"
          ],
          "name": "stdout"
        },
        {
          "output_type": "stream",
          "text": [
            "\n",
            "\n",
            " 95%|█████████▍| 122/129 [3:01:34<10:28, 89.80s/it]\u001b[A\u001b[A"
          ],
          "name": "stderr"
        },
        {
          "output_type": "stream",
          "text": [
            "12/12 [==============================] - 0s 4ms/step - loss: 0.5264 - accuracy: 0.8647\n"
          ],
          "name": "stdout"
        },
        {
          "output_type": "stream",
          "text": [
            "\n",
            "\n",
            " 95%|█████████▌| 123/129 [3:02:51<08:37, 86.19s/it]\u001b[A\u001b[A"
          ],
          "name": "stderr"
        },
        {
          "output_type": "stream",
          "text": [
            "12/12 [==============================] - 0s 4ms/step - loss: 0.4993 - accuracy: 0.8568\n"
          ],
          "name": "stdout"
        },
        {
          "output_type": "stream",
          "text": [
            "\n",
            "\n",
            " 96%|█████████▌| 124/129 [3:04:19<07:12, 86.49s/it]\u001b[A\u001b[A"
          ],
          "name": "stderr"
        },
        {
          "output_type": "stream",
          "text": [
            "12/12 [==============================] - 0s 4ms/step - loss: 0.5085 - accuracy: 0.8700\n"
          ],
          "name": "stdout"
        },
        {
          "output_type": "stream",
          "text": [
            "\n",
            "\n",
            " 97%|█████████▋| 125/129 [3:05:43<05:42, 85.72s/it]\u001b[A\u001b[A"
          ],
          "name": "stderr"
        },
        {
          "output_type": "stream",
          "text": [
            "12/12 [==============================] - 0s 4ms/step - loss: 0.5285 - accuracy: 0.8568\n"
          ],
          "name": "stdout"
        },
        {
          "output_type": "stream",
          "text": [
            "\n",
            "\n",
            " 98%|█████████▊| 126/129 [3:07:08<04:17, 85.68s/it]\u001b[A\u001b[A"
          ],
          "name": "stderr"
        },
        {
          "output_type": "stream",
          "text": [
            "12/12 [==============================] - 0s 4ms/step - loss: 0.4978 - accuracy: 0.8621\n"
          ],
          "name": "stdout"
        },
        {
          "output_type": "stream",
          "text": [
            "\n",
            "\n",
            " 98%|█████████▊| 127/129 [3:08:40<02:55, 87.61s/it]\u001b[A\u001b[A"
          ],
          "name": "stderr"
        },
        {
          "output_type": "stream",
          "text": [
            "12/12 [==============================] - 0s 4ms/step - loss: 0.5558 - accuracy: 0.8647\n"
          ],
          "name": "stdout"
        },
        {
          "output_type": "stream",
          "text": [
            "\n",
            "\n",
            " 99%|█████████▉| 128/129 [3:10:13<01:29, 89.11s/it]\u001b[A\u001b[A"
          ],
          "name": "stderr"
        },
        {
          "output_type": "stream",
          "text": [
            "12/12 [==============================] - 0s 4ms/step - loss: 0.4555 - accuracy: 0.8435\n"
          ],
          "name": "stdout"
        },
        {
          "output_type": "stream",
          "text": [
            "\n",
            "\n",
            "100%|██████████| 129/129 [3:11:39<00:00, 89.14s/it]\n"
          ],
          "name": "stderr"
        }
      ]
    },
    {
      "cell_type": "code",
      "metadata": {
        "id": "mZq1XP94SXsc",
        "colab": {
          "base_uri": "https://localhost:8080/",
          "height": 590
        },
        "outputId": "879586d4-610e-40a7-e5a2-bcd9fe49ad6d"
      },
      "source": [
        "hasil_LSTMCNN = pd.concat([scan_object4.data,talos_optimal_LSTMCNN],axis=1)\n",
        "hasil_LSTMCNN.sort_values('val_loss_optimal')"
      ],
      "execution_count": 28,
      "outputs": [
        {
          "output_type": "execute_result",
          "data": {
            "text/html": [
              "<div>\n",
              "<style scoped>\n",
              "    .dataframe tbody tr th:only-of-type {\n",
              "        vertical-align: middle;\n",
              "    }\n",
              "\n",
              "    .dataframe tbody tr th {\n",
              "        vertical-align: top;\n",
              "    }\n",
              "\n",
              "    .dataframe thead th {\n",
              "        text-align: right;\n",
              "    }\n",
              "</style>\n",
              "<table border=\"1\" class=\"dataframe\">\n",
              "  <thead>\n",
              "    <tr style=\"text-align: right;\">\n",
              "      <th></th>\n",
              "      <th>start</th>\n",
              "      <th>end</th>\n",
              "      <th>duration</th>\n",
              "      <th>round_epochs</th>\n",
              "      <th>loss</th>\n",
              "      <th>accuracy</th>\n",
              "      <th>val_loss</th>\n",
              "      <th>val_accuracy</th>\n",
              "      <th>embd_size</th>\n",
              "      <th>filter</th>\n",
              "      <th>l2_cnn</th>\n",
              "      <th>l2_dense</th>\n",
              "      <th>l2_ker</th>\n",
              "      <th>l2_rec</th>\n",
              "      <th>region_size</th>\n",
              "      <th>units</th>\n",
              "      <th>epochs_optimal</th>\n",
              "      <th>val_loss_optimal</th>\n",
              "      <th>val_acc_optimal</th>\n",
              "    </tr>\n",
              "  </thead>\n",
              "  <tbody>\n",
              "    <tr>\n",
              "      <th>9</th>\n",
              "      <td>11/26/20-142830</td>\n",
              "      <td>11/26/20-143005</td>\n",
              "      <td>95.003282</td>\n",
              "      <td>150</td>\n",
              "      <td>0.074862</td>\n",
              "      <td>0.994695</td>\n",
              "      <td>0.661949</td>\n",
              "      <td>0.862069</td>\n",
              "      <td>128</td>\n",
              "      <td>200</td>\n",
              "      <td>0.010</td>\n",
              "      <td>0.001</td>\n",
              "      <td>0.010</td>\n",
              "      <td>0.001</td>\n",
              "      <td>3</td>\n",
              "      <td>200</td>\n",
              "      <td>125.0</td>\n",
              "      <td>0.407674</td>\n",
              "      <td>0.867374</td>\n",
              "    </tr>\n",
              "    <tr>\n",
              "      <th>114</th>\n",
              "      <td>11/26/20-170622</td>\n",
              "      <td>11/26/20-170749</td>\n",
              "      <td>86.909899</td>\n",
              "      <td>150</td>\n",
              "      <td>0.067232</td>\n",
              "      <td>0.998674</td>\n",
              "      <td>0.761970</td>\n",
              "      <td>0.856764</td>\n",
              "      <td>100</td>\n",
              "      <td>200</td>\n",
              "      <td>0.010</td>\n",
              "      <td>0.001</td>\n",
              "      <td>0.010</td>\n",
              "      <td>0.001</td>\n",
              "      <td>3</td>\n",
              "      <td>150</td>\n",
              "      <td>145.0</td>\n",
              "      <td>0.420034</td>\n",
              "      <td>0.870027</td>\n",
              "    </tr>\n",
              "    <tr>\n",
              "      <th>15</th>\n",
              "      <td>11/26/20-143713</td>\n",
              "      <td>11/26/20-143840</td>\n",
              "      <td>86.567612</td>\n",
              "      <td>150</td>\n",
              "      <td>0.064540</td>\n",
              "      <td>0.996684</td>\n",
              "      <td>0.707626</td>\n",
              "      <td>0.848806</td>\n",
              "      <td>100</td>\n",
              "      <td>300</td>\n",
              "      <td>0.001</td>\n",
              "      <td>0.010</td>\n",
              "      <td>0.010</td>\n",
              "      <td>0.001</td>\n",
              "      <td>5</td>\n",
              "      <td>100</td>\n",
              "      <td>117.0</td>\n",
              "      <td>0.425144</td>\n",
              "      <td>0.870027</td>\n",
              "    </tr>\n",
              "    <tr>\n",
              "      <th>30</th>\n",
              "      <td>11/26/20-150034</td>\n",
              "      <td>11/26/20-150204</td>\n",
              "      <td>90.366581</td>\n",
              "      <td>150</td>\n",
              "      <td>0.065118</td>\n",
              "      <td>0.997347</td>\n",
              "      <td>0.599975</td>\n",
              "      <td>0.870027</td>\n",
              "      <td>100</td>\n",
              "      <td>250</td>\n",
              "      <td>0.010</td>\n",
              "      <td>0.001</td>\n",
              "      <td>0.010</td>\n",
              "      <td>0.001</td>\n",
              "      <td>3</td>\n",
              "      <td>150</td>\n",
              "      <td>89.0</td>\n",
              "      <td>0.434456</td>\n",
              "      <td>0.867374</td>\n",
              "    </tr>\n",
              "    <tr>\n",
              "      <th>32</th>\n",
              "      <td>11/26/20-150327</td>\n",
              "      <td>11/26/20-150509</td>\n",
              "      <td>101.474661</td>\n",
              "      <td>150</td>\n",
              "      <td>0.080727</td>\n",
              "      <td>0.994695</td>\n",
              "      <td>0.435829</td>\n",
              "      <td>0.859416</td>\n",
              "      <td>128</td>\n",
              "      <td>200</td>\n",
              "      <td>0.010</td>\n",
              "      <td>0.010</td>\n",
              "      <td>0.001</td>\n",
              "      <td>0.001</td>\n",
              "      <td>5</td>\n",
              "      <td>150</td>\n",
              "      <td>150.0</td>\n",
              "      <td>0.435829</td>\n",
              "      <td>0.859416</td>\n",
              "    </tr>\n",
              "    <tr>\n",
              "      <th>...</th>\n",
              "      <td>...</td>\n",
              "      <td>...</td>\n",
              "      <td>...</td>\n",
              "      <td>...</td>\n",
              "      <td>...</td>\n",
              "      <td>...</td>\n",
              "      <td>...</td>\n",
              "      <td>...</td>\n",
              "      <td>...</td>\n",
              "      <td>...</td>\n",
              "      <td>...</td>\n",
              "      <td>...</td>\n",
              "      <td>...</td>\n",
              "      <td>...</td>\n",
              "      <td>...</td>\n",
              "      <td>...</td>\n",
              "      <td>...</td>\n",
              "      <td>...</td>\n",
              "      <td>...</td>\n",
              "    </tr>\n",
              "    <tr>\n",
              "      <th>39</th>\n",
              "      <td>11/26/20-151411</td>\n",
              "      <td>11/26/20-151546</td>\n",
              "      <td>94.442303</td>\n",
              "      <td>150</td>\n",
              "      <td>0.042195</td>\n",
              "      <td>0.997347</td>\n",
              "      <td>0.708254</td>\n",
              "      <td>0.843501</td>\n",
              "      <td>100</td>\n",
              "      <td>300</td>\n",
              "      <td>0.001</td>\n",
              "      <td>0.001</td>\n",
              "      <td>0.001</td>\n",
              "      <td>0.001</td>\n",
              "      <td>5</td>\n",
              "      <td>200</td>\n",
              "      <td>12.0</td>\n",
              "      <td>0.605240</td>\n",
              "      <td>0.859416</td>\n",
              "    </tr>\n",
              "    <tr>\n",
              "      <th>76</th>\n",
              "      <td>11/26/20-161120</td>\n",
              "      <td>11/26/20-161251</td>\n",
              "      <td>90.465961</td>\n",
              "      <td>150</td>\n",
              "      <td>0.062309</td>\n",
              "      <td>0.998011</td>\n",
              "      <td>0.695571</td>\n",
              "      <td>0.848806</td>\n",
              "      <td>100</td>\n",
              "      <td>300</td>\n",
              "      <td>0.001</td>\n",
              "      <td>0.010</td>\n",
              "      <td>0.001</td>\n",
              "      <td>0.001</td>\n",
              "      <td>4</td>\n",
              "      <td>200</td>\n",
              "      <td>40.0</td>\n",
              "      <td>0.611912</td>\n",
              "      <td>0.867374</td>\n",
              "    </tr>\n",
              "    <tr>\n",
              "      <th>20</th>\n",
              "      <td>11/26/20-144445</td>\n",
              "      <td>11/26/20-144621</td>\n",
              "      <td>95.745106</td>\n",
              "      <td>150</td>\n",
              "      <td>0.044579</td>\n",
              "      <td>0.996684</td>\n",
              "      <td>0.751276</td>\n",
              "      <td>0.840849</td>\n",
              "      <td>128</td>\n",
              "      <td>250</td>\n",
              "      <td>0.001</td>\n",
              "      <td>0.001</td>\n",
              "      <td>0.001</td>\n",
              "      <td>0.001</td>\n",
              "      <td>5</td>\n",
              "      <td>100</td>\n",
              "      <td>9.0</td>\n",
              "      <td>0.613047</td>\n",
              "      <td>0.859416</td>\n",
              "    </tr>\n",
              "    <tr>\n",
              "      <th>1</th>\n",
              "      <td>11/26/20-141749</td>\n",
              "      <td>11/26/20-141916</td>\n",
              "      <td>86.930616</td>\n",
              "      <td>150</td>\n",
              "      <td>0.043774</td>\n",
              "      <td>0.996684</td>\n",
              "      <td>0.729632</td>\n",
              "      <td>0.848806</td>\n",
              "      <td>128</td>\n",
              "      <td>250</td>\n",
              "      <td>0.001</td>\n",
              "      <td>0.001</td>\n",
              "      <td>0.001</td>\n",
              "      <td>0.001</td>\n",
              "      <td>5</td>\n",
              "      <td>150</td>\n",
              "      <td>12.0</td>\n",
              "      <td>0.618058</td>\n",
              "      <td>0.862069</td>\n",
              "    </tr>\n",
              "    <tr>\n",
              "      <th>18</th>\n",
              "      <td>11/26/20-144126</td>\n",
              "      <td>11/26/20-144306</td>\n",
              "      <td>99.180884</td>\n",
              "      <td>150</td>\n",
              "      <td>0.040598</td>\n",
              "      <td>0.998011</td>\n",
              "      <td>0.717844</td>\n",
              "      <td>0.840849</td>\n",
              "      <td>128</td>\n",
              "      <td>300</td>\n",
              "      <td>0.001</td>\n",
              "      <td>0.001</td>\n",
              "      <td>0.001</td>\n",
              "      <td>0.001</td>\n",
              "      <td>4</td>\n",
              "      <td>150</td>\n",
              "      <td>9.0</td>\n",
              "      <td>0.631580</td>\n",
              "      <td>0.870027</td>\n",
              "    </tr>\n",
              "  </tbody>\n",
              "</table>\n",
              "<p>129 rows × 19 columns</p>\n",
              "</div>"
            ],
            "text/plain": [
              "               start              end  ...  val_loss_optimal  val_acc_optimal\n",
              "9    11/26/20-142830  11/26/20-143005  ...          0.407674         0.867374\n",
              "114  11/26/20-170622  11/26/20-170749  ...          0.420034         0.870027\n",
              "15   11/26/20-143713  11/26/20-143840  ...          0.425144         0.870027\n",
              "30   11/26/20-150034  11/26/20-150204  ...          0.434456         0.867374\n",
              "32   11/26/20-150327  11/26/20-150509  ...          0.435829         0.859416\n",
              "..               ...              ...  ...               ...              ...\n",
              "39   11/26/20-151411  11/26/20-151546  ...          0.605240         0.859416\n",
              "76   11/26/20-161120  11/26/20-161251  ...          0.611912         0.867374\n",
              "20   11/26/20-144445  11/26/20-144621  ...          0.613047         0.859416\n",
              "1    11/26/20-141749  11/26/20-141916  ...          0.618058         0.862069\n",
              "18   11/26/20-144126  11/26/20-144306  ...          0.631580         0.870027\n",
              "\n",
              "[129 rows x 19 columns]"
            ]
          },
          "metadata": {
            "tags": []
          },
          "execution_count": 28
        }
      ]
    },
    {
      "cell_type": "code",
      "metadata": {
        "id": "eL60NhqPSbI6",
        "colab": {
          "base_uri": "https://localhost:8080/",
          "height": 531
        },
        "outputId": "f8c8831a-426b-4945-adb4-7cf9ecc7c9f3"
      },
      "source": [
        "hasil_LSTMCNN.sort_values('val_loss_optimal').head(10)"
      ],
      "execution_count": 29,
      "outputs": [
        {
          "output_type": "execute_result",
          "data": {
            "text/html": [
              "<div>\n",
              "<style scoped>\n",
              "    .dataframe tbody tr th:only-of-type {\n",
              "        vertical-align: middle;\n",
              "    }\n",
              "\n",
              "    .dataframe tbody tr th {\n",
              "        vertical-align: top;\n",
              "    }\n",
              "\n",
              "    .dataframe thead th {\n",
              "        text-align: right;\n",
              "    }\n",
              "</style>\n",
              "<table border=\"1\" class=\"dataframe\">\n",
              "  <thead>\n",
              "    <tr style=\"text-align: right;\">\n",
              "      <th></th>\n",
              "      <th>start</th>\n",
              "      <th>end</th>\n",
              "      <th>duration</th>\n",
              "      <th>round_epochs</th>\n",
              "      <th>loss</th>\n",
              "      <th>accuracy</th>\n",
              "      <th>val_loss</th>\n",
              "      <th>val_accuracy</th>\n",
              "      <th>embd_size</th>\n",
              "      <th>filter</th>\n",
              "      <th>l2_cnn</th>\n",
              "      <th>l2_dense</th>\n",
              "      <th>l2_ker</th>\n",
              "      <th>l2_rec</th>\n",
              "      <th>region_size</th>\n",
              "      <th>units</th>\n",
              "      <th>epochs_optimal</th>\n",
              "      <th>val_loss_optimal</th>\n",
              "      <th>val_acc_optimal</th>\n",
              "    </tr>\n",
              "  </thead>\n",
              "  <tbody>\n",
              "    <tr>\n",
              "      <th>9</th>\n",
              "      <td>11/26/20-142830</td>\n",
              "      <td>11/26/20-143005</td>\n",
              "      <td>95.003282</td>\n",
              "      <td>150</td>\n",
              "      <td>0.074862</td>\n",
              "      <td>0.994695</td>\n",
              "      <td>0.661949</td>\n",
              "      <td>0.862069</td>\n",
              "      <td>128</td>\n",
              "      <td>200</td>\n",
              "      <td>0.010</td>\n",
              "      <td>0.001</td>\n",
              "      <td>0.010</td>\n",
              "      <td>0.001</td>\n",
              "      <td>3</td>\n",
              "      <td>200</td>\n",
              "      <td>125.0</td>\n",
              "      <td>0.407674</td>\n",
              "      <td>0.867374</td>\n",
              "    </tr>\n",
              "    <tr>\n",
              "      <th>114</th>\n",
              "      <td>11/26/20-170622</td>\n",
              "      <td>11/26/20-170749</td>\n",
              "      <td>86.909899</td>\n",
              "      <td>150</td>\n",
              "      <td>0.067232</td>\n",
              "      <td>0.998674</td>\n",
              "      <td>0.761970</td>\n",
              "      <td>0.856764</td>\n",
              "      <td>100</td>\n",
              "      <td>200</td>\n",
              "      <td>0.010</td>\n",
              "      <td>0.001</td>\n",
              "      <td>0.010</td>\n",
              "      <td>0.001</td>\n",
              "      <td>3</td>\n",
              "      <td>150</td>\n",
              "      <td>145.0</td>\n",
              "      <td>0.420034</td>\n",
              "      <td>0.870027</td>\n",
              "    </tr>\n",
              "    <tr>\n",
              "      <th>15</th>\n",
              "      <td>11/26/20-143713</td>\n",
              "      <td>11/26/20-143840</td>\n",
              "      <td>86.567612</td>\n",
              "      <td>150</td>\n",
              "      <td>0.064540</td>\n",
              "      <td>0.996684</td>\n",
              "      <td>0.707626</td>\n",
              "      <td>0.848806</td>\n",
              "      <td>100</td>\n",
              "      <td>300</td>\n",
              "      <td>0.001</td>\n",
              "      <td>0.010</td>\n",
              "      <td>0.010</td>\n",
              "      <td>0.001</td>\n",
              "      <td>5</td>\n",
              "      <td>100</td>\n",
              "      <td>117.0</td>\n",
              "      <td>0.425144</td>\n",
              "      <td>0.870027</td>\n",
              "    </tr>\n",
              "    <tr>\n",
              "      <th>30</th>\n",
              "      <td>11/26/20-150034</td>\n",
              "      <td>11/26/20-150204</td>\n",
              "      <td>90.366581</td>\n",
              "      <td>150</td>\n",
              "      <td>0.065118</td>\n",
              "      <td>0.997347</td>\n",
              "      <td>0.599975</td>\n",
              "      <td>0.870027</td>\n",
              "      <td>100</td>\n",
              "      <td>250</td>\n",
              "      <td>0.010</td>\n",
              "      <td>0.001</td>\n",
              "      <td>0.010</td>\n",
              "      <td>0.001</td>\n",
              "      <td>3</td>\n",
              "      <td>150</td>\n",
              "      <td>89.0</td>\n",
              "      <td>0.434456</td>\n",
              "      <td>0.867374</td>\n",
              "    </tr>\n",
              "    <tr>\n",
              "      <th>32</th>\n",
              "      <td>11/26/20-150327</td>\n",
              "      <td>11/26/20-150509</td>\n",
              "      <td>101.474661</td>\n",
              "      <td>150</td>\n",
              "      <td>0.080727</td>\n",
              "      <td>0.994695</td>\n",
              "      <td>0.435829</td>\n",
              "      <td>0.859416</td>\n",
              "      <td>128</td>\n",
              "      <td>200</td>\n",
              "      <td>0.010</td>\n",
              "      <td>0.010</td>\n",
              "      <td>0.001</td>\n",
              "      <td>0.001</td>\n",
              "      <td>5</td>\n",
              "      <td>150</td>\n",
              "      <td>150.0</td>\n",
              "      <td>0.435829</td>\n",
              "      <td>0.859416</td>\n",
              "    </tr>\n",
              "    <tr>\n",
              "      <th>71</th>\n",
              "      <td>11/26/20-160343</td>\n",
              "      <td>11/26/20-160524</td>\n",
              "      <td>101.207965</td>\n",
              "      <td>150</td>\n",
              "      <td>0.058553</td>\n",
              "      <td>0.998011</td>\n",
              "      <td>0.627119</td>\n",
              "      <td>0.856764</td>\n",
              "      <td>128</td>\n",
              "      <td>300</td>\n",
              "      <td>0.001</td>\n",
              "      <td>0.001</td>\n",
              "      <td>0.010</td>\n",
              "      <td>0.001</td>\n",
              "      <td>4</td>\n",
              "      <td>150</td>\n",
              "      <td>117.0</td>\n",
              "      <td>0.436340</td>\n",
              "      <td>0.854111</td>\n",
              "    </tr>\n",
              "    <tr>\n",
              "      <th>102</th>\n",
              "      <td>11/26/20-164932</td>\n",
              "      <td>11/26/20-165103</td>\n",
              "      <td>90.251105</td>\n",
              "      <td>150</td>\n",
              "      <td>0.057083</td>\n",
              "      <td>0.996684</td>\n",
              "      <td>0.815934</td>\n",
              "      <td>0.843501</td>\n",
              "      <td>100</td>\n",
              "      <td>250</td>\n",
              "      <td>0.010</td>\n",
              "      <td>0.001</td>\n",
              "      <td>0.001</td>\n",
              "      <td>0.001</td>\n",
              "      <td>3</td>\n",
              "      <td>200</td>\n",
              "      <td>55.0</td>\n",
              "      <td>0.437216</td>\n",
              "      <td>0.870027</td>\n",
              "    </tr>\n",
              "    <tr>\n",
              "      <th>40</th>\n",
              "      <td>11/26/20-151546</td>\n",
              "      <td>11/26/20-151703</td>\n",
              "      <td>77.247331</td>\n",
              "      <td>150</td>\n",
              "      <td>0.055273</td>\n",
              "      <td>0.996021</td>\n",
              "      <td>0.749732</td>\n",
              "      <td>0.851459</td>\n",
              "      <td>64</td>\n",
              "      <td>300</td>\n",
              "      <td>0.001</td>\n",
              "      <td>0.001</td>\n",
              "      <td>0.010</td>\n",
              "      <td>0.001</td>\n",
              "      <td>3</td>\n",
              "      <td>100</td>\n",
              "      <td>123.0</td>\n",
              "      <td>0.437681</td>\n",
              "      <td>0.854111</td>\n",
              "    </tr>\n",
              "    <tr>\n",
              "      <th>88</th>\n",
              "      <td>11/26/20-162835</td>\n",
              "      <td>11/26/20-163012</td>\n",
              "      <td>96.814266</td>\n",
              "      <td>150</td>\n",
              "      <td>0.077918</td>\n",
              "      <td>0.996684</td>\n",
              "      <td>0.622561</td>\n",
              "      <td>0.859416</td>\n",
              "      <td>128</td>\n",
              "      <td>250</td>\n",
              "      <td>0.010</td>\n",
              "      <td>0.001</td>\n",
              "      <td>0.001</td>\n",
              "      <td>0.001</td>\n",
              "      <td>3</td>\n",
              "      <td>150</td>\n",
              "      <td>58.0</td>\n",
              "      <td>0.437837</td>\n",
              "      <td>0.864721</td>\n",
              "    </tr>\n",
              "    <tr>\n",
              "      <th>91</th>\n",
              "      <td>11/26/20-163321</td>\n",
              "      <td>11/26/20-163444</td>\n",
              "      <td>82.896852</td>\n",
              "      <td>150</td>\n",
              "      <td>0.124301</td>\n",
              "      <td>0.994695</td>\n",
              "      <td>0.706182</td>\n",
              "      <td>0.856764</td>\n",
              "      <td>64</td>\n",
              "      <td>300</td>\n",
              "      <td>0.010</td>\n",
              "      <td>0.010</td>\n",
              "      <td>0.010</td>\n",
              "      <td>0.001</td>\n",
              "      <td>3</td>\n",
              "      <td>200</td>\n",
              "      <td>147.0</td>\n",
              "      <td>0.438177</td>\n",
              "      <td>0.862069</td>\n",
              "    </tr>\n",
              "  </tbody>\n",
              "</table>\n",
              "</div>"
            ],
            "text/plain": [
              "               start              end  ...  val_loss_optimal  val_acc_optimal\n",
              "9    11/26/20-142830  11/26/20-143005  ...          0.407674         0.867374\n",
              "114  11/26/20-170622  11/26/20-170749  ...          0.420034         0.870027\n",
              "15   11/26/20-143713  11/26/20-143840  ...          0.425144         0.870027\n",
              "30   11/26/20-150034  11/26/20-150204  ...          0.434456         0.867374\n",
              "32   11/26/20-150327  11/26/20-150509  ...          0.435829         0.859416\n",
              "71   11/26/20-160343  11/26/20-160524  ...          0.436340         0.854111\n",
              "102  11/26/20-164932  11/26/20-165103  ...          0.437216         0.870027\n",
              "40   11/26/20-151546  11/26/20-151703  ...          0.437681         0.854111\n",
              "88   11/26/20-162835  11/26/20-163012  ...          0.437837         0.864721\n",
              "91   11/26/20-163321  11/26/20-163444  ...          0.438177         0.862069\n",
              "\n",
              "[10 rows x 19 columns]"
            ]
          },
          "metadata": {
            "tags": []
          },
          "execution_count": 29
        }
      ]
    },
    {
      "cell_type": "code",
      "metadata": {
        "id": "pbesTuTF54IS"
      },
      "source": [
        ""
      ],
      "execution_count": null,
      "outputs": []
    }
  ]
}